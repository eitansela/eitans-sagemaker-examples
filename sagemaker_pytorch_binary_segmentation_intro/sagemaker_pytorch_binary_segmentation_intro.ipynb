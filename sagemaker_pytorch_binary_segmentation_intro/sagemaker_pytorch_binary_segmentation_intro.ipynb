{
 "cells": [
  {
   "cell_type": "markdown",
   "id": "f460ac39",
   "metadata": {},
   "source": [
    "# SageMaker PyTorch binary segmentation intro\n",
    "\n",
    "Automatic model tuning, also known as hyperparameter tuning, finds the best version of a model by running many jobs that test a range of hyperparameters on your dataset. You choose the tunable hyperparameters, a range of values for each, and an objective metric. You choose the objective metric from the metrics that the algorithm computes. Automatic model tuning searches the hyperparameters chosen to find the combination of values that result in the model that optimizes the objective metric.\n",
    "\n",
    "## Introduction\n",
    "\n",
    "This notebook demonstrates the use of the [PyTorch Segmentation models with pretrained backbones](https://github.com/qubvel/segmentation_models.pytorch) - Python library with Neural Networks for Image Segmentation based on [PyTorch](https://pytorch.org/).\n",
    "\n",
    "The main features of this library are:\n",
    "\n",
    "- High level API (just two lines to create a neural network)\n",
    "- 9 models architectures for binary and multi class segmentation (including legendary Unet)\n",
    "- 124 available encoders (and 500+ encoders from timm)\n",
    "- All encoders have pre-trained weights for faster and better convergence\n",
    "- Popular metrics and losses for training routines\n",
    "\n",
    "This notebook shows how to use `segmentation-models-pytorch` for **binary** semantic segmentation. We will use the [The Oxford-IIIT Pet Dataset](https://www.robots.ox.ac.uk/~vgg/data/pets/) (this is an adopted example from Albumentations package [docs](https://albumentations.ai/docs/examples/pytorch_semantic_segmentation/), which is strongly recommended to read, especially if you never used this package for augmentations before)."
   ]
  },
  {
   "cell_type": "code",
   "execution_count": null,
   "id": "96d8c919",
   "metadata": {
    "tags": []
   },
   "outputs": [],
   "source": [
    "!pip install sagemaker -U"
   ]
  },
  {
   "cell_type": "code",
   "execution_count": null,
   "id": "c5b9edc8",
   "metadata": {
    "tags": []
   },
   "outputs": [],
   "source": [
    "from sagemaker.pytorch import PyTorch\n",
    "from datetime import datetime\n",
    "import sagemaker\n",
    "\n",
    "sess = sagemaker.Session()\n",
    "\n",
    "# Define IAM role\n",
    "import boto3\n",
    "import re\n",
    "from sagemaker import get_execution_role\n",
    "\n",
    "role = get_execution_role()\n",
    "\n",
    "print(f\"Using SageMaker version {sagemaker.__version__}\")\n",
    "print(f\"Using boto3 version {boto3.__version__}\")"
   ]
  },
  {
   "cell_type": "code",
   "execution_count": null,
   "id": "31675c1f",
   "metadata": {
    "tags": []
   },
   "outputs": [],
   "source": [
    "training_dataset_s3_path = \"s3://aws-ml-blog/artifacts/amazon-sagemaker-binary-segmentation-intro/oxford-pet-dataset\""
   ]
  },
  {
   "cell_type": "code",
   "execution_count": null,
   "id": "bedc014f",
   "metadata": {
    "tags": []
   },
   "outputs": [],
   "source": [
    "!aws s3 ls {training_dataset_s3_path}/"
   ]
  },
  {
   "cell_type": "markdown",
   "id": "46107a18-f108-4ea1-9e34-9ad6dca9bd13",
   "metadata": {},
   "source": [
    "## Launching a training job with the Python SDK"
   ]
  },
  {
   "cell_type": "code",
   "execution_count": null,
   "id": "17595354-2976-44ab-9326-08c6173661be",
   "metadata": {
    "tags": []
   },
   "outputs": [],
   "source": [
    "metric_definitions = [\n",
    "    {'Name': 'test_dataset_iou', 'Regex': 'test_dataset_iou: ([0-9.]+).*$'},\n",
    "    {'Name': 'test_per_image_iou', 'Regex': 'test_per_image_iou: ([0-9.]+).*$'},\n",
    "]"
   ]
  },
  {
   "cell_type": "code",
   "execution_count": null,
   "id": "766bc26e",
   "metadata": {
    "tags": []
   },
   "outputs": [],
   "source": [
    "estimator = PyTorch(entry_point='train.py',\n",
    "                        source_dir='./code',\n",
    "                        role=role,\n",
    "                        framework_version='1.10',\n",
    "                        py_version='py38',\n",
    "                        instance_count=1,\n",
    "                        instance_type='ml.g5.2xlarge',\n",
    "                        # keep_alive_period_in_seconds=3600,\n",
    "                        metric_definitions=metric_definitions,\n",
    "                        hyperparameters={\n",
    "                            'epochs': 1,\n",
    "                            'arch': \"DeepLabV3Plus\" ## Unet | FPN | DeepLabV3 | DeepLabV3Plus | Unet \\ UnetPlusPlus\n",
    "                        })\n",
    "estimator.fit({\"training\": training_dataset_s3_path}, logs=True)"
   ]
  },
  {
   "cell_type": "markdown",
   "id": "cbbfb828-75c5-4227-8d93-6224d4cd5dc6",
   "metadata": {},
   "source": [
    "## Launching a tuning job with the Python SDK"
   ]
  },
  {
   "cell_type": "code",
   "execution_count": null,
   "id": "c8f3a27c-e6c1-442a-ae44-38b4ca9e7e47",
   "metadata": {
    "tags": []
   },
   "outputs": [],
   "source": [
    "hpo_estimator = PyTorch(entry_point='train.py',\n",
    "                        source_dir='./code',\n",
    "                        role=role,\n",
    "                        framework_version='1.10',\n",
    "                        py_version='py38',\n",
    "                        instance_count=1,\n",
    "                        instance_type='ml.g5.2xlarge',\n",
    "                        metric_definitions=metric_definitions\n",
    "                        )"
   ]
  },
  {
   "cell_type": "code",
   "execution_count": null,
   "id": "2a8cbf58",
   "metadata": {},
   "outputs": [],
   "source": [
    "from sagemaker.tuner import (\n",
    "    IntegerParameter,\n",
    "    CategoricalParameter,\n",
    "    ContinuousParameter,\n",
    "    HyperparameterTuner,\n",
    ")\n",
    "\n",
    "hyperparameter_ranges = {\n",
    "    \"epochs\": IntegerParameter(5, 20),\n",
    "    \"lr\": ContinuousParameter(1e-4, 1e-3),\n",
    "    \"arch\": CategoricalParameter([\"FPN\", \n",
    "                                  \"DeepLabV3\", \n",
    "                                  \"DeepLabV3Plus\", \n",
    "                                  \"Unet\", \n",
    "                                  \"UnetPlusPlus\", \n",
    "                                  \"Linknet\", \n",
    "                                  \"PSPNet\", \n",
    "                                  \"PAN\"])\n",
    "}"
   ]
  },
  {
   "cell_type": "code",
   "execution_count": null,
   "id": "6174ad4a",
   "metadata": {},
   "outputs": [],
   "source": [
    "objective_metric_name = \"test_dataset_iou\"\n",
    "objective_type = \"Maximize\"\n",
    "hpo_metric_definitions = [\n",
    "    {'Name': 'test_dataset_iou', 'Regex': 'test_dataset_iou: ([0-9.]+).*$'},\n",
    "]"
   ]
  },
  {
   "cell_type": "code",
   "execution_count": null,
   "id": "31c005dd-80e7-4f9a-82ee-cea4c2733cde",
   "metadata": {
    "tags": []
   },
   "outputs": [],
   "source": [
    "tuner = HyperparameterTuner(\n",
    "    hpo_estimator,\n",
    "    objective_metric_name,\n",
    "    hyperparameter_ranges,\n",
    "    hpo_metric_definitions,\n",
    "    max_jobs=24,\n",
    "    max_parallel_jobs=4,\n",
    "    objective_type=objective_type,\n",
    ")"
   ]
  },
  {
   "cell_type": "code",
   "execution_count": null,
   "id": "70e4564c-a875-4b62-8665-d1dbef5cff16",
   "metadata": {
    "tags": []
   },
   "outputs": [],
   "source": [
    "tuner.fit({\"training\": training_dataset_s3_path})"
   ]
  },
  {
   "cell_type": "markdown",
   "id": "1ea377b9-4369-4165-aec2-5c781a78da21",
   "metadata": {},
   "source": [
    "## Get tuner results in a dataframe"
   ]
  },
  {
   "cell_type": "code",
   "execution_count": null,
   "id": "789e2b55-8ae1-4194-9f82-3cd9e346acd0",
   "metadata": {},
   "outputs": [],
   "source": [
    "import pandas as pd\n",
    "\n",
    "full_df = tuner.analytics().dataframe()\n",
    "full_df.head()"
   ]
  },
  {
   "cell_type": "code",
   "execution_count": null,
   "id": "728b1e38-13b6-47fe-af1a-03786dc58eaf",
   "metadata": {},
   "outputs": [],
   "source": [
    "if len(full_df) > 0:\n",
    "    df = full_df[full_df[\"FinalObjectiveValue\"] > -float(\"inf\")]\n",
    "    if len(df) > 0:\n",
    "        df = df.sort_values(\"FinalObjectiveValue\", ascending=False)\n",
    "        print(\"Number of training jobs with valid objective: %d\" % len(df))\n",
    "        print({\"lowest\": min(df[\"FinalObjectiveValue\"]), \"highest\": max(df[\"FinalObjectiveValue\"])})\n",
    "        pd.set_option(\"display.max_colwidth\", -1)  # Don't truncate TrainingJobName\n",
    "    else:\n",
    "        print(\"No training jobs have reported valid results yet.\")\n",
    "\n",
    "df"
   ]
  },
  {
   "cell_type": "code",
   "execution_count": null,
   "id": "cd29682b-7202-4241-ab1d-ccc9bfcaaafe",
   "metadata": {},
   "outputs": [],
   "source": []
  }
 ],
 "metadata": {
  "instance_type": "ml.t3.medium",
  "kernelspec": {
   "display_name": "Python 3",
   "language": "python",
   "name": "python3"
  },
  "language_info": {
   "codemirror_mode": {
    "name": "ipython",
    "version": 3
   },
   "file_extension": ".py",
   "mimetype": "text/x-python",
   "name": "python",
   "nbconvert_exporter": "python",
   "pygments_lexer": "ipython3",
   "version": "3.9.12"
  },
  "vscode": {
   "interpreter": {
    "hash": "bd01d8a33ae048de921784525e60c8784d22ac368cf7370d33c1ec56f2410197"
   }
  }
 },
 "nbformat": 4,
 "nbformat_minor": 5
}
