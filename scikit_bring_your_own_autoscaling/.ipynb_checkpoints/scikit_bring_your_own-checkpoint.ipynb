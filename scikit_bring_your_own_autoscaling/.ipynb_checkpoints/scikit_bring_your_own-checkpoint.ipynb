{
 "cells": [
  {
   "cell_type": "markdown",
   "metadata": {},
   "source": [
    "# Building and Auto Scaling your own algorithm container (SageMaker Studio)\n",
    "\n",
    "In this notebook, we'll show how to package a simple Python example which showcases the [decision tree](https://scikit-learn.org/stable/modules/tree.html) algorithm from the widely used [scikit-learn](https://scikit-learn.org/stable/index.html) machine learning package. The example is purposefully fairly trivial since the point is to show the surrounding structure that you'll want to add to your own code so you can train and host it in Amazon SageMaker.\n",
    "\n",
    "The ideas shown here will work in any language or environment. You'll need to choose the right tools for your environment to serve HTTP requests for inference, but good HTTP environments are available in every language these days.\n",
    "Then, we add autoscaling for the model with the Application Auto Scaling API. We will first register the model, then we will define an autoscaling policy.\n",
    "\n",
    "In this example, we use a single image to support training and hosting. This is easy because it means that we only need to manage one image and we can set it up to do everything. Sometimes you'll want separate images for training and hosting because they have different requirements. Just separate the parts discussed below into separate Dockerfiles and build two images. Choosing whether to have a single image or two images is really a matter of which is more convenient for you to develop and manage.\n",
    "\n",
    "If you're only using Amazon SageMaker for training or hosting, but not both, there is no need to build the unused functionality into your container."
   ]
  },
  {
   "cell_type": "markdown",
   "metadata": {},
   "source": [
    "## Part 1: Packaging and Uploading your Algorithm for use with Amazon SageMaker\n",
    "\n",
    "### An overview of Docker\n",
    "\n",
    "If you're familiar with Docker already, you can skip ahead to the next section.\n",
    "\n",
    "For many data scientists, Docker containers are a new concept, but they are not difficult, as you'll see here. \n",
    "\n",
    "Docker provides a simple way to package arbitrary code into an _image_ that is totally self-contained. Once you have an image, you can use Docker to run a _container_ based on that image. Running a container is just like running a program on the machine except that the container creates a fully self-contained environment for the program to run. Containers are isolated from each other and from the host environment, so the way you set up your program is the way it runs, no matter where you run it.\n",
    "\n",
    "Docker is more powerful than environment managers like conda or virtualenv because (a) it is completely language independent and (b) it comprises your whole operating environment, including startup commands, environment variable, etc.\n",
    "\n",
    "In some ways, a Docker container is like a virtual machine, but it is much lighter weight. For example, a program running in a container can start in less than a second and many containers can run on the same physical machine or virtual machine instance.\n",
    "\n",
    "Docker uses a simple file called a `Dockerfile` to specify how the image is assembled. We'll see an example of that below. You can build your Docker images based on Docker images built by yourself or others, which can simplify things quite a bit.\n",
    "\n",
    "Docker has become very popular in the programming and devops communities for its flexibility and well-defined specification of the code to be run. It is the underpinning of many services built in the past few years, such as [Amazon ECS].\n",
    "\n",
    "Amazon SageMaker uses Docker to allow users to train and deploy arbitrary algorithms.\n",
    "\n",
    "In Amazon SageMaker, Docker containers are invoked in a certain way for training and a slightly different way for hosting. The following sections outline how to build containers for the SageMaker environment.\n",
    "\n",
    "Some helpful links:\n",
    "\n",
    "* [Docker home page](http://www.docker.com)\n",
    "* [Getting started with Docker](https://docs.docker.com/get-started/)\n",
    "* [Dockerfile reference](https://docs.docker.com/engine/reference/builder/)\n",
    "* [`docker run` reference](https://docs.docker.com/engine/reference/run/)\n",
    "\n",
    "[Amazon ECS]: https://aws.amazon.com/ecs/\n",
    "\n",
    "### How Amazon SageMaker runs your Docker container\n",
    "\n",
    "Because you can run the same image in training or hosting, Amazon SageMaker runs your container with the argument `train` or `serve`. How your container processes this argument depends on the container:\n",
    "\n",
    "* In the example here, we don't define an `ENTRYPOINT` in the Dockerfile so Docker will run the command `train` at training time and `serve` at serving time. In this example, we define these as executable Python scripts, but they could be any program that we want to start in that environment.\n",
    "* If you specify a program as an `ENTRYPOINT` in the Dockerfile, that program will be run at startup and its first argument will be `train` or `serve`. The program can then look at that argument and decide what to do.\n",
    "* If you are building separate containers for training and hosting (or building only for one or the other), you can define a program as an `ENTRYPOINT` in the Dockerfile and ignore (or verify) the first argument passed in. \n",
    "\n",
    "#### Running your container during training\n",
    "\n",
    "When Amazon SageMaker runs training, your `train` script is run just like a regular Python program. A number of files are laid out for your use, under the `/opt/ml` directory:\n",
    "\n",
    "    /opt/ml\n",
    "    |-- input\n",
    "    |   |-- config\n",
    "    |   |   |-- hyperparameters.json\n",
    "    |   |   `-- resourceConfig.json\n",
    "    |   `-- data\n",
    "    |       `-- <channel_name>\n",
    "    |           `-- <input data>\n",
    "    |-- model\n",
    "    |   `-- <model files>\n",
    "    `-- output\n",
    "        `-- failure\n",
    "\n",
    "##### The input\n",
    "\n",
    "* `/opt/ml/input/config` contains information to control how your program runs. `hyperparameters.json` is a JSON-formatted dictionary of hyperparameter names to values. These values will always be strings, so you may need to convert them. `resourceConfig.json` is a JSON-formatted file that describes the network layout used for distributed training. Since scikit-learn doesn't support distributed training, we'll ignore it here.\n",
    "* `/opt/ml/input/data/<channel_name>/` (for File mode) contains the input data for that channel. The channels are created based on the call to CreateTrainingJob but it's generally important that channels match what the algorithm expects. The files for each channel will be copied from S3 to this directory, preserving the tree structure indicated by the S3 key structure. \n",
    "* `/opt/ml/input/data/<channel_name>_<epoch_number>` (for Pipe mode) is the pipe for a given epoch. Epochs start at zero and go up by one each time you read them. There is no limit to the number of epochs that you can run, but you must close each pipe before reading the next epoch.\n",
    "\n",
    "##### The output\n",
    "\n",
    "* `/opt/ml/model/` is the directory where you write the model that your algorithm generates. Your model can be in any format that you want. It can be a single file or a whole directory tree. SageMaker will package any files in this directory into a compressed tar archive file. This file will be available at the S3 location returned in the `DescribeTrainingJob` result.\n",
    "* `/opt/ml/output` is a directory where the algorithm can write a file `failure` that describes why the job failed. The contents of this file will be returned in the `FailureReason` field of the `DescribeTrainingJob` result. For jobs that succeed, there is no reason to write this file as it will be ignored.\n",
    "\n",
    "#### Running your container during hosting\n",
    "\n",
    "Hosting has a very different model than training because hosting is responding to inference requests that come in via HTTP. In this example, we use our recommended Python serving stack to provide robust and scalable serving of inference requests:\n",
    "\n",
    "![Request serving stack](stack.png)\n",
    "\n",
    "This stack is implemented in the sample code here and you can mostly just leave it alone. \n",
    "\n",
    "Amazon SageMaker uses two URLs in the container:\n",
    "\n",
    "* `/ping` will receive `GET` requests from the infrastructure. Your program returns 200 if the container is up and accepting requests.\n",
    "* `/invocations` is the endpoint that receives client inference `POST` requests. The format of the request and the response is up to the algorithm. If the client supplied `ContentType` and `Accept` headers, these will be passed in as well. \n",
    "\n",
    "The container will have the model files in the same place they were written during training:\n",
    "\n",
    "    /opt/ml\n",
    "    `-- model\n",
    "        `-- <model files>\n",
    "\n"
   ]
  },
  {
   "cell_type": "markdown",
   "metadata": {},
   "source": [
    "### The parts of the sample container\n",
    "\n",
    "In the `container` directory are all the components you need to package the sample algorithm for Amazon SageMager:\n",
    "\n",
    "    .\n",
    "    |-- Dockerfile\n",
    "    |-- build_and_push.sh\n",
    "    `-- decision_trees\n",
    "        |-- nginx.conf\n",
    "        |-- predictor.py\n",
    "        |-- serve\n",
    "        |-- train\n",
    "        `-- wsgi.py\n",
    "\n",
    "Let's discuss each of these in turn:\n",
    "\n",
    "* __`Dockerfile`__ describes how to build your Docker container image. More details below.\n",
    "* __`build_and_push.sh`__ is a script that uses the Dockerfile to build your container images and then pushes it to ECR. We'll invoke the commands directly later in this notebook, but you can just copy and run the script for your own algorithms.\n",
    "* __`decision_trees`__ is the directory which contains the files that will be installed in the container.\n",
    "* __`local_test`__ is a directory that shows how to test your new container on any computer that can run Docker, including an Amazon SageMaker notebook instance. Using this method, you can quickly iterate using small datasets to eliminate any structural bugs before you use the container with Amazon SageMaker. We'll walk through local testing later in this notebook.\n",
    "\n",
    "In this simple application, we only install five files in the container. You may only need that many or, if you have many supporting routines, you may wish to install more. These five show the standard structure of our Python containers, although you are free to choose a different toolset and therefore could have a different layout. If you're writing in a different programming language, you'll certainly have a different layout depending on the frameworks and tools you choose.\n",
    "\n",
    "The files that we'll put in the container are:\n",
    "\n",
    "* __`nginx.conf`__ is the configuration file for the nginx front-end. Generally, you should be able to take this file as-is.\n",
    "* __`predictor.py`__ is the program that actually implements the Flask web server and the decision tree predictions for this app. You'll want to customize the actual prediction parts to your application. Since this algorithm is simple, we do all the processing here in this file, but you may choose to have separate files for implementing your custom logic.\n",
    "* __`serve`__ is the program started when the container is started for hosting. It simply launches the gunicorn server which runs multiple instances of the Flask app defined in `predictor.py`. You should be able to take this file as-is.\n",
    "* __`train`__ is the program that is invoked when the container is run for training. You will modify this program to implement your training algorithm.\n",
    "* __`wsgi.py`__ is a small wrapper used to invoke the Flask app. You should be able to take this file as-is.\n",
    "\n",
    "In summary, the two files you will probably want to change for your application are `train` and `predictor.py`."
   ]
  },
  {
   "cell_type": "markdown",
   "metadata": {},
   "source": [
    "### The Dockerfile\n",
    "\n",
    "The Dockerfile describes the image that we want to build. You can think of it as describing the complete operating system installation of the system that you want to run. A Docker container running is quite a bit lighter than a full operating system, however, because it takes advantage of Linux on the host machine for the basic operations. \n",
    "\n",
    "For the Python science stack, we will start from a standard Ubuntu installation and run the normal tools to install the things needed by scikit-learn. Finally, we add the code that implements our specific algorithm to the container and set up the right environment to run under.\n",
    "\n",
    "Along the way, we clean up extra space. This makes the container smaller and faster to start.\n",
    "\n",
    "Let's look at the Dockerfile for the example:"
   ]
  },
  {
   "cell_type": "code",
   "execution_count": 10,
   "metadata": {},
   "outputs": [
    {
     "name": "stdout",
     "output_type": "stream",
     "text": [
      "# Build an image that can do training and inference in SageMaker\n",
      "# This is a Python 3 image that uses the nginx, gunicorn, flask stack\n",
      "# for serving inferences in a stable way.\n",
      "\n",
      "FFROM python:3.7-slim-buster\n",
      "\n",
      "RUN apt-get -y update && apt-get install -y --no-install-recommends \\\n",
      "         wget \\\n",
      "         nginx \\\n",
      "         ca-certificates\n",
      "\n",
      "# Here we get all python packages.\n",
      "# There's substantial overlap between scipy and numpy that we eliminate by\n",
      "# linking them together. Likewise, pip leaves the install caches populated which uses\n",
      "# a significant amount of space. These optimizations save a fair amount of space in the\n",
      "# image, which reduces start up time.\n",
      "RUN pip --no-cache-dir install numpy==1.16.2 scipy==1.2.1 scikit-learn==0.20.2 pandas flask gunicorn\n",
      "\n",
      "# Set some environment variables. PYTHONUNBUFFERED keeps Python from buffering our standard\n",
      "# output stream, which means that logs can be delivered to the user quickly. PYTHONDONTWRITEBYTECODE\n",
      "# keeps Python from writing the .pyc files which are unnecessary in this case. We also update\n",
      "# PATH so that the train and serve programs are found when the container is invoked.\n",
      "\n",
      "ENV PYTHONUNBUFFERED=TRUE\n",
      "ENV PYTHONDONTWRITEBYTECODE=TRUE\n",
      "ENV PATH=\"/opt/program:${PATH}\"\n",
      "\n",
      "# Set up the program in the image\n",
      "COPY decision_trees /opt/program\n",
      "WORKDIR /opt/program\n",
      "\n"
     ]
    }
   ],
   "source": [
    "!cat container/Dockerfile"
   ]
  },
  {
   "cell_type": "markdown",
   "metadata": {},
   "source": [
    "### Building and registering the container\n",
    "\n",
    "Let's install the [SageMaker Docker Build](https://github.com/aws-samples/sagemaker-studio-image-build-cli) - a CLI for building Docker images in SageMaker Studio using AWS CodeBuild."
   ]
  },
  {
   "cell_type": "code",
   "execution_count": 11,
   "metadata": {},
   "outputs": [
    {
     "name": "stdout",
     "output_type": "stream",
     "text": [
      "/opt/conda/lib/python3.7/site-packages/secretstorage/dhcrypto.py:16: CryptographyDeprecationWarning: int_from_bytes is deprecated, use int.from_bytes instead\n",
      "  from cryptography.utils import int_from_bytes\n",
      "/opt/conda/lib/python3.7/site-packages/secretstorage/util.py:25: CryptographyDeprecationWarning: int_from_bytes is deprecated, use int.from_bytes instead\n",
      "  from cryptography.utils import int_from_bytes\n",
      "Looking in indexes: https://pypi.org/simple, https://pypi.ngc.nvidia.com\n",
      "Collecting sagemaker-studio-image-build\n",
      "  Downloading sagemaker_studio_image_build-0.6.0.tar.gz (13 kB)\n",
      "  Preparing metadata (setup.py) ... \u001b[?25ldone\n",
      "\u001b[?25hRequirement already satisfied: boto3<2.0,>=1.10.44 in /opt/conda/lib/python3.7/site-packages (from sagemaker-studio-image-build) (1.21.24)\n",
      "Requirement already satisfied: sagemaker<3.0 in /opt/conda/lib/python3.7/site-packages (from sagemaker-studio-image-build) (2.80.0)\n",
      "Requirement already satisfied: s3transfer<0.6.0,>=0.5.0 in /opt/conda/lib/python3.7/site-packages (from boto3<2.0,>=1.10.44->sagemaker-studio-image-build) (0.5.0)\n",
      "Requirement already satisfied: jmespath<2.0.0,>=0.7.1 in /opt/conda/lib/python3.7/site-packages (from boto3<2.0,>=1.10.44->sagemaker-studio-image-build) (0.10.0)\n",
      "Requirement already satisfied: botocore<1.25.0,>=1.24.24 in /opt/conda/lib/python3.7/site-packages (from boto3<2.0,>=1.10.44->sagemaker-studio-image-build) (1.24.24)\n",
      "Requirement already satisfied: protobuf>=3.1 in /opt/conda/lib/python3.7/site-packages (from sagemaker<3.0->sagemaker-studio-image-build) (3.19.1)\n",
      "Requirement already satisfied: smdebug-rulesconfig==1.0.1 in /opt/conda/lib/python3.7/site-packages (from sagemaker<3.0->sagemaker-studio-image-build) (1.0.1)\n",
      "Requirement already satisfied: attrs==20.3.0 in /opt/conda/lib/python3.7/site-packages (from sagemaker<3.0->sagemaker-studio-image-build) (20.3.0)\n",
      "Requirement already satisfied: numpy>=1.9.0 in /opt/conda/lib/python3.7/site-packages (from sagemaker<3.0->sagemaker-studio-image-build) (1.21.5)\n",
      "Requirement already satisfied: pathos in /opt/conda/lib/python3.7/site-packages (from sagemaker<3.0->sagemaker-studio-image-build) (0.2.8)\n",
      "Requirement already satisfied: protobuf3-to-dict>=0.1.5 in /opt/conda/lib/python3.7/site-packages (from sagemaker<3.0->sagemaker-studio-image-build) (0.1.5)\n",
      "Requirement already satisfied: google-pasta in /opt/conda/lib/python3.7/site-packages (from sagemaker<3.0->sagemaker-studio-image-build) (0.2.0)\n",
      "Requirement already satisfied: pandas in /opt/conda/lib/python3.7/site-packages (from sagemaker<3.0->sagemaker-studio-image-build) (1.3.5)\n",
      "Requirement already satisfied: importlib-metadata>=1.4.0 in /opt/conda/lib/python3.7/site-packages (from sagemaker<3.0->sagemaker-studio-image-build) (1.5.0)\n",
      "Requirement already satisfied: packaging>=20.0 in /opt/conda/lib/python3.7/site-packages (from sagemaker<3.0->sagemaker-studio-image-build) (20.1)\n",
      "Requirement already satisfied: python-dateutil<3.0.0,>=2.1 in /opt/conda/lib/python3.7/site-packages (from botocore<1.25.0,>=1.24.24->boto3<2.0,>=1.10.44->sagemaker-studio-image-build) (2.8.1)\n",
      "Requirement already satisfied: urllib3<1.27,>=1.25.4 in /opt/conda/lib/python3.7/site-packages (from botocore<1.25.0,>=1.24.24->boto3<2.0,>=1.10.44->sagemaker-studio-image-build) (1.26.7)\n",
      "Requirement already satisfied: zipp>=0.5 in /opt/conda/lib/python3.7/site-packages (from importlib-metadata>=1.4.0->sagemaker<3.0->sagemaker-studio-image-build) (2.2.0)\n",
      "Requirement already satisfied: pyparsing>=2.0.2 in /opt/conda/lib/python3.7/site-packages (from packaging>=20.0->sagemaker<3.0->sagemaker-studio-image-build) (2.4.6)\n",
      "Requirement already satisfied: six in /opt/conda/lib/python3.7/site-packages (from packaging>=20.0->sagemaker<3.0->sagemaker-studio-image-build) (1.14.0)\n",
      "Requirement already satisfied: pytz>=2017.3 in /opt/conda/lib/python3.7/site-packages (from pandas->sagemaker<3.0->sagemaker-studio-image-build) (2019.3)\n",
      "Requirement already satisfied: pox>=0.3.0 in /opt/conda/lib/python3.7/site-packages (from pathos->sagemaker<3.0->sagemaker-studio-image-build) (0.3.0)\n",
      "Requirement already satisfied: ppft>=1.6.6.4 in /opt/conda/lib/python3.7/site-packages (from pathos->sagemaker<3.0->sagemaker-studio-image-build) (1.6.6.4)\n",
      "Requirement already satisfied: multiprocess>=0.70.12 in /opt/conda/lib/python3.7/site-packages (from pathos->sagemaker<3.0->sagemaker-studio-image-build) (0.70.12.2)\n",
      "Requirement already satisfied: dill>=0.3.4 in /opt/conda/lib/python3.7/site-packages (from pathos->sagemaker<3.0->sagemaker-studio-image-build) (0.3.4)\n",
      "Building wheels for collected packages: sagemaker-studio-image-build\n",
      "  Building wheel for sagemaker-studio-image-build (setup.py) ... \u001b[?25ldone\n",
      "\u001b[?25h  Created wheel for sagemaker-studio-image-build: filename=sagemaker_studio_image_build-0.6.0-py3-none-any.whl size=13469 sha256=3b1dfebabc60b907d9f4ade89425724ea0f290b9c8bd4eba8b6a275fdc11bf2b\n",
      "  Stored in directory: /tmp/pip-ephem-wheel-cache-6ip12oqz/wheels/c1/9c/e8/cbf0266d9d9b1b6161f7ba9ddf572d02aacd411e8a5b4d186b\n",
      "Successfully built sagemaker-studio-image-build\n",
      "Installing collected packages: sagemaker-studio-image-build\n",
      "Successfully installed sagemaker-studio-image-build-0.6.0\n",
      "\u001b[33mWARNING: Running pip as the 'root' user can result in broken permissions and conflicting behaviour with the system package manager. It is recommended to use a virtual environment instead: https://pip.pypa.io/warnings/venv\u001b[0m\n",
      "\u001b[33mWARNING: You are using pip version 21.3.1; however, version 22.0.4 is available.\n",
      "You should consider upgrading via the '/opt/conda/bin/python -m pip install --upgrade pip' command.\u001b[0m\n"
     ]
    }
   ],
   "source": [
    "!pip install sagemaker-studio-image-build"
   ]
  },
  {
   "cell_type": "markdown",
   "metadata": {},
   "source": [
    "The following shell code shows how to build the container image and push the container image to ECR using `sm-docker build`.\n",
    "\n",
    "This code looks for an ECR repository in the account you're using and the current default region (if you're using a SageMaker notebook instance, this will be the region where the notebook instance was created). If the repository doesn't exist, the script will create it."
   ]
  },
  {
   "cell_type": "code",
   "execution_count": 12,
   "metadata": {},
   "outputs": [
    {
     "name": "stdout",
     "output_type": "stream",
     "text": [
      "...\n",
      "[Container] 2022/04/14 08:51:29 Waiting for agent ping\n",
      "\n",
      "[Container] 2022/04/14 08:51:30 Waiting for DOWNLOAD_SOURCE\n",
      "[Container] 2022/04/14 08:51:31 Phase is DOWNLOAD_SOURCE\n",
      "[Container] 2022/04/14 08:51:31 CODEBUILD_SRC_DIR=/codebuild/output/src705175620/src\n",
      "[Container] 2022/04/14 08:51:31 YAML location is /codebuild/output/src705175620/src/buildspec.yml\n",
      "[Container] 2022/04/14 08:51:31 Setting HTTP client timeout to higher timeout for S3 source\n",
      "[Container] 2022/04/14 08:51:31 Processing environment variables\n",
      "[Container] 2022/04/14 08:51:31 No runtime version selected in buildspec.\n",
      "[Container] 2022/04/14 08:51:31 Moving to directory /codebuild/output/src705175620/src\n",
      "[Container] 2022/04/14 08:51:31 Configuring ssm agent with target id: codebuild:1c13eaf2-0b73-4bb4-bb47-4662fafef48a\n",
      "[Container] 2022/04/14 08:51:31 Successfully updated ssm agent configuration\n",
      "[Container] 2022/04/14 08:51:31 Registering with agent\n",
      "[Container] 2022/04/14 08:51:31 Phases found in YAML: 3\n",
      "[Container] 2022/04/14 08:51:31  POST_BUILD: 3 commands\n",
      "[Container] 2022/04/14 08:51:31  PRE_BUILD: 9 commands\n",
      "[Container] 2022/04/14 08:51:31  BUILD: 4 commands\n",
      "[Container] 2022/04/14 08:51:31 Phase complete: DOWNLOAD_SOURCE State: SUCCEEDED\n",
      "[Container] 2022/04/14 08:51:31 Phase context status code:  Message:\n",
      "[Container] 2022/04/14 08:51:31 Entering phase INSTALL\n",
      "[Container] 2022/04/14 08:51:31 Phase complete: INSTALL State: SUCCEEDED\n",
      "[Container] 2022/04/14 08:51:31 Phase context status code:  Message:\n",
      "[Container] 2022/04/14 08:51:31 Entering phase PRE_BUILD\n",
      "[Container] 2022/04/14 08:51:31 Running command echo Logging in to Amazon ECR...\n",
      "Logging in to Amazon ECR...\n",
      "\n",
      "[Container] 2022/04/14 08:51:31 Running command $(aws ecr get-login --no-include-email --region $AWS_DEFAULT_REGION)\n",
      "WARNING! Using --password via the CLI is insecure. Use --password-stdin.\n",
      "WARNING! Your password will be stored unencrypted in /root/.docker/config.json.\n",
      "Configure a credential helper to remove this warning. See\n",
      "https://docs.docker.com/engine/reference/commandline/login/#credentials-store\n",
      "\n",
      "Login Succeeded\n",
      "\n",
      "[Container] 2022/04/14 08:51:37 Running command $(aws ecr get-login --no-include-email --region $AWS_DEFAULT_REGION --registry-ids 763104351884)\n",
      "WARNING! Using --password via the CLI is insecure. Use --password-stdin.\n",
      "WARNING! Your password will be stored unencrypted in /root/.docker/config.json.\n",
      "Configure a credential helper to remove this warning. See\n",
      "https://docs.docker.com/engine/reference/commandline/login/#credentials-store\n",
      "\n",
      "Login Succeeded\n",
      "\n",
      "[Container] 2022/04/14 08:51:38 Running command $(aws ecr get-login --no-include-email --region $AWS_DEFAULT_REGION --registry-ids 217643126080)\n",
      "WARNING! Using --password via the CLI is insecure. Use --password-stdin.\n",
      "WARNING! Your password will be stored unencrypted in /root/.docker/config.json.\n",
      "Configure a credential helper to remove this warning. See\n",
      "https://docs.docker.com/engine/reference/commandline/login/#credentials-store\n",
      "\n",
      "Login Succeeded\n",
      "\n",
      "[Container] 2022/04/14 08:51:38 Running command $(aws ecr get-login --no-include-email --region $AWS_DEFAULT_REGION --registry-ids 727897471807)\n",
      "WARNING! Using --password via the CLI is insecure. Use --password-stdin.\n",
      "WARNING! Your password will be stored unencrypted in /root/.docker/config.json.\n",
      "Configure a credential helper to remove this warning. See\n",
      "https://docs.docker.com/engine/reference/commandline/login/#credentials-store\n",
      "\n",
      "Login Succeeded\n",
      "\n",
      "[Container] 2022/04/14 08:51:39 Running command $(aws ecr get-login --no-include-email --region $AWS_DEFAULT_REGION --registry-ids 626614931356)\n",
      "WARNING! Using --password via the CLI is insecure. Use --password-stdin.\n",
      "WARNING! Your password will be stored unencrypted in /root/.docker/config.json.\n",
      "Configure a credential helper to remove this warning. See\n",
      "https://docs.docker.com/engine/reference/commandline/login/#credentials-store\n",
      "\n",
      "Login Succeeded\n",
      "\n",
      "[Container] 2022/04/14 08:51:39 Running command $(aws ecr get-login --no-include-email --region $AWS_DEFAULT_REGION --registry-ids 683313688378)\n",
      "WARNING! Using --password via the CLI is insecure. Use --password-stdin.\n",
      "WARNING! Your password will be stored unencrypted in /root/.docker/config.json.\n",
      "Configure a credential helper to remove this warning. See\n",
      "https://docs.docker.com/engine/reference/commandline/login/#credentials-store\n",
      "\n",
      "Login Succeeded\n",
      "\n",
      "[Container] 2022/04/14 08:51:40 Running command $(aws ecr get-login --no-include-email --region $AWS_DEFAULT_REGION --registry-ids 520713654638)\n",
      "WARNING! Using --password via the CLI is insecure. Use --password-stdin.\n",
      "WARNING! Your password will be stored unencrypted in /root/.docker/config.json.\n",
      "Configure a credential helper to remove this warning. See\n",
      "https://docs.docker.com/engine/reference/commandline/login/#credentials-store\n",
      "\n",
      "Login Succeeded\n",
      "\n",
      "[Container] 2022/04/14 08:51:40 Running command $(aws ecr get-login --no-include-email --region $AWS_DEFAULT_REGION --registry-ids 462105765813)\n",
      "WARNING! Using --password via the CLI is insecure. Use --password-stdin.\n",
      "WARNING! Your password will be stored unencrypted in /root/.docker/config.json.\n",
      "Configure a credential helper to remove this warning. See\n",
      "https://docs.docker.com/engine/reference/commandline/login/#credentials-store\n",
      "\n",
      "Login Succeeded\n",
      "\n",
      "[Container] 2022/04/14 08:51:41 Phase complete: PRE_BUILD State: SUCCEEDED\n",
      "[Container] 2022/04/14 08:51:41 Phase context status code:  Message:\n",
      "[Container] 2022/04/14 08:51:41 Entering phase BUILD\n",
      "[Container] 2022/04/14 08:51:41 Running command echo Build started on `date`\n",
      "Build started on Thu Apr 14 08:51:41 UTC 2022\n",
      "\n",
      "[Container] 2022/04/14 08:51:41 Running command echo Building the Docker image...\n",
      "Building the Docker image...\n",
      "\n",
      "[Container] 2022/04/14 08:51:41 Running command docker build -t $IMAGE_REPO_NAME:$IMAGE_TAG .\n",
      "Sending build context to Docker daemon  55.81kB\n",
      "Error response from daemon: dockerfile parse error line 5: unknown instruction: FFROM\n",
      "\n",
      "[Container] 2022/04/14 08:51:41 Command did not exit successfully docker build -t $IMAGE_REPO_NAME:$IMAGE_TAG . exit status 1\n",
      "[Container] 2022/04/14 08:51:41 Phase complete: BUILD State: FAILED\n",
      "[Container] 2022/04/14 08:51:41 Phase context status code: COMMAND_EXECUTION_ERROR Message: Error while executing command: docker build -t $IMAGE_REPO_NAME:$IMAGE_TAG .. Reason: exit status 1\n",
      "[Container] 2022/04/14 08:51:41 Entering phase POST_BUILD\n",
      "[Container] 2022/04/14 08:51:41 Running command echo Build completed on `date`\n",
      "Build completed on Thu Apr 14 08:51:41 UTC 2022\n",
      "\n",
      "[Container] 2022/04/14 08:51:41 Running command echo Pushing the Docker image...\n",
      "Pushing the Docker image...\n",
      "\n",
      "[Container] 2022/04/14 08:51:41 Running command docker push $AWS_ACCOUNT_ID.dkr.ecr.$AWS_DEFAULT_REGION.amazonaws.com/$IMAGE_REPO_NAME:$IMAGE_TAG\n",
      "The push refers to repository [062083580489.dkr.ecr.us-east-1.amazonaws.com/sagemaker-decision-trees]\n",
      "An image does not exist locally with the tag: 062083580489.dkr.ecr.us-east-1.amazonaws.com/sagemaker-decision-trees\n",
      "\n",
      "[Container] 2022/04/14 08:51:41 Command did not exit successfully docker push $AWS_ACCOUNT_ID.dkr.ecr.$AWS_DEFAULT_REGION.amazonaws.com/$IMAGE_REPO_NAME:$IMAGE_TAG exit status 1\n",
      "[Container] 2022/04/14 08:51:41 Phase complete: POST_BUILD State: FAILED\n",
      "[Container] 2022/04/14 08:51:41 Phase context status code: COMMAND_EXECUTION_ERROR Message: Error while executing command: docker push $AWS_ACCOUNT_ID.dkr.ecr.$AWS_DEFAULT_REGION.amazonaws.com/$IMAGE_REPO_NAME:$IMAGE_TAG. Reason: exit status 1\n",
      "Image URI: 062083580489.dkr.ecr.us-east-1.amazonaws.com/sagemaker-decision-trees:latest\n"
     ]
    }
   ],
   "source": [
    "%%sh\n",
    "\n",
    "# The name of our algorithm\n",
    "algorithm_name=sagemaker-decision-trees\n",
    "\n",
    "cd container\n",
    "\n",
    "chmod +x decision_trees/train\n",
    "chmod +x decision_trees/serve\n",
    "\n",
    "# Get the region defined in the current configuration (default to us-west-2 if none defined)\n",
    "region=$(python -c \"import boto3;print(boto3.Session().region_name)\")\n",
    "region=${region:-us-west-2}\n",
    "\n",
    "# If the repository doesn't exist in ECR, create it.\n",
    "aws ecr describe-repositories --region \"${region}\" --repository-names \"${algorithm_name}\" > /dev/null 2>&1\n",
    "\n",
    "if [ $? -ne 0 ]\n",
    "then\n",
    "    aws ecr create-repository --region \"${region}\" --repository-name \"${algorithm_name}\" > /dev/null\n",
    "fi\n",
    "\n",
    "sm-docker build . --repository \"${algorithm_name}:latest\""
   ]
  },
  {
   "cell_type": "markdown",
   "metadata": {},
   "source": [
    "## Testing your algorithm on your local machine or on an Amazon SageMaker notebook instance\n",
    "\n",
    "While you're first packaging an algorithm use with Amazon SageMaker, you probably want to test it yourself to make sure it's working right. In the directory `container/local_test`, there is a framework for doing this. It includes three shell scripts for running and using the container and a directory structure that mimics the one outlined above.\n",
    "\n",
    "The scripts are:\n",
    "\n",
    "* `train_local.sh`: Run this with the name of the image and it will run training on the local tree. For example, you can run `$ ./train_local.sh sagemaker-decision-trees`. It will generate a model under the `/test_dir/model` directory. You'll want to modify the directory `test_dir/input/data/...` to be set up with the correct channels and data for your algorithm. Also, you'll want to modify the file `input/config/hyperparameters.json` to have the hyperparameter settings that you want to test (as strings).\n",
    "* `serve_local.sh`: Run this with the name of the image once you've trained the model and it should serve the model. For example, you can run `$ ./serve_local.sh sagemaker-decision-trees`. It will run and wait for requests. Simply use the keyboard interrupt to stop it.\n",
    "* `predict.sh`: Run this with the name of a payload file and (optionally) the HTTP content type you want. The content type will default to `text/csv`. For example, you can run `$ ./predict.sh payload.csv text/csv`.\n",
    "\n",
    "The directories as shipped are set up to test the decision trees sample algorithm presented here."
   ]
  },
  {
   "cell_type": "markdown",
   "metadata": {},
   "source": [
    "## Part 2: Using your Algorithm in Amazon SageMaker\n",
    "\n",
    "Once you have your container packaged, you can use it to train models and use the model for hosting or batch transforms. Let's do that with the algorithm we made above.\n",
    "\n",
    "## Set up the environment\n",
    "\n",
    "Here we specify a bucket to use and the role that will be used for working with SageMaker."
   ]
  },
  {
   "cell_type": "code",
   "execution_count": 13,
   "metadata": {},
   "outputs": [],
   "source": [
    "# S3 prefix\n",
    "prefix = \"DEMO-scikit-byo-iris\"\n",
    "\n",
    "# Define IAM role\n",
    "import boto3\n",
    "import re\n",
    "\n",
    "import os\n",
    "import numpy as np\n",
    "import pandas as pd\n",
    "from sagemaker import get_execution_role\n",
    "\n",
    "role = get_execution_role()"
   ]
  },
  {
   "cell_type": "markdown",
   "metadata": {},
   "source": [
    "## Create the session\n",
    "\n",
    "The session remembers our connection parameters to SageMaker. We'll use it to perform all of our SageMaker operations."
   ]
  },
  {
   "cell_type": "code",
   "execution_count": 14,
   "metadata": {},
   "outputs": [],
   "source": [
    "import sagemaker as sage\n",
    "from time import gmtime, strftime\n",
    "\n",
    "sess = sage.Session()"
   ]
  },
  {
   "cell_type": "markdown",
   "metadata": {},
   "source": [
    "## Upload the data for training\n",
    "\n",
    "When training large models with huge amounts of data, you'll typically use big data tools, like Amazon Athena, AWS Glue, or Amazon EMR, to create your data in S3. For the purposes of this example, we're using some the classic [Iris dataset](https://en.wikipedia.org/wiki/Iris_flower_data_set), which we have included. \n",
    "\n",
    "We can use use the tools provided by the SageMaker Python SDK to upload the data to a default bucket. "
   ]
  },
  {
   "cell_type": "code",
   "execution_count": 15,
   "metadata": {},
   "outputs": [],
   "source": [
    "WORK_DIRECTORY = \"data\"\n",
    "\n",
    "data_location = sess.upload_data(WORK_DIRECTORY, key_prefix=prefix)"
   ]
  },
  {
   "cell_type": "markdown",
   "metadata": {},
   "source": [
    "## Create an estimator and fit the model\n",
    "\n",
    "In order to use SageMaker to fit our algorithm, we'll create an `Estimator` that defines how to use the container to train. This includes the configuration we need to invoke SageMaker training:\n",
    "\n",
    "* The __container name__. This is constructed as in the shell commands above.\n",
    "* The __role__. As defined above.\n",
    "* The __instance count__ which is the number of machines to use for training.\n",
    "* The __instance type__ which is the type of machine to use for training.\n",
    "* The __output path__ determines where the model artifact will be written.\n",
    "* The __session__ is the SageMaker session object that we defined above.\n",
    "\n",
    "Then we use fit() on the estimator to train against the data that we uploaded above."
   ]
  },
  {
   "cell_type": "code",
   "execution_count": 17,
   "metadata": {},
   "outputs": [
    {
     "name": "stdout",
     "output_type": "stream",
     "text": [
      "2022-04-14 08:58:08 Starting - Starting the training job...\n",
      "2022-04-14 08:58:32 Starting - Preparing the instances for trainingProfilerReport-1649926688: InProgress\n",
      ".........\n",
      "2022-04-14 09:00:01 Downloading - Downloading input data\n",
      "2022-04-14 09:00:01 Training - Training image download completed. Training in progress..\u001b[34mStarting the training.\u001b[0m\n",
      "\u001b[34mTraining complete.\u001b[0m\n",
      "\n",
      "2022-04-14 09:00:33 Uploading - Uploading generated training model\n",
      "2022-04-14 09:00:33 Completed - Training job completed\n",
      "Training seconds: 27\n",
      "Billable seconds: 27\n",
      "CPU times: user 322 ms, sys: 13 ms, total: 335 ms\n",
      "Wall time: 2min 42s\n"
     ]
    }
   ],
   "source": [
    "%%time\n",
    "\n",
    "account = sess.boto_session.client(\"sts\").get_caller_identity()[\"Account\"]\n",
    "region = sess.boto_session.region_name\n",
    "image = \"{}.dkr.ecr.{}.amazonaws.com/sagemaker-decision-trees:latest\".format(account, region)\n",
    "\n",
    "\n",
    "tree = sage.estimator.Estimator(\n",
    "    image,\n",
    "    role,\n",
    "    1,\n",
    "    \"ml.c4.2xlarge\",\n",
    "    output_path=\"s3://{}/output\".format(sess.default_bucket()),\n",
    "    sagemaker_session=sess,\n",
    ")\n",
    "\n",
    "tree.fit(data_location)"
   ]
  },
  {
   "cell_type": "markdown",
   "metadata": {},
   "source": [
    "## Hosting your model\n",
    "You can use a trained model to get real time predictions using HTTP endpoint. Follow these steps to walk you through the process."
   ]
  },
  {
   "cell_type": "markdown",
   "metadata": {},
   "source": [
    "### Deploy the model\n",
    "\n",
    "Deploying the model to SageMaker hosting just requires a `deploy` call on the fitted model. This call takes an instance count, instance type, and optionally serializer and deserializer functions. These are used when the resulting predictor is created on the endpoint."
   ]
  },
  {
   "cell_type": "code",
   "execution_count": 143,
   "metadata": {},
   "outputs": [
    {
     "name": "stdout",
     "output_type": "stream",
     "text": [
      "----!CPU times: user 73 ms, sys: 13.1 ms, total: 86.1 ms\n",
      "Wall time: 2min 1s\n"
     ]
    }
   ],
   "source": [
    "%%time\n",
    "\n",
    "from sagemaker.serializers import CSVSerializer\n",
    "\n",
    "predictor = tree.deploy(1, \"ml.m5.large\", serializer=CSVSerializer())"
   ]
  },
  {
   "cell_type": "markdown",
   "metadata": {},
   "source": [
    "### Choose some data and use it for a prediction\n",
    "\n",
    "In order to do some predictions, we'll extract some of the data we used for training and do predictions against it. This is, of course, bad statistical practice, but a good way to see how the mechanism works."
   ]
  },
  {
   "cell_type": "code",
   "execution_count": 144,
   "metadata": {},
   "outputs": [
    {
     "data": {
      "text/html": [
       "<div>\n",
       "<style scoped>\n",
       "    .dataframe tbody tr th:only-of-type {\n",
       "        vertical-align: middle;\n",
       "    }\n",
       "\n",
       "    .dataframe tbody tr th {\n",
       "        vertical-align: top;\n",
       "    }\n",
       "\n",
       "    .dataframe thead th {\n",
       "        text-align: right;\n",
       "    }\n",
       "</style>\n",
       "<table border=\"1\" class=\"dataframe\">\n",
       "  <thead>\n",
       "    <tr style=\"text-align: right;\">\n",
       "      <th></th>\n",
       "      <th>0</th>\n",
       "      <th>1</th>\n",
       "      <th>2</th>\n",
       "      <th>3</th>\n",
       "      <th>4</th>\n",
       "    </tr>\n",
       "  </thead>\n",
       "  <tbody>\n",
       "    <tr>\n",
       "      <th>57</th>\n",
       "      <td>versicolor</td>\n",
       "      <td>4.9</td>\n",
       "      <td>2.4</td>\n",
       "      <td>3.3</td>\n",
       "      <td>1.0</td>\n",
       "    </tr>\n",
       "    <tr>\n",
       "      <th>26</th>\n",
       "      <td>setosa</td>\n",
       "      <td>5.0</td>\n",
       "      <td>3.4</td>\n",
       "      <td>1.6</td>\n",
       "      <td>0.4</td>\n",
       "    </tr>\n",
       "    <tr>\n",
       "      <th>11</th>\n",
       "      <td>setosa</td>\n",
       "      <td>4.8</td>\n",
       "      <td>3.4</td>\n",
       "      <td>1.6</td>\n",
       "      <td>0.2</td>\n",
       "    </tr>\n",
       "  </tbody>\n",
       "</table>\n",
       "</div>"
      ],
      "text/plain": [
       "             0    1    2    3    4\n",
       "57  versicolor  4.9  2.4  3.3  1.0\n",
       "26      setosa  5.0  3.4  1.6  0.4\n",
       "11      setosa  4.8  3.4  1.6  0.2"
      ]
     },
     "execution_count": 144,
     "metadata": {},
     "output_type": "execute_result"
    }
   ],
   "source": [
    "shape = pd.read_csv(\"data/iris.csv\", header=None)\n",
    "shape.sample(3)"
   ]
  },
  {
   "cell_type": "code",
   "execution_count": 145,
   "metadata": {},
   "outputs": [
    {
     "data": {
      "text/html": [
       "<div>\n",
       "<style scoped>\n",
       "    .dataframe tbody tr th:only-of-type {\n",
       "        vertical-align: middle;\n",
       "    }\n",
       "\n",
       "    .dataframe tbody tr th {\n",
       "        vertical-align: top;\n",
       "    }\n",
       "\n",
       "    .dataframe thead th {\n",
       "        text-align: right;\n",
       "    }\n",
       "</style>\n",
       "<table border=\"1\" class=\"dataframe\">\n",
       "  <thead>\n",
       "    <tr style=\"text-align: right;\">\n",
       "      <th></th>\n",
       "      <th>1</th>\n",
       "      <th>2</th>\n",
       "      <th>3</th>\n",
       "      <th>4</th>\n",
       "    </tr>\n",
       "  </thead>\n",
       "  <tbody>\n",
       "    <tr>\n",
       "      <th>49</th>\n",
       "      <td>5.0</td>\n",
       "      <td>3.3</td>\n",
       "      <td>1.4</td>\n",
       "      <td>0.2</td>\n",
       "    </tr>\n",
       "    <tr>\n",
       "      <th>132</th>\n",
       "      <td>6.4</td>\n",
       "      <td>2.8</td>\n",
       "      <td>5.6</td>\n",
       "      <td>2.2</td>\n",
       "    </tr>\n",
       "    <tr>\n",
       "      <th>4</th>\n",
       "      <td>5.0</td>\n",
       "      <td>3.6</td>\n",
       "      <td>1.4</td>\n",
       "      <td>0.2</td>\n",
       "    </tr>\n",
       "  </tbody>\n",
       "</table>\n",
       "</div>"
      ],
      "text/plain": [
       "       1    2    3    4\n",
       "49   5.0  3.3  1.4  0.2\n",
       "132  6.4  2.8  5.6  2.2\n",
       "4    5.0  3.6  1.4  0.2"
      ]
     },
     "execution_count": 145,
     "metadata": {},
     "output_type": "execute_result"
    }
   ],
   "source": [
    "# drop the label column in the training set\n",
    "shape.drop(shape.columns[[0]], axis=1, inplace=True)\n",
    "shape.sample(3)"
   ]
  },
  {
   "cell_type": "code",
   "execution_count": 146,
   "metadata": {},
   "outputs": [],
   "source": [
    "import itertools\n",
    "\n",
    "a = [50 * i for i in range(3)]\n",
    "b = [40 + i for i in range(10)]\n",
    "indices = [i + j for i, j in itertools.product(a, b)]\n",
    "\n",
    "test_data = shape.iloc[indices[:-1]]"
   ]
  },
  {
   "cell_type": "markdown",
   "metadata": {},
   "source": [
    "Prediction is as easy as calling predict with the predictor we got back from deploy and the data we want to do predictions with. The serializers take care of doing the data conversions for us."
   ]
  },
  {
   "cell_type": "code",
   "execution_count": 147,
   "metadata": {},
   "outputs": [
    {
     "name": "stdout",
     "output_type": "stream",
     "text": [
      "setosa\n",
      "setosa\n",
      "setosa\n",
      "setosa\n",
      "setosa\n",
      "setosa\n",
      "setosa\n",
      "setosa\n",
      "setosa\n",
      "setosa\n",
      "versicolor\n",
      "versicolor\n",
      "versicolor\n",
      "versicolor\n",
      "versicolor\n",
      "versicolor\n",
      "versicolor\n",
      "versicolor\n",
      "versicolor\n",
      "versicolor\n",
      "virginica\n",
      "virginica\n",
      "virginica\n",
      "virginica\n",
      "virginica\n",
      "virginica\n",
      "virginica\n",
      "virginica\n",
      "virginica\n",
      "\n"
     ]
    }
   ],
   "source": [
    "print(predictor.predict(test_data.values).decode(\"utf-8\"))"
   ]
  },
  {
   "cell_type": "markdown",
   "metadata": {},
   "source": [
    "## Automatically Scale Amazon SageMaker Models\n",
    "\n",
    "Amazon SageMaker supports automatic scaling (autoscaling) for your hosted models. Autoscaling dynamically adjusts the number of instances provisioned for a model in response to changes in your workload. When the workload increases, autoscaling brings more instances online. When the workload decreases, autoscaling removes unnecessary instances so that you don't pay for provisioned instances that you aren't using."
   ]
  },
  {
   "cell_type": "markdown",
   "metadata": {},
   "source": [
    "Let us define a client to play with autoscaling options"
   ]
  },
  {
   "cell_type": "code",
   "execution_count": 148,
   "metadata": {},
   "outputs": [],
   "source": [
    "client = boto3.client('application-autoscaling')"
   ]
  },
  {
   "cell_type": "code",
   "execution_count": 149,
   "metadata": {},
   "outputs": [
    {
     "data": {
      "text/plain": [
       "'sagemaker-decision-trees-2022-04-14-14-36-03-248'"
      ]
     },
     "execution_count": 149,
     "metadata": {},
     "output_type": "execute_result"
    }
   ],
   "source": [
    "endpoint_name = predictor.endpoint_name\n",
    "endpoint_name"
   ]
  },
  {
   "cell_type": "markdown",
   "metadata": {},
   "source": [
    "### Register a scalable target\n",
    "\n",
    "A scalable target is a resource that Application Auto Scaling can scale out and scale in. Scalable targets are uniquely identified by the combination of resource ID, scalable dimension, and namespace.\n",
    "\n",
    "When you register a new scalable target, you must specify values for minimum and maximum capacity. Current capacity will be adjusted within the specified range when scaling starts. Application Auto Scaling scaling policies will not scale capacity to values that are outside of this range.\n",
    "\n",
    "We will define the resource id and then register the SageMaker Endpoint as a scalable target."
   ]
  },
  {
   "cell_type": "code",
   "execution_count": 150,
   "metadata": {},
   "outputs": [
    {
     "data": {
      "text/plain": [
       "'endpoint/sagemaker-decision-trees-2022-04-14-14-36-03-248/variant/AllTraffic'"
      ]
     },
     "execution_count": 150,
     "metadata": {},
     "output_type": "execute_result"
    }
   ],
   "source": [
    "resource_id='endpoint/' + endpoint_name + '/variant/' + 'AllTraffic' # This is the format in which application autoscaling references the endpoint\n",
    "resource_id"
   ]
  },
  {
   "cell_type": "markdown",
   "metadata": {},
   "source": [
    "### Register a model\n",
    "\n",
    "You can add autoscaling for a model with the AWS CLI or the Application Auto Scaling API. You first must register the model, then you must define an autoscaling policy.\n",
    "\n",
    " - `min-capacity` — The minimum number of instances that for this model. Set min-capacity to at least 1. It must be equal to or less than the value specified for `max-capacity`.\n",
    " - `max-capacity` — The maximum number of instances that Application Auto Scaling should manage. Set max-capacity to a minimum of 1, It must be equal to or greater than the value specified for `min-capacity`."
   ]
  },
  {
   "cell_type": "code",
   "execution_count": 151,
   "metadata": {},
   "outputs": [
    {
     "data": {
      "text/plain": [
       "{'ResponseMetadata': {'RequestId': '5470a4a2-b4d5-4f00-be16-f965e8685620',\n",
       "  'HTTPStatusCode': 200,\n",
       "  'HTTPHeaders': {'x-amzn-requestid': '5470a4a2-b4d5-4f00-be16-f965e8685620',\n",
       "   'content-type': 'application/x-amz-json-1.1',\n",
       "   'content-length': '2',\n",
       "   'date': 'Thu, 14 Apr 2022 14:41:24 GMT'},\n",
       "  'RetryAttempts': 0}}"
      ]
     },
     "execution_count": 151,
     "metadata": {},
     "output_type": "execute_result"
    }
   ],
   "source": [
    "response = client.register_scalable_target(\n",
    "    ServiceNamespace='sagemaker', #\n",
    "    ResourceId=resource_id,\n",
    "    ScalableDimension='sagemaker:variant:DesiredInstanceCount',\n",
    "    MinCapacity=1,\n",
    "    MaxCapacity=10\n",
    ")\n",
    "response"
   ]
  },
  {
   "cell_type": "markdown",
   "metadata": {},
   "source": [
    "To get information about the scalable targets in the specified SageMaker Endpoint, You can use `describe_scalable_targets` API call."
   ]
  },
  {
   "cell_type": "code",
   "execution_count": 152,
   "metadata": {},
   "outputs": [
    {
     "data": {
      "text/plain": [
       "{'ScalableTargets': [{'ServiceNamespace': 'sagemaker',\n",
       "   'ResourceId': 'endpoint/sagemaker-decision-trees-2022-04-14-14-36-03-248/variant/AllTraffic',\n",
       "   'ScalableDimension': 'sagemaker:variant:DesiredInstanceCount',\n",
       "   'MinCapacity': 1,\n",
       "   'MaxCapacity': 10,\n",
       "   'RoleARN': 'arn:aws:iam::062083580489:role/aws-service-role/sagemaker.application-autoscaling.amazonaws.com/AWSServiceRoleForApplicationAutoScaling_SageMakerEndpoint',\n",
       "   'CreationTime': datetime.datetime(2022, 4, 14, 14, 41, 25, 947000, tzinfo=tzlocal()),\n",
       "   'SuspendedState': {'DynamicScalingInSuspended': False,\n",
       "    'DynamicScalingOutSuspended': False,\n",
       "    'ScheduledScalingSuspended': False}}],\n",
       " 'ResponseMetadata': {'RequestId': '9e4a9800-9734-4815-8446-421ca9fb3c3d',\n",
       "  'HTTPStatusCode': 200,\n",
       "  'HTTPHeaders': {'x-amzn-requestid': '9e4a9800-9734-4815-8446-421ca9fb3c3d',\n",
       "   'content-type': 'application/x-amz-json-1.1',\n",
       "   'content-length': '560',\n",
       "   'date': 'Thu, 14 Apr 2022 14:41:25 GMT'},\n",
       "  'RetryAttempts': 0}}"
      ]
     },
     "execution_count": 152,
     "metadata": {},
     "output_type": "execute_result"
    }
   ],
   "source": [
    "response = client.describe_scalable_targets(\n",
    "    ServiceNamespace='sagemaker',\n",
    "    ResourceIds=[resource_id]\n",
    ")\n",
    "response"
   ]
  },
  {
   "cell_type": "markdown",
   "metadata": {},
   "source": [
    "### Define a scaling policy\n",
    "\n",
    "To specify the metrics and target values for a scaling policy, you configure a target-tracking scaling policy. You can use either a predefined metric or a custom metric.\n",
    "\n",
    "To quickly define a target-tracking scaling policy for a variant, use the `SageMakerVariantInvocationsPerInstance` predefined metric. \n",
    "\n",
    "`SageMakerVariantInvocationsPerInstance` is the average number of times per minute that each instance for a variant is invoked. **We strongly recommend using this metric**.\n",
    "\n",
    "To use a predefined metric in a scaling policy, create a target tracking configuration for your policy. In the target tracking configuration, include a `PredefinedMetricSpecification` for the predefined metric and a TargetValue for the target value of that metric.\n",
    "\n",
    "The following example is a typical policy configuration for target-tracking scaling for a variant. In this configuration, we use the SageMakerVariantInvocationsPerInstance predefined metric to adjust the number of variant instances so that each instance has a InvocationsPerInstance metric of 10, thus 10 invocations per minute."
   ]
  },
  {
   "cell_type": "code",
   "execution_count": 153,
   "metadata": {},
   "outputs": [
    {
     "data": {
      "text/plain": [
       "{'PolicyARN': 'arn:aws:autoscaling:us-east-1:062083580489:scalingPolicy:452ccaf6-9083-4289-b8db-56601539f2c9:resource/sagemaker/endpoint/sagemaker-decision-trees-2022-04-14-14-36-03-248/variant/AllTraffic:policyName/Invocations-ScalingPolicy',\n",
       " 'Alarms': [{'AlarmName': 'TargetTracking-endpoint/sagemaker-decision-trees-2022-04-14-14-36-03-248/variant/AllTraffic-AlarmHigh-343b9f8d-e73a-4743-b1e8-77d3ddf91e8c',\n",
       "   'AlarmARN': 'arn:aws:cloudwatch:us-east-1:062083580489:alarm:TargetTracking-endpoint/sagemaker-decision-trees-2022-04-14-14-36-03-248/variant/AllTraffic-AlarmHigh-343b9f8d-e73a-4743-b1e8-77d3ddf91e8c'},\n",
       "  {'AlarmName': 'TargetTracking-endpoint/sagemaker-decision-trees-2022-04-14-14-36-03-248/variant/AllTraffic-AlarmLow-a9e5cadf-420c-42f4-a9b9-f61dbdf27fd1',\n",
       "   'AlarmARN': 'arn:aws:cloudwatch:us-east-1:062083580489:alarm:TargetTracking-endpoint/sagemaker-decision-trees-2022-04-14-14-36-03-248/variant/AllTraffic-AlarmLow-a9e5cadf-420c-42f4-a9b9-f61dbdf27fd1'}],\n",
       " 'ResponseMetadata': {'RequestId': '8199c106-a785-4f67-a4da-eeab5951e4a3',\n",
       "  'HTTPStatusCode': 200,\n",
       "  'HTTPHeaders': {'x-amzn-requestid': '8199c106-a785-4f67-a4da-eeab5951e4a3',\n",
       "   'content-type': 'application/x-amz-json-1.1',\n",
       "   'content-length': '961',\n",
       "   'date': 'Thu, 14 Apr 2022 14:41:27 GMT'},\n",
       "  'RetryAttempts': 0}}"
      ]
     },
     "execution_count": 153,
     "metadata": {},
     "output_type": "execute_result"
    }
   ],
   "source": [
    "response = client.put_scaling_policy(\n",
    "        PolicyName='Invocations-ScalingPolicy',\n",
    "        ServiceNamespace='sagemaker',  # The namespace of the AWS service that provides the resource.\n",
    "        ResourceId=resource_id,  # Endpoint name\n",
    "        ScalableDimension='sagemaker:variant:DesiredInstanceCount',  # SageMaker supports only Instance Count\n",
    "        PolicyType='TargetTrackingScaling',  # 'StepScaling'|'TargetTrackingScaling'\n",
    "        TargetTrackingScalingPolicyConfiguration={\n",
    "            'TargetValue': 10.0,\n",
    "            # The target value for the metric. - here the metric is - SageMakerVariantInvocationsPerInstance\n",
    "            'PredefinedMetricSpecification': {\n",
    "                'PredefinedMetricType': 'SageMakerVariantInvocationsPerInstance',\n",
    "                # is the average number of times per minute that each instance for a variant is invoked.\n",
    "            },\n",
    "            'ScaleInCooldown': 60,\n",
    "            # The cooldown period helps you prevent your Auto Scaling group from launching or terminating\n",
    "            # additional instances before the effects of previous activities are visible.\n",
    "            # You can configure the length of time based on your instance startup time or other application needs.\n",
    "            # ScaleInCooldown - The amount of time, in seconds, after a scale in activity completes before another scale in activity can start.\n",
    "            'ScaleOutCooldown': 30\n",
    "            # ScaleOutCooldown - The amount of time, in seconds, after a scale out activity completes before another scale out activity can start.\n",
    "\n",
    "            # 'DisableScaleIn': True|False - ndicates whether scale in by the target tracking policy is disabled.\n",
    "            # If the value is true , scale in is disabled and the target tracking policy won't remove capacity from the scalable resource.\n",
    "        }\n",
    ")\n",
    "response"
   ]
  },
  {
   "cell_type": "markdown",
   "metadata": {},
   "source": [
    "To get information about the scaling policy, you can use `describe_scaling_policies` API call."
   ]
  },
  {
   "cell_type": "code",
   "execution_count": 154,
   "metadata": {},
   "outputs": [
    {
     "data": {
      "text/plain": [
       "{'ScalingPolicies': [{'PolicyARN': 'arn:aws:autoscaling:us-east-1:062083580489:scalingPolicy:452ccaf6-9083-4289-b8db-56601539f2c9:resource/sagemaker/endpoint/sagemaker-decision-trees-2022-04-14-14-36-03-248/variant/AllTraffic:policyName/Invocations-ScalingPolicy',\n",
       "   'PolicyName': 'Invocations-ScalingPolicy',\n",
       "   'ServiceNamespace': 'sagemaker',\n",
       "   'ResourceId': 'endpoint/sagemaker-decision-trees-2022-04-14-14-36-03-248/variant/AllTraffic',\n",
       "   'ScalableDimension': 'sagemaker:variant:DesiredInstanceCount',\n",
       "   'PolicyType': 'TargetTrackingScaling',\n",
       "   'TargetTrackingScalingPolicyConfiguration': {'TargetValue': 10.0,\n",
       "    'PredefinedMetricSpecification': {'PredefinedMetricType': 'SageMakerVariantInvocationsPerInstance'},\n",
       "    'ScaleOutCooldown': 30,\n",
       "    'ScaleInCooldown': 60},\n",
       "   'Alarms': [{'AlarmName': 'TargetTracking-endpoint/sagemaker-decision-trees-2022-04-14-14-36-03-248/variant/AllTraffic-AlarmHigh-343b9f8d-e73a-4743-b1e8-77d3ddf91e8c',\n",
       "     'AlarmARN': 'arn:aws:cloudwatch:us-east-1:062083580489:alarm:TargetTracking-endpoint/sagemaker-decision-trees-2022-04-14-14-36-03-248/variant/AllTraffic-AlarmHigh-343b9f8d-e73a-4743-b1e8-77d3ddf91e8c'},\n",
       "    {'AlarmName': 'TargetTracking-endpoint/sagemaker-decision-trees-2022-04-14-14-36-03-248/variant/AllTraffic-AlarmLow-a9e5cadf-420c-42f4-a9b9-f61dbdf27fd1',\n",
       "     'AlarmARN': 'arn:aws:cloudwatch:us-east-1:062083580489:alarm:TargetTracking-endpoint/sagemaker-decision-trees-2022-04-14-14-36-03-248/variant/AllTraffic-AlarmLow-a9e5cadf-420c-42f4-a9b9-f61dbdf27fd1'}],\n",
       "   'CreationTime': datetime.datetime(2022, 4, 14, 14, 41, 27, 836000, tzinfo=tzlocal())}],\n",
       " 'ResponseMetadata': {'RequestId': '080deba1-bc60-4f47-8621-4c2688f3d6aa',\n",
       "  'HTTPStatusCode': 200,\n",
       "  'HTTPHeaders': {'x-amzn-requestid': '080deba1-bc60-4f47-8621-4c2688f3d6aa',\n",
       "   'content-type': 'application/x-amz-json-1.1',\n",
       "   'content-length': '1482',\n",
       "   'date': 'Thu, 14 Apr 2022 14:41:29 GMT'},\n",
       "  'RetryAttempts': 0}}"
      ]
     },
     "execution_count": 154,
     "metadata": {},
     "output_type": "execute_result"
    }
   ],
   "source": [
    "response = client.describe_scaling_policies(\n",
    "    PolicyNames=[\n",
    "        'Invocations-ScalingPolicy',\n",
    "    ],\n",
    "    ServiceNamespace='sagemaker',\n",
    "    ResourceId=resource_id\n",
    ")\n",
    "response"
   ]
  },
  {
   "cell_type": "markdown",
   "metadata": {},
   "source": [
    "### Testing Autoscaling\n",
    "\n",
    "We defined a scaling policy based on 10 times per minute that each instance for a variant is invoked, for the duration of 30 seconds. Let's invoked the endpoint for few minutes and see what happens."
   ]
  },
  {
   "cell_type": "code",
   "execution_count": 156,
   "metadata": {},
   "outputs": [
    {
     "name": "stdout",
     "output_type": "stream",
     "text": [
      "2022-04-14 14:42:01.947807 - Sending test traffic for 15 minutes to the endpoint sagemaker-decision-trees-2022-04-14-14-36-03-248. \n",
      "Please wait...\n",
      "2022-04-14 14:43:07.307417 - 1 minutes passed.\n",
      "2022-04-14 14:44:07.802461 - 2 minutes passed.\n",
      "2022-04-14 14:45:08.522068 - 3 minutes passed.\n",
      "2022-04-14 14:46:09.513451 - 4 minutes passed.\n",
      "2022-04-14 14:47:10.647718 - 5 minutes passed.\n",
      "2022-04-14 14:48:11.909096 - 6 minutes passed.\n",
      "2022-04-14 14:49:13.610748 - 7 minutes passed.\n",
      "2022-04-14 14:50:15.573243 - 8 minutes passed.\n",
      "2022-04-14 14:51:17.689110 - 9 minutes passed.\n",
      "2022-04-14 14:52:20.234165 - 10 minutes passed.\n",
      "2022-04-14 14:53:22.945126 - 11 minutes passed.\n",
      "2022-04-14 14:54:25.892102 - 12 minutes passed.\n",
      "2022-04-14 14:55:28.923613 - 13 minutes passed.\n",
      "2022-04-14 14:56:32.315079 - 14 minutes passed.\n",
      "Done!\n"
     ]
    }
   ],
   "source": [
    "import time\n",
    "from datetime import datetime\n",
    "\n",
    "print(f\"{datetime.now()} - Sending test traffic for 15 minutes to the endpoint {endpoint_name}. \\nPlease wait...\")\n",
    "\n",
    "counter = 1\n",
    "for x in range(180):\n",
    "    for _ in range(counter):    # invocations as number of instances\n",
    "        result = predictor.predict(test_data.values).decode(\"utf-8\")\n",
    "    time.sleep(5)\n",
    "    if x % 12 == 0 and x > 1:\n",
    "        print(f\"{datetime.now()} - {counter} minutes passed.\")\n",
    "        counter = counter + 1\n",
    "        \n",
    "print(\"Done!\")"
   ]
  },
  {
   "cell_type": "markdown",
   "metadata": {},
   "source": [
    "## Query Endpoint Autoscaling History\n",
    "\n",
    "You can view the status of scaling activities from your endpoint using `DescribeScalingActivities`. `DescribeScalingActivities` provides descriptive information about the scaling activities in the specified namespace from the previous six weeks.\n",
    "\n",
    "You are able to see `Scale Out` actions. If you wait few minutes, you'll be able to see also the `Scale In` actions."
   ]
  },
  {
   "cell_type": "code",
   "execution_count": 158,
   "metadata": {},
   "outputs": [
    {
     "data": {
      "text/plain": [
       "{'ScalingActivities': [{'ActivityId': '0b132bb7-9a69-44c9-9f73-eba338aabdc2',\n",
       "   'ServiceNamespace': 'sagemaker',\n",
       "   'ResourceId': 'endpoint/sagemaker-decision-trees-2022-04-14-14-36-03-248/variant/AllTraffic',\n",
       "   'ScalableDimension': 'sagemaker:variant:DesiredInstanceCount',\n",
       "   'Description': 'Setting desired instance count to 10.',\n",
       "   'Cause': 'monitor alarm TargetTracking-endpoint/sagemaker-decision-trees-2022-04-14-14-36-03-248/variant/AllTraffic-AlarmHigh-343b9f8d-e73a-4743-b1e8-77d3ddf91e8c in state ALARM triggered policy Invocations-ScalingPolicy',\n",
       "   'StartTime': datetime.datetime(2022, 4, 14, 14, 54, 8, 25000, tzinfo=tzlocal()),\n",
       "   'EndTime': datetime.datetime(2022, 4, 14, 14, 55, 51, 793000, tzinfo=tzlocal()),\n",
       "   'StatusCode': 'Successful',\n",
       "   'StatusMessage': 'Successfully set desired instance count to 10. Change successfully fulfilled by sagemaker.'},\n",
       "  {'ActivityId': 'c31392ea-7821-4920-b5b8-033b7c7f05ef',\n",
       "   'ServiceNamespace': 'sagemaker',\n",
       "   'ResourceId': 'endpoint/sagemaker-decision-trees-2022-04-14-14-36-03-248/variant/AllTraffic',\n",
       "   'ScalableDimension': 'sagemaker:variant:DesiredInstanceCount',\n",
       "   'Description': 'Setting desired instance count to 7.',\n",
       "   'Cause': 'monitor alarm TargetTracking-endpoint/sagemaker-decision-trees-2022-04-14-14-36-03-248/variant/AllTraffic-AlarmHigh-343b9f8d-e73a-4743-b1e8-77d3ddf91e8c in state ALARM triggered policy Invocations-ScalingPolicy',\n",
       "   'StartTime': datetime.datetime(2022, 4, 14, 14, 51, 8, 40000, tzinfo=tzlocal()),\n",
       "   'EndTime': datetime.datetime(2022, 4, 14, 14, 53, 27, 434000, tzinfo=tzlocal()),\n",
       "   'StatusCode': 'Successful',\n",
       "   'StatusMessage': 'Successfully set desired instance count to 7. Change successfully fulfilled by sagemaker.'},\n",
       "  {'ActivityId': '2b58fdb0-4071-4e7b-9a0d-47f6916472b3',\n",
       "   'ServiceNamespace': 'sagemaker',\n",
       "   'ResourceId': 'endpoint/sagemaker-decision-trees-2022-04-14-14-36-03-248/variant/AllTraffic',\n",
       "   'ScalableDimension': 'sagemaker:variant:DesiredInstanceCount',\n",
       "   'Description': 'Setting desired instance count to 5.',\n",
       "   'Cause': 'monitor alarm TargetTracking-endpoint/sagemaker-decision-trees-2022-04-14-14-36-03-248/variant/AllTraffic-AlarmHigh-343b9f8d-e73a-4743-b1e8-77d3ddf91e8c in state ALARM triggered policy Invocations-ScalingPolicy',\n",
       "   'StartTime': datetime.datetime(2022, 4, 14, 14, 49, 8, 76000, tzinfo=tzlocal()),\n",
       "   'EndTime': datetime.datetime(2022, 4, 14, 14, 50, 44, 816000, tzinfo=tzlocal()),\n",
       "   'StatusCode': 'Successful',\n",
       "   'StatusMessage': 'Successfully set desired instance count to 5. Change successfully fulfilled by sagemaker.'},\n",
       "  {'ActivityId': '72a38265-5f24-4d26-bdd9-652a65de85df',\n",
       "   'ServiceNamespace': 'sagemaker',\n",
       "   'ResourceId': 'endpoint/sagemaker-decision-trees-2022-04-14-14-36-03-248/variant/AllTraffic',\n",
       "   'ScalableDimension': 'sagemaker:variant:DesiredInstanceCount',\n",
       "   'Description': 'Setting desired instance count to 3.',\n",
       "   'Cause': 'monitor alarm TargetTracking-endpoint/sagemaker-decision-trees-2022-04-14-14-36-03-248/variant/AllTraffic-AlarmHigh-343b9f8d-e73a-4743-b1e8-77d3ddf91e8c in state ALARM triggered policy Invocations-ScalingPolicy',\n",
       "   'StartTime': datetime.datetime(2022, 4, 14, 14, 47, 8, 21000, tzinfo=tzlocal()),\n",
       "   'EndTime': datetime.datetime(2022, 4, 14, 14, 48, 50, 7000, tzinfo=tzlocal()),\n",
       "   'StatusCode': 'Successful',\n",
       "   'StatusMessage': 'Successfully set desired instance count to 3. Change successfully fulfilled by sagemaker.'}],\n",
       " 'ResponseMetadata': {'RequestId': 'de0fe31a-3693-4c0e-af05-671951d46cc6',\n",
       "  'HTTPStatusCode': 200,\n",
       "  'HTTPHeaders': {'x-amzn-requestid': 'de0fe31a-3693-4c0e-af05-671951d46cc6',\n",
       "   'content-type': 'application/x-amz-json-1.1',\n",
       "   'content-length': '2832',\n",
       "   'date': 'Thu, 14 Apr 2022 14:57:58 GMT'},\n",
       "  'RetryAttempts': 0}}"
      ]
     },
     "execution_count": 158,
     "metadata": {},
     "output_type": "execute_result"
    }
   ],
   "source": [
    "response = client.describe_scaling_activities(\n",
    "    ServiceNamespace='sagemaker',\n",
    "    ResourceId=resource_id\n",
    ")\n",
    "\n",
    "response"
   ]
  },
  {
   "cell_type": "code",
   "execution_count": 165,
   "metadata": {},
   "outputs": [
    {
     "name": "stdout",
     "output_type": "stream",
     "text": [
      "2022-04-14 14:54:08.025000+00:00 - 2022-04-14 14:55:51.793000+00:00 - Successfully set desired instance count to 10. Change successfully fulfilled by sagemaker.\n",
      "2022-04-14 14:51:08.040000+00:00 - 2022-04-14 14:53:27.434000+00:00 - Successfully set desired instance count to 7. Change successfully fulfilled by sagemaker.\n",
      "2022-04-14 14:49:08.076000+00:00 - 2022-04-14 14:50:44.816000+00:00 - Successfully set desired instance count to 5. Change successfully fulfilled by sagemaker.\n",
      "2022-04-14 14:47:08.021000+00:00 - 2022-04-14 14:48:50.007000+00:00 - Successfully set desired instance count to 3. Change successfully fulfilled by sagemaker.\n"
     ]
    }
   ],
   "source": [
    "for scaling_activity in response['ScalingActivities']:\n",
    "    print(f\"{scaling_activity['StartTime']} - {scaling_activity['EndTime']} - {scaling_activity['StatusMessage']}\")"
   ]
  },
  {
   "cell_type": "markdown",
   "metadata": {},
   "source": [
    "### Optional cleanup\n",
    "When you're done with the endpoint, you'll want to clean it up."
   ]
  },
  {
   "cell_type": "code",
   "execution_count": 142,
   "metadata": {},
   "outputs": [],
   "source": [
    "predictor.delete_endpoint()"
   ]
  },
  {
   "cell_type": "code",
   "execution_count": null,
   "metadata": {},
   "outputs": [],
   "source": []
  }
 ],
 "metadata": {
  "instance_type": "ml.t3.medium",
  "kernelspec": {
   "display_name": "Python 3 (Data Science)",
   "language": "python",
   "name": "python3__SAGEMAKER_INTERNAL__arn:aws:sagemaker:us-east-1:081325390199:image/datascience-1.0"
  },
  "language_info": {
   "codemirror_mode": {
    "name": "ipython",
    "version": 3
   },
   "file_extension": ".py",
   "mimetype": "text/x-python",
   "name": "python",
   "nbconvert_exporter": "python",
   "pygments_lexer": "ipython3",
   "version": "3.7.10"
  }
 },
 "nbformat": 4,
 "nbformat_minor": 4
}
