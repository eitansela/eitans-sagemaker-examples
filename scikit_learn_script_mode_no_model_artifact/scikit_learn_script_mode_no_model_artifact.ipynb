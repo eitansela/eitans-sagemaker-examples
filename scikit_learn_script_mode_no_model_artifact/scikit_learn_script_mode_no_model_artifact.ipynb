{
 "cells": [
  {
   "cell_type": "markdown",
   "id": "377474cc",
   "metadata": {},
   "source": [
    "## Deploy Scikit-Learn average calculation logic on SageMaker Endpoint "
   ]
  },
  {
   "cell_type": "code",
   "execution_count": null,
   "id": "bde8c79d",
   "metadata": {},
   "outputs": [],
   "source": [
    "import datetime\n",
    "import time\n",
    "import tarfile\n",
    "from pathlib import Path\n",
    "import os\n",
    "import boto3\n",
    "import pandas as pd\n",
    "import numpy as np\n",
    "from sagemaker import get_execution_role\n",
    "import sagemaker\n",
    "from sagemaker.sklearn import SKLearn, SKLearnModel\n",
    "\n",
    "\n",
    "sm_boto3 = boto3.client(\"sagemaker\")\n",
    "\n",
    "sess = sagemaker.Session()\n",
    "\n",
    "region = sess.boto_session.region_name\n",
    "\n",
    "role = get_execution_role()\n",
    "\n",
    "bucket = sess.default_bucket()  # this could also be a hard-coded bucket name\n",
    "prefix = \"scikit_learn_average_calc\"\n",
    "\n",
    "print(\"Using bucket \" + bucket)"
   ]
  },
  {
   "cell_type": "markdown",
   "id": "0cee1ccc",
   "metadata": {},
   "source": [
    "## Create dummy model file\n",
    "\n",
    "SageMaker is expecting `model.tar.gz` file with a model inside. It could be a `pickle` file for example. In our case, we will just put an empty file."
   ]
  },
  {
   "cell_type": "code",
   "execution_count": null,
   "id": "7c826885",
   "metadata": {},
   "outputs": [],
   "source": [
    "dummy_model_file = Path(\"dummy.model\")\n",
    "dummy_model_file.touch()\n",
    "\n",
    "with tarfile.open(\"model.tar.gz\", \"w:gz\") as tar:\n",
    "    tar.add(dummy_model_file.as_posix())"
   ]
  },
  {
   "cell_type": "markdown",
   "id": "57016e7a",
   "metadata": {},
   "source": [
    "## Upload Model file to S3\n",
    "\n",
    "SageMaker SageMaker is expecting model.tar.gz file from S3, so we will upload it to S3."
   ]
  },
  {
   "cell_type": "code",
   "execution_count": null,
   "id": "4eece6c7",
   "metadata": {},
   "outputs": [],
   "source": [
    "fObj = open(\"model.tar.gz\", \"rb\")\n",
    "key = os.path.join(prefix, \"model.tar.gz\")\n",
    "boto3.Session().resource(\"s3\").Bucket(bucket).Object(key).upload_fileobj(fObj)"
   ]
  },
  {
   "cell_type": "markdown",
   "id": "55553dc7",
   "metadata": {},
   "source": [
    "## Set up hosting for the model\n",
    "\n",
    "This involves creating a SageMaker model from the dummy model file previously uploaded to S3."
   ]
  },
  {
   "cell_type": "code",
   "execution_count": null,
   "id": "97c8d6b5",
   "metadata": {},
   "outputs": [],
   "source": [
    "model_url = \"s3://{}/{}\".format(bucket, key)\n",
    "model_url"
   ]
  },
  {
   "cell_type": "markdown",
   "id": "8e57efb5",
   "metadata": {},
   "source": [
    "### Entry Point for the Inference Image\n",
    "\n",
    "Your model artifacts pointed by `model_data` is pulled by the `SKLearnModel` and it is decompressed and saved in\n",
    "in the docker image it defines. \n",
    "\n",
    "Also, the deployed endpoint interacts with RESTful API calls, you need to tell it how to parse an incoming \n",
    "request to your model. \n",
    "\n",
    "These two instructions needs to be defined as two functions in the python file pointed by `entry_point`.\n",
    "\n",
    "By convention, we name this entry point file `inference.py` and we put it in the `code` directory.\n",
    "\n",
    "To tell the inference image how to load the model checkpoint, you need to implement a function called \n",
    "`model_fn`. This function takes one positional arguments."
   ]
  },
  {
   "cell_type": "markdown",
   "id": "1e7068b6",
   "metadata": {},
   "source": [
    "### Predicting Functions\n",
    "\n",
    "* model_fn(model_dir) - loads your model.\n",
    "* input_fn(serialized_input_data, content_type) - deserializes predictions to predict_fn.\n",
    "* output_fn(prediction_output, accept) - serializes predictions from predict_fn.\n",
    "* predict_fn(input_data, model) - calls a model on data deserialized in input_fn.\n",
    "\n",
    "The model_fn() is the only function that doesn't have a default implementation and is required by the user for using PyTorch on SageMaker. \n"
   ]
  },
  {
   "cell_type": "markdown",
   "id": "3d7ccf8b",
   "metadata": {},
   "source": [
    "### Construct a script for inference\n",
    "Here is the full code that does model inference."
   ]
  },
  {
   "cell_type": "code",
   "execution_count": null,
   "id": "8a54bc72",
   "metadata": {},
   "outputs": [],
   "source": [
    "!pygmentize code/inference.py"
   ]
  },
  {
   "cell_type": "markdown",
   "id": "18745c5c",
   "metadata": {},
   "source": [
    "## Define the SKLearnModel Object\n",
    "\n",
    "`SKLearnModel` is a Scikit-learn SageMaker Model that can be deployed to a SageMaker Endpoint."
   ]
  },
  {
   "cell_type": "code",
   "execution_count": null,
   "id": "6d374e5f",
   "metadata": {},
   "outputs": [],
   "source": [
    "model = SKLearnModel(\n",
    "        role=role,\n",
    "        model_data=model_url,\n",
    "        framework_version='0.23-1',\n",
    "        py_version='py3',\n",
    "        source_dir='code',\n",
    "        entry_point='inference.py'\n",
    "    )"
   ]
  },
  {
   "cell_type": "markdown",
   "id": "75424ad7",
   "metadata": {},
   "source": [
    "## Deploy to SageMaker Endpoint"
   ]
  },
  {
   "cell_type": "code",
   "execution_count": null,
   "id": "42597ca4",
   "metadata": {},
   "outputs": [],
   "source": [
    "predictor = model.deploy(\n",
    "        initial_instance_count=1,\n",
    "        instance_type='ml.m5.large',\n",
    "    )"
   ]
  },
  {
   "cell_type": "markdown",
   "id": "7f7ddb88",
   "metadata": {},
   "source": [
    "## Invoke SageMaker Endpoint"
   ]
  },
  {
   "cell_type": "markdown",
   "id": "33457772",
   "metadata": {},
   "source": [
    "### Invoke with the Python SDK"
   ]
  },
  {
   "cell_type": "code",
   "execution_count": null,
   "id": "747c0a49",
   "metadata": {},
   "outputs": [],
   "source": [
    "inputs = np.array([1, 2, 3, 4 , 5])"
   ]
  },
  {
   "cell_type": "code",
   "execution_count": null,
   "id": "58de4b97",
   "metadata": {},
   "outputs": [],
   "source": [
    "predictions = predictor.predict(inputs)"
   ]
  },
  {
   "cell_type": "code",
   "execution_count": null,
   "id": "4b581b46",
   "metadata": {},
   "outputs": [],
   "source": [
    "print(predictions)"
   ]
  },
  {
   "cell_type": "markdown",
   "id": "ff1d2bd0",
   "metadata": {},
   "source": [
    "### Alternative: invoke with `boto3`"
   ]
  },
  {
   "cell_type": "code",
   "execution_count": null,
   "id": "6d6f954b",
   "metadata": {},
   "outputs": [],
   "source": [
    "runtime = boto3.client(\"sagemaker-runtime\")"
   ]
  },
  {
   "cell_type": "code",
   "execution_count": null,
   "id": "c52835a2",
   "metadata": {},
   "outputs": [],
   "source": [
    "# npy serialization\n",
    "from io import BytesIO\n",
    "\n",
    "\n",
    "# Serialise numpy ndarray as bytes\n",
    "buffer = BytesIO()\n",
    "# Assuming testX is a data frame\n",
    "np.save(buffer, inputs)\n",
    "\n",
    "response = runtime.invoke_endpoint(\n",
    "    EndpointName=predictor.endpoint, Body=buffer.getvalue(), ContentType=\"application/x-npy\"\n",
    ")\n",
    "\n",
    "print(response[\"Body\"].read().decode())"
   ]
  },
  {
   "cell_type": "markdown",
   "id": "d9444e90",
   "metadata": {},
   "source": [
    "## Clean up\n",
    "\n",
    "Endpoints should be deleted when no longer in use, since (per the [SageMaker pricing page](https://aws.amazon.com/sagemaker/pricing/)) they're billed by time deployed."
   ]
  },
  {
   "cell_type": "code",
   "execution_count": null,
   "id": "1fae2f04",
   "metadata": {},
   "outputs": [],
   "source": [
    "predictor.delete_endpoint()"
   ]
  },
  {
   "cell_type": "code",
   "execution_count": null,
   "id": "35077827",
   "metadata": {},
   "outputs": [],
   "source": []
  }
 ],
 "metadata": {
  "kernelspec": {
   "display_name": "conda_python3",
   "language": "python",
   "name": "conda_python3"
  },
  "language_info": {
   "codemirror_mode": {
    "name": "ipython",
    "version": 3
   },
   "file_extension": ".py",
   "mimetype": "text/x-python",
   "name": "python",
   "nbconvert_exporter": "python",
   "pygments_lexer": "ipython3",
   "version": "3.6.13"
  }
 },
 "nbformat": 4,
 "nbformat_minor": 5
}
