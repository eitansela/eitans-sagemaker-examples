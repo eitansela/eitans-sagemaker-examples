{
 "cells": [
  {
   "cell_type": "markdown",
   "id": "0905c3c6-d9db-4b90-93a5-fc1367d0b49a",
   "metadata": {
    "pycharm": {
     "name": "#%% md\n"
    }
   },
   "source": [
    "# Deploy your Tensorflow pretrained Model to SageMaker Endpoint in VPC\n",
    "\n",
    "In this notebook we will deploy a pre-trained Tensorflow model to SageMaker Endpoint.\n",
    "\n",
    "First we will deploy using SageMaker Python SDK, and then we will deploy using `boto3` SDK."
   ]
  },
  {
   "cell_type": "code",
   "execution_count": null,
   "id": "dac4956f-21de-4a6e-9cae-fac773eb4920",
   "metadata": {
    "pycharm": {
     "name": "#%%\n"
    }
   },
   "outputs": [],
   "source": [
    "import boto3\n",
    "import numpy as np\n",
    "import os\n",
    "import pandas as pd\n",
    "import re\n",
    "import json\n",
    "import datetime\n",
    "import time\n",
    "import sagemaker\n",
    "from sagemaker.tensorflow import TensorFlowModel\n",
    "from sagemaker import get_execution_role, Session, image_uris\n",
    "\n",
    "region = boto3.Session().region_name\n",
    "role = sagemaker.get_execution_role()\n",
    "sm_session = sagemaker.Session()\n",
    "sm_client = boto3.client(\"sagemaker\", region_name=region)\n",
    "\n",
    "bucket = sm_session.default_bucket()\n",
    "prefix = \"sagemaker/tensorflow-byom\"\n",
    "\n",
    "bucket"
   ]
  },
  {
   "cell_type": "markdown",
   "id": "2947b126-6ec3-40e9-a25d-d4699287f98f",
   "metadata": {
    "pycharm": {
     "name": "#%% md\n"
    }
   },
   "source": [
    "## Deploying the `Tensorflow` model using SageMaker Python SDK"
   ]
  },
  {
   "cell_type": "code",
   "execution_count": null,
   "id": "5175affc-f80e-4b66-9b34-dc077d23d07e",
   "metadata": {
    "pycharm": {
     "name": "#%%\n"
    }
   },
   "outputs": [],
   "source": [
    "model_dir = 's3://aws-ml-blog/artifacts/tensorflow-script-mode-local-model-inference/model.tar.gz'"
   ]
  },
  {
   "cell_type": "code",
   "execution_count": null,
   "id": "d60a9cdf-ee0c-497b-8945-51b3357111d5",
   "metadata": {
    "pycharm": {
     "name": "#%%\n"
    }
   },
   "outputs": [],
   "source": [
    "!pygmentize code/inference.py"
   ]
  },
  {
   "cell_type": "code",
   "execution_count": null,
   "id": "a0be76f2-984c-4dd1-9e83-10bb5925203a",
   "metadata": {
    "pycharm": {
     "name": "#%%\n"
    }
   },
   "outputs": [],
   "source": [
    "env={\n",
    "        \"MY_ENV_VAR_1\":\"some_value_1\",\n",
    "        \"MY_ENV_VAR_2\":\"some_value_2\"\n",
    "    }"
   ]
  },
  {
   "cell_type": "code",
   "execution_count": null,
   "id": "7156162c-3a97-41b5-9f66-c4ebc79f43dd",
   "metadata": {
    "pycharm": {
     "name": "#%%\n"
    }
   },
   "outputs": [],
   "source": [
    "model = TensorFlowModel(\n",
    "        entry_point='inference.py',\n",
    "        source_dir='./code',\n",
    "        role=role,\n",
    "        model_data=model_dir,\n",
    "        framework_version='2.8',\n",
    "        env=env\n",
    ")"
   ]
  },
  {
   "cell_type": "code",
   "execution_count": null,
   "id": "b2428c8e-9235-4d80-b118-4a16d320c73b",
   "metadata": {
    "pycharm": {
     "name": "#%%\n"
    }
   },
   "outputs": [],
   "source": [
    "predictor = model.deploy(\n",
    "        initial_instance_count=1,\n",
    "        instance_type='ml.c5.xlarge'\n",
    ")"
   ]
  },
  {
   "cell_type": "code",
   "execution_count": null,
   "id": "78227a11-5de8-485e-83cb-9477b38250f6",
   "metadata": {
    "pycharm": {
     "name": "#%%\n"
    }
   },
   "outputs": [],
   "source": [
    "with open(\"instances.json\", 'r') as f:\n",
    "    payload = f.read().strip()"
   ]
  },
  {
   "cell_type": "code",
   "execution_count": null,
   "id": "79da37af-4d95-46f3-b70d-17ca055cb277",
   "metadata": {
    "pycharm": {
     "name": "#%%\n"
    }
   },
   "outputs": [],
   "source": [
    "predictions = predictor.predict(payload)"
   ]
  },
  {
   "cell_type": "code",
   "execution_count": null,
   "id": "4dc75fad-140c-4dd7-89b9-0a8904a3cd43",
   "metadata": {
    "pycharm": {
     "name": "#%%\n"
    }
   },
   "outputs": [],
   "source": [
    "predictions"
   ]
  },
  {
   "cell_type": "code",
   "execution_count": null,
   "id": "cf956ef2-9210-4e65-bc9a-7bee0e53a7bc",
   "metadata": {
    "pycharm": {
     "name": "#%%\n"
    }
   },
   "outputs": [],
   "source": [
    "predictor.delete_endpoint()"
   ]
  },
  {
   "cell_type": "markdown",
   "id": "6d1969d8-9858-466a-9192-367f6893044f",
   "metadata": {
    "pycharm": {
     "name": "#%% md\n"
    }
   },
   "source": [
    "## Deploying the `Tensorflow` model using `boto3` "
   ]
  },
  {
   "cell_type": "markdown",
   "id": "bd4e5a45-9646-4516-a0e4-5a494b54e727",
   "metadata": {
    "pycharm": {
     "name": "#%% md\n"
    }
   },
   "source": [
    "Let's get the data of the model we deployed earlier. This will help us with manually deploying using `boto3`."
   ]
  },
  {
   "cell_type": "code",
   "execution_count": null,
   "id": "24ea8048-a5e5-41d4-a9a5-c5b2e890582c",
   "metadata": {
    "pycharm": {
     "name": "#%%\n"
    }
   },
   "outputs": [],
   "source": [
    "model.name"
   ]
  },
  {
   "cell_type": "code",
   "execution_count": null,
   "id": "74389d7d-29ef-49c1-af94-736a95a5f511",
   "metadata": {
    "pycharm": {
     "name": "#%%\n"
    }
   },
   "outputs": [],
   "source": [
    "response = sm_client.describe_model(\n",
    "    ModelName=model.name\n",
    ")\n",
    "print(json.dumps(response, indent=4, default=str))"
   ]
  },
  {
   "cell_type": "code",
   "execution_count": null,
   "id": "4ad9f06a-7df8-41e8-8e02-2d5e74753e8e",
   "metadata": {
    "pycharm": {
     "name": "#%%\n"
    }
   },
   "outputs": [],
   "source": [
    "!aws s3 cp {model_dir} ."
   ]
  },
  {
   "cell_type": "markdown",
   "id": "84676392-de85-4d7d-b43a-ab27877fcf67",
   "metadata": {
    "pycharm": {
     "name": "#%% md\n"
    }
   },
   "source": [
    "### Prepare model manually\n",
    "\n",
    "For Tensorflow, the contents of model.tar.gz should be organized as follows:\n",
    "\n",
    " - Model files in the top-level directory\n",
    "\n",
    " - Inference script (and any other source files) in a directory named code/ (for more about the inference script, see The SageMaker PyTorch Model Server)\n",
    "\n",
    " - Optional requirements file located at code/requirements.txt (for more about requirements files, see Using third-party libraries)\n",
    "\n",
    "For example:\n",
    "\n",
    "```\n",
    "model.tar.gz/\n",
    "|- 00000000/\n",
    "  |- assets/\n",
    "  |- variables/\n",
    "  |- saved_model.pb\n",
    "|- code/\n",
    "  |- inference.py\n",
    "  |- requirements.txt \n",
    "```"
   ]
  },
  {
   "cell_type": "code",
   "execution_count": null,
   "id": "58009bb0-bc82-4a65-8228-e3ae47744060",
   "metadata": {
    "pycharm": {
     "name": "#%%\n"
    }
   },
   "outputs": [],
   "source": [
    "!mkdir -p model\n",
    "!tar -xvf model.tar.gz -C ./model\n",
    "!rm model.tar.gz"
   ]
  },
  {
   "cell_type": "code",
   "execution_count": null,
   "id": "32ebeb10-0ece-4c10-96e9-404328f6170d",
   "metadata": {
    "pycharm": {
     "name": "#%%\n"
    }
   },
   "outputs": [],
   "source": [
    "!cp -r code ./model"
   ]
  },
  {
   "cell_type": "code",
   "execution_count": null,
   "id": "6e3e29d5-99eb-4e6c-ac8d-43b6e0e0122d",
   "metadata": {
    "pycharm": {
     "name": "#%%\n"
    }
   },
   "outputs": [],
   "source": [
    "!ls -rtl ./model"
   ]
  },
  {
   "cell_type": "code",
   "execution_count": null,
   "id": "fbd88ef8-d28c-44a2-aaa8-08f70fdab4c0",
   "metadata": {
    "pycharm": {
     "name": "#%%\n"
    }
   },
   "outputs": [],
   "source": [
    "!ls -rtlR ./model"
   ]
  },
  {
   "cell_type": "code",
   "execution_count": null,
   "id": "c5421de0-2a4b-4308-82b5-dcd7855d97c9",
   "metadata": {
    "pycharm": {
     "name": "#%%\n"
    }
   },
   "outputs": [],
   "source": [
    "!cd model && tar czvf ../model.tar.gz *"
   ]
  },
  {
   "cell_type": "code",
   "execution_count": null,
   "id": "1256f456-dcc5-47ad-8559-97725700c684",
   "metadata": {
    "pycharm": {
     "name": "#%%\n"
    }
   },
   "outputs": [],
   "source": [
    "fObj = open(\"model.tar.gz\", \"rb\")\n",
    "key = os.path.join(prefix, \"model.tar.gz\")\n",
    "boto3.Session().resource(\"s3\").Bucket(bucket).Object(key).upload_fileobj(fObj)\n",
    "print(os.path.join(bucket, key))"
   ]
  },
  {
   "cell_type": "code",
   "execution_count": null,
   "id": "69d06efd-de7a-4fbf-83fe-ff58bd59d78f",
   "metadata": {
    "pycharm": {
     "name": "#%%\n"
    }
   },
   "outputs": [],
   "source": [
    "pretrained_model_data = \"s3://{}/{}\".format(bucket, key)\n",
    "pretrained_model_data"
   ]
  },
  {
   "cell_type": "code",
   "execution_count": null,
   "id": "7a5ec9ac-7425-4475-8a61-e27dbdfee146",
   "metadata": {
    "pycharm": {
     "name": "#%%\n"
    }
   },
   "outputs": [],
   "source": [
    "!aws s3 ls {pretrained_model_data}"
   ]
  },
  {
   "cell_type": "code",
   "execution_count": null,
   "id": "a686e9d7-2c81-424e-9e66-d07c1c7c010d",
   "metadata": {
    "pycharm": {
     "name": "#%%\n"
    }
   },
   "outputs": [],
   "source": [
    "instance_type = \"ml.c5.xlarge\"  \n",
    "dlc_uri = image_uris.retrieve(\n",
    "    \"tensorflow\",\n",
    "    region,\n",
    "    version=\"2.8\",\n",
    "    py_version=\"py3\",\n",
    "    instance_type=instance_type,\n",
    "    image_scope=\"inference\",\n",
    ")\n",
    "dlc_uri"
   ]
  },
  {
   "cell_type": "markdown",
   "id": "c4770f3e-46d4-4ae2-9444-f649938adc9c",
   "metadata": {
    "pycharm": {
     "name": "#%% md\n"
    }
   },
   "source": [
    "### Create a Model inside a VPC"
   ]
  },
  {
   "cell_type": "markdown",
   "id": "27ad9601-cedb-48fc-b57b-a76533c1b13a",
   "metadata": {},
   "source": [
    "Let's find the VPC to use.\n",
    "\n",
    "Please ensure that an S3 VPC endpoint exists in route table or NAT gateway for the VPC mode and the URL is reachable from within the subnets provided."
   ]
  },
  {
   "cell_type": "code",
   "execution_count": null,
   "id": "affe9bd4-3fdb-4d0f-a586-296e2dae23eb",
   "metadata": {},
   "outputs": [],
   "source": [
    "ec2 = boto3.resource('ec2')\n",
    "filters = [{'Name':'tag:Name', 'Values':['<YOUR VPC>']}]\n",
    "vpc = list(ec2.vpcs.filter(Filters=filters))\n",
    "default_vpc = vpc[0]\n",
    "default_vpc_id = default_vpc.id\n",
    "default_vpc_id"
   ]
  },
  {
   "cell_type": "markdown",
   "id": "2d12628b-1bee-471b-bbd9-96f91e17cf1a",
   "metadata": {},
   "source": [
    "Let's find the subnets in this VPC.\n",
    "\n",
    "You must create at least two subnets in different availability zones in your private VPC, even if you have only one hosting instance."
   ]
  },
  {
   "cell_type": "code",
   "execution_count": null,
   "id": "04636a8a-8c4e-4b92-a63a-4d5c6a04543a",
   "metadata": {},
   "outputs": [],
   "source": [
    "client = boto3.client('ec2')\n",
    "subnets = client.describe_subnets(\n",
    "    Filters=[\n",
    "        {\n",
    "            'Name': 'vpc-id',\n",
    "            'Values': [\n",
    "                default_vpc_id\n",
    "            ]\n",
    "        }\n",
    "    ]\n",
    ")\n",
    "\n",
    "subnets_list = []\n",
    "for subnet in subnets['Subnets'] :\n",
    "    subnets_list.append(subnet['SubnetId'])\n",
    "    \n",
    "subnets_list"
   ]
  },
  {
   "cell_type": "markdown",
   "id": "a94659b8-87a8-4bd9-a634-0ee678995560",
   "metadata": {},
   "source": [
    "Security Group must be open for HTTP (port 80) and HTTPS (port 443)."
   ]
  },
  {
   "cell_type": "code",
   "execution_count": null,
   "id": "e11c732b-7580-4491-8b89-90e852ada107",
   "metadata": {},
   "outputs": [],
   "source": [
    "sagemaker_endpoint_sg = \"<YOUR SECURITY GROUP>\""
   ]
  },
  {
   "cell_type": "code",
   "execution_count": null,
   "id": "a8582f97-26fe-4bcf-aed4-ea8c79fb394d",
   "metadata": {
    "pycharm": {
     "name": "#%%\n"
    }
   },
   "outputs": [],
   "source": [
    "model_name = \"tensorflow-model-\" + datetime.datetime.now().strftime(\"%Y-%m-%d-%H-%M-%S\")\n",
    "\n",
    "create_model_response = sm_client.create_model(\n",
    "    ModelName=model_name,\n",
    "    PrimaryContainer={\n",
    "        \"Image\": dlc_uri,\n",
    "        \"Mode\": \"SingleModel\",\n",
    "        \"ModelDataUrl\": pretrained_model_data,\n",
    "        \"Environment\": {\n",
    "            \"MY_ENV_VAR_1\": \"some_value_1\",\n",
    "            \"MY_ENV_VAR_2\": \"some_value_2\"\n",
    "        },\n",
    "    },\n",
    "    ExecutionRoleArn=role,\n",
    "    VpcConfig={\n",
    "        'SecurityGroupIds': [\n",
    "            sagemaker_endpoint_sg\n",
    "        ],\n",
    "        'Subnets': subnets_list\n",
    "    }\n",
    ")\n",
    "\n",
    "create_model_response"
   ]
  },
  {
   "cell_type": "markdown",
   "id": "1fdb69f4-d3da-4f32-b2d4-cf3c11093c13",
   "metadata": {
    "pycharm": {
     "name": "#%% md\n"
    }
   },
   "source": [
    "### Create an Endpoint Config from the model"
   ]
  },
  {
   "cell_type": "code",
   "execution_count": null,
   "id": "e6c8935d-5c74-4163-ae5a-6cc4deba9e39",
   "metadata": {
    "pycharm": {
     "name": "#%%\n"
    }
   },
   "outputs": [],
   "source": [
    "endpoint_config_name = \"tensorflow-endpoint-config-\" + datetime.datetime.now().strftime(\n",
    "    \"%Y-%m-%d-%H-%M-%S\"\n",
    ")\n",
    "\n",
    "endpoint_config_response = sm_client.create_endpoint_config(\n",
    "    EndpointConfigName=endpoint_config_name,\n",
    "    ProductionVariants=[\n",
    "        {\n",
    "            \"VariantName\": \"AllTrafficVariant\",\n",
    "            \"ModelName\": model_name,\n",
    "            \"InitialInstanceCount\": 1,\n",
    "            \"InstanceType\": \"ml.c5.large\",\n",
    "            \"InitialVariantWeight\": 1,\n",
    "        },\n",
    "    ],\n",
    ")\n",
    "\n",
    "endpoint_config_response"
   ]
  },
  {
   "cell_type": "markdown",
   "id": "6ddcdd36-0957-4bc5-9a95-dd384380b04f",
   "metadata": {
    "pycharm": {
     "name": "#%% md\n"
    }
   },
   "source": [
    "### Deploy the Endpoint Config to a real-time endpoint"
   ]
  },
  {
   "cell_type": "code",
   "execution_count": null,
   "id": "bcb01cf7-5f45-4434-b8aa-f3a7e73e3001",
   "metadata": {
    "pycharm": {
     "name": "#%%\n"
    }
   },
   "outputs": [],
   "source": [
    "endpoint_name = \"tensorflow-endpoint-\" + datetime.datetime.now().strftime(\"%Y-%m-%d-%H-%M-%S\")\n",
    "\n",
    "create_endpoint_response = sm_client.create_endpoint(\n",
    "    EndpointName=endpoint_name,\n",
    "    EndpointConfigName=endpoint_config_name,\n",
    ")\n",
    "\n",
    "create_endpoint_response"
   ]
  },
  {
   "cell_type": "markdown",
   "id": "c35cbeb9-addb-44fb-9d86-ae96b0e44312",
   "metadata": {
    "pycharm": {
     "name": "#%% md\n"
    }
   },
   "source": [
    "### Wait for Endpoint to be ready"
   ]
  },
  {
   "cell_type": "code",
   "execution_count": null,
   "id": "b5fcc959-38ab-4e7a-99ca-534943d7c39e",
   "metadata": {
    "pycharm": {
     "name": "#%%\n"
    }
   },
   "outputs": [],
   "source": [
    "describe_endpoint_response = sm_client.describe_endpoint(EndpointName=endpoint_name)\n",
    "\n",
    "while describe_endpoint_response[\"EndpointStatus\"] == \"Creating\":\n",
    "    describe_endpoint_response = sm_client.describe_endpoint(EndpointName=endpoint_name)\n",
    "    print(describe_endpoint_response[\"EndpointStatus\"])\n",
    "    time.sleep(15)\n",
    "\n",
    "describe_endpoint_response"
   ]
  },
  {
   "cell_type": "markdown",
   "id": "c172785d-d1e7-44af-9964-211c81bd5662",
   "metadata": {
    "pycharm": {
     "name": "#%% md\n"
    }
   },
   "source": [
    "### Invoke Endpoint with boto3"
   ]
  },
  {
   "cell_type": "code",
   "execution_count": null,
   "id": "0ac6e18f-6030-45a1-a1d7-3806ca313baa",
   "metadata": {
    "pycharm": {
     "name": "#%%\n"
    }
   },
   "outputs": [],
   "source": [
    "runtime = boto3.client(\"sagemaker-runtime\")"
   ]
  },
  {
   "cell_type": "code",
   "execution_count": null,
   "id": "6383cb7a-7c89-4548-be1e-75da9a09fc9e",
   "metadata": {
    "pycharm": {
     "name": "#%%\n"
    }
   },
   "outputs": [],
   "source": [
    "response = runtime.invoke_endpoint(\n",
    "    EndpointName=endpoint_name,\n",
    "    Body=json.dumps(payload),\n",
    "    ContentType=\"application/json\",\n",
    ")\n",
    "\n",
    "print(response[\"Body\"].read())"
   ]
  },
  {
   "cell_type": "markdown",
   "id": "d953822d-1e89-477c-9211-73b5d0166e9a",
   "metadata": {
    "pycharm": {
     "name": "#%% md\n"
    }
   },
   "source": [
    "## Clean up"
   ]
  },
  {
   "cell_type": "code",
   "execution_count": null,
   "id": "21711b09-9faf-45f5-8639-d3cc5c12c06f",
   "metadata": {
    "pycharm": {
     "name": "#%%\n"
    }
   },
   "outputs": [],
   "source": [
    "sm_client.delete_endpoint(EndpointName=endpoint_name)"
   ]
  },
  {
   "cell_type": "code",
   "execution_count": null,
   "id": "06c91cdf-ce7b-4e99-817a-c648581a6fce",
   "metadata": {
    "pycharm": {
     "name": "#%%\n"
    }
   },
   "outputs": [],
   "source": []
  },
  {
   "cell_type": "code",
   "execution_count": null,
   "id": "c590d540-ee5b-4999-acff-79b6dadbda7c",
   "metadata": {
    "pycharm": {
     "name": "#%%\n"
    }
   },
   "outputs": [],
   "source": []
  }
 ],
 "metadata": {
  "instance_type": "ml.t3.medium",
  "kernelspec": {
   "display_name": "Python 3 (Data Science)",
   "language": "python",
   "name": "python3__SAGEMAKER_INTERNAL__arn:aws:sagemaker:us-east-1:081325390199:image/datascience-1.0"
  },
  "language_info": {
   "codemirror_mode": {
    "name": "ipython",
    "version": 3
   },
   "file_extension": ".py",
   "mimetype": "text/x-python",
   "name": "python",
   "nbconvert_exporter": "python",
   "pygments_lexer": "ipython3",
   "version": "3.7.10"
  }
 },
 "nbformat": 4,
 "nbformat_minor": 5
}
