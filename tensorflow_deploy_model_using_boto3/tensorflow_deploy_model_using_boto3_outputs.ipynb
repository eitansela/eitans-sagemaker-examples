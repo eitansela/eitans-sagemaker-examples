{
 "cells": [
  {
   "cell_type": "markdown",
   "id": "0905c3c6-d9db-4b90-93a5-fc1367d0b49a",
   "metadata": {
    "pycharm": {
     "name": "#%% md\n"
    }
   },
   "source": [
    "# Deploy your Tensorflow pretrained Model to SageMaker Endpoint\n",
    "\n",
    "In this notebook we will deploy a pre-trained Tensorflow model to SageMaker Endpoint.\n",
    "\n",
    "First we will deploy using SageMaker Python SDK, and then we will deploy using `boto3` SDK.\n",
    "\n",
    "When using SageMaker Python SDK `model.deploy` few things happen behind the scenes :\n",
    " - A [Model](https://sagemaker.readthedocs.io/en/stable/api/inference/model.html) is created.\n",
    " - Create an [endpoint configuration](https://docs.aws.amazon.com/sagemaker/latest/APIReference/API_CreateEndpointConfig.html) that SageMaker hosting services uses to deploy models. \n",
    " - Create an [endpoint](https://docs.aws.amazon.com/sagemaker/latest/APIReference/API_CreateEndpoint.html) using the endpoint configuration specified in the request. SageMaker uses the endpoint to provision resources and deploy models. "
   ]
  },
  {
   "cell_type": "code",
   "execution_count": 2,
   "id": "dac4956f-21de-4a6e-9cae-fac773eb4920",
   "metadata": {
    "pycharm": {
     "name": "#%%\n"
    }
   },
   "outputs": [
    {
     "data": {
      "text/plain": [
       "'sagemaker-us-east-1-062083580489'"
      ]
     },
     "execution_count": 2,
     "metadata": {},
     "output_type": "execute_result"
    }
   ],
   "source": [
    "import boto3\n",
    "import numpy as np\n",
    "import os\n",
    "import pandas as pd\n",
    "import re\n",
    "import json\n",
    "import datetime\n",
    "import time\n",
    "import sagemaker\n",
    "from sagemaker.tensorflow import TensorFlowModel\n",
    "from sagemaker import get_execution_role, Session, image_uris\n",
    "\n",
    "region = boto3.Session().region_name\n",
    "role = sagemaker.get_execution_role()\n",
    "sm_session = sagemaker.Session()\n",
    "sm_client = boto3.client(\"sagemaker\", region_name=region)\n",
    "\n",
    "bucket = sm_session.default_bucket()\n",
    "prefix = \"sagemaker/tensorflow-byom\"\n",
    "\n",
    "bucket"
   ]
  },
  {
   "cell_type": "markdown",
   "id": "2947b126-6ec3-40e9-a25d-d4699287f98f",
   "metadata": {
    "pycharm": {
     "name": "#%% md\n"
    }
   },
   "source": [
    "## Deploying the `Tensorflow` model using SageMaker Python SDK"
   ]
  },
  {
   "cell_type": "code",
   "execution_count": 3,
   "id": "5175affc-f80e-4b66-9b34-dc077d23d07e",
   "metadata": {
    "pycharm": {
     "name": "#%%\n"
    }
   },
   "outputs": [],
   "source": [
    "model_dir = 's3://aws-ml-blog/artifacts/tensorflow-script-mode-local-model-inference/model.tar.gz'"
   ]
  },
  {
   "cell_type": "code",
   "execution_count": 4,
   "id": "d60a9cdf-ee0c-497b-8945-51b3357111d5",
   "metadata": {
    "pycharm": {
     "name": "#%%\n"
    }
   },
   "outputs": [
    {
     "name": "stdout",
     "output_type": "stream",
     "text": [
      "\u001b[34mimport\u001b[39;49;00m \u001b[04m\u001b[36mjson\u001b[39;49;00m\n",
      "\u001b[34mimport\u001b[39;49;00m \u001b[04m\u001b[36mos\u001b[39;49;00m\n",
      "\u001b[34mimport\u001b[39;49;00m \u001b[04m\u001b[36mrequests\u001b[39;49;00m\n",
      "\n",
      "\n",
      "\u001b[34mdef\u001b[39;49;00m \u001b[32mhandler\u001b[39;49;00m(data, context):\n",
      "    \u001b[33m\"\"\"Handle request.\u001b[39;49;00m\n",
      "\u001b[33m    Args:\u001b[39;49;00m\n",
      "\u001b[33m        data (obj): the request data\u001b[39;49;00m\n",
      "\u001b[33m        context (Context): an object containing request and configuration details\u001b[39;49;00m\n",
      "\u001b[33m    Returns:\u001b[39;49;00m\n",
      "\u001b[33m        (bytes, string): data to return to client, (optional) response content type\u001b[39;49;00m\n",
      "\u001b[33m    \"\"\"\u001b[39;49;00m\n",
      "\n",
      "    \u001b[36mprint\u001b[39;49;00m(\u001b[33m\"\u001b[39;49;00m\u001b[33mhandler start\u001b[39;49;00m\u001b[33m\"\u001b[39;49;00m)\n",
      "    \n",
      "    my_env_var_1 = os.environ.get(\u001b[33m'\u001b[39;49;00m\u001b[33mMY_ENV_VAR_1\u001b[39;49;00m\u001b[33m'\u001b[39;49;00m)\n",
      "    my_env_var_2 = os.environ.get(\u001b[33m'\u001b[39;49;00m\u001b[33mMY_ENV_VAR_2\u001b[39;49;00m\u001b[33m'\u001b[39;49;00m)\n",
      "    \u001b[36mprint\u001b[39;49;00m(\u001b[33mf\u001b[39;49;00m\u001b[33m\"\u001b[39;49;00m\u001b[33mENV Variable MY_ENV_VAR_1 value: \u001b[39;49;00m\u001b[33m{my_env_var_1}\u001b[39;49;00m\u001b[33m\"\u001b[39;49;00m)\n",
      "    \u001b[36mprint\u001b[39;49;00m(\u001b[33mf\u001b[39;49;00m\u001b[33m\"\u001b[39;49;00m\u001b[33mENV Variable MY_ENV_VAR_2 value: \u001b[39;49;00m\u001b[33m{my_env_var_2}\u001b[39;49;00m\u001b[33m\"\u001b[39;49;00m)\n",
      "\n",
      "    processed_input = _process_input(data, context)\n",
      "    response = requests.post(context.rest_uri, data=processed_input)\n",
      "    \u001b[34mreturn\u001b[39;49;00m _process_output(response, context)\n",
      "\n",
      "\n",
      "\u001b[34mdef\u001b[39;49;00m \u001b[32m_process_input\u001b[39;49;00m(data, context):\n",
      "    \u001b[34mif\u001b[39;49;00m context.request_content_type == \u001b[33m'\u001b[39;49;00m\u001b[33mapplication/json\u001b[39;49;00m\u001b[33m'\u001b[39;49;00m:\n",
      "        \u001b[37m# pass through json (assumes it's correctly formed)\u001b[39;49;00m\n",
      "        d = data.read().decode(\u001b[33m'\u001b[39;49;00m\u001b[33mutf-8\u001b[39;49;00m\u001b[33m'\u001b[39;49;00m)\n",
      "        \u001b[36mprint\u001b[39;49;00m(\u001b[33m'\u001b[39;49;00m\u001b[33minput data: \u001b[39;49;00m\u001b[33m{}\u001b[39;49;00m\u001b[33m'\u001b[39;49;00m.format(d))\n",
      "        input_json = json.loads(d)\n",
      "\n",
      "        \u001b[34mreturn\u001b[39;49;00m input_json\n",
      "\n",
      "    \u001b[34mif\u001b[39;49;00m context.request_content_type == \u001b[33m'\u001b[39;49;00m\u001b[33mtext/csv\u001b[39;49;00m\u001b[33m'\u001b[39;49;00m:\n",
      "        \u001b[37m# very simple csv handler\u001b[39;49;00m\n",
      "        \u001b[34mreturn\u001b[39;49;00m json.dumps({\n",
      "            \u001b[33m'\u001b[39;49;00m\u001b[33minstances\u001b[39;49;00m\u001b[33m'\u001b[39;49;00m: [\u001b[36mfloat\u001b[39;49;00m(x) \u001b[34mfor\u001b[39;49;00m x \u001b[35min\u001b[39;49;00m data.read().decode(\u001b[33m'\u001b[39;49;00m\u001b[33mutf-8\u001b[39;49;00m\u001b[33m'\u001b[39;49;00m).split(\u001b[33m'\u001b[39;49;00m\u001b[33m,\u001b[39;49;00m\u001b[33m'\u001b[39;49;00m)]\n",
      "        })\n",
      "\n",
      "    \u001b[34mraise\u001b[39;49;00m \u001b[36mValueError\u001b[39;49;00m(\u001b[33m'\u001b[39;49;00m\u001b[33m{{\u001b[39;49;00m\u001b[33m\"\u001b[39;49;00m\u001b[33merror\u001b[39;49;00m\u001b[33m\"\u001b[39;49;00m\u001b[33m: \u001b[39;49;00m\u001b[33m\"\u001b[39;49;00m\u001b[33munsupported content type \u001b[39;49;00m\u001b[33m{}\u001b[39;49;00m\u001b[33m\"\u001b[39;49;00m\u001b[33m}}\u001b[39;49;00m\u001b[33m'\u001b[39;49;00m.format(\n",
      "        context.request_content_type \u001b[35mor\u001b[39;49;00m \u001b[33m\"\u001b[39;49;00m\u001b[33munknown\u001b[39;49;00m\u001b[33m\"\u001b[39;49;00m))\n",
      "\n",
      "\n",
      "\u001b[34mdef\u001b[39;49;00m \u001b[32m_process_output\u001b[39;49;00m(data, context):\n",
      "    \u001b[34mif\u001b[39;49;00m data.status_code != \u001b[34m200\u001b[39;49;00m:\n",
      "        \u001b[34mraise\u001b[39;49;00m \u001b[36mValueError\u001b[39;49;00m(data.content.decode(\u001b[33m'\u001b[39;49;00m\u001b[33mutf-8\u001b[39;49;00m\u001b[33m'\u001b[39;49;00m))\n",
      "\n",
      "    response_content_type = context.accept_header\n",
      "    prediction = data.content\n",
      "    \u001b[34mreturn\u001b[39;49;00m prediction, response_content_type\n"
     ]
    }
   ],
   "source": [
    "!pygmentize code/inference.py"
   ]
  },
  {
   "cell_type": "code",
   "execution_count": 5,
   "id": "a0be76f2-984c-4dd1-9e83-10bb5925203a",
   "metadata": {
    "pycharm": {
     "name": "#%%\n"
    }
   },
   "outputs": [],
   "source": [
    "env={\n",
    "        \"MY_ENV_VAR_1\":\"some_value_1\",\n",
    "        \"MY_ENV_VAR_2\":\"some_value_2\"\n",
    "    }"
   ]
  },
  {
   "cell_type": "code",
   "execution_count": 6,
   "id": "7156162c-3a97-41b5-9f66-c4ebc79f43dd",
   "metadata": {
    "pycharm": {
     "name": "#%%\n"
    }
   },
   "outputs": [],
   "source": [
    "model = TensorFlowModel(\n",
    "        entry_point='inference.py',\n",
    "        source_dir='./code',\n",
    "        role=role,\n",
    "        model_data=model_dir,\n",
    "        framework_version='2.8',\n",
    "        env=env\n",
    ")"
   ]
  },
  {
   "cell_type": "code",
   "execution_count": 7,
   "id": "b2428c8e-9235-4d80-b118-4a16d320c73b",
   "metadata": {
    "pycharm": {
     "name": "#%%\n"
    }
   },
   "outputs": [
    {
     "name": "stderr",
     "output_type": "stream",
     "text": [
      "update_endpoint is a no-op in sagemaker>=2.\n",
      "See: https://sagemaker.readthedocs.io/en/stable/v2.html for details.\n"
     ]
    },
    {
     "name": "stdout",
     "output_type": "stream",
     "text": [
      "----!CPU times: user 925 ms, sys: 95.4 ms, total: 1.02 s\n",
      "Wall time: 2min 3s\n"
     ]
    }
   ],
   "source": [
    "%%time\n",
    "predictor = model.deploy(\n",
    "        initial_instance_count=1,\n",
    "        instance_type='ml.c5.xlarge'\n",
    ")"
   ]
  },
  {
   "cell_type": "code",
   "execution_count": 8,
   "id": "78227a11-5de8-485e-83cb-9477b38250f6",
   "metadata": {
    "pycharm": {
     "name": "#%%\n"
    }
   },
   "outputs": [],
   "source": [
    "with open(\"instances.json\", 'r') as f:\n",
    "    payload = f.read().strip()"
   ]
  },
  {
   "cell_type": "code",
   "execution_count": 9,
   "id": "79da37af-4d95-46f3-b70d-17ca055cb277",
   "metadata": {
    "pycharm": {
     "name": "#%%\n"
    }
   },
   "outputs": [],
   "source": [
    "predictions = predictor.predict(payload)"
   ]
  },
  {
   "cell_type": "code",
   "execution_count": 10,
   "id": "4dc75fad-140c-4dd7-89b9-0a8904a3cd43",
   "metadata": {
    "pycharm": {
     "name": "#%%\n"
    }
   },
   "outputs": [
    {
     "data": {
      "text/plain": [
       "{'predictions': [[-0.857780874,\n",
       "   -1.81817758,\n",
       "   2.76210523,\n",
       "   2.03228235,\n",
       "   -3.43221879,\n",
       "   5.26243401,\n",
       "   -0.494464874,\n",
       "   -0.795938611,\n",
       "   -0.56202811,\n",
       "   -1.50765276],\n",
       "  [-0.666391969,\n",
       "   -2.0177176,\n",
       "   2.43444324,\n",
       "   2.35294914,\n",
       "   -3.84540677,\n",
       "   3.97808194,\n",
       "   -0.696056128,\n",
       "   0.48086521,\n",
       "   0.374087,\n",
       "   -2.12169862],\n",
       "  [-0.329581439,\n",
       "   -2.6850543,\n",
       "   3.53677535,\n",
       "   2.94765186,\n",
       "   -3.2035954,\n",
       "   4.71845722,\n",
       "   1.03743863,\n",
       "   -1.22946465,\n",
       "   -0.418955058,\n",
       "   -1.86088586],\n",
       "  [-0.297454685,\n",
       "   -1.6222614,\n",
       "   4.09099722,\n",
       "   1.18229735,\n",
       "   -2.3494916,\n",
       "   3.86405587,\n",
       "   0.264097422,\n",
       "   -0.982173324,\n",
       "   0.60177213,\n",
       "   -1.56709647]]}"
      ]
     },
     "execution_count": 10,
     "metadata": {},
     "output_type": "execute_result"
    }
   ],
   "source": [
    "predictions"
   ]
  },
  {
   "cell_type": "markdown",
   "id": "01dee69f-e62f-440e-8858-57eb86370784",
   "metadata": {},
   "source": [
    "### Listing the Model, endpoint configuration and endpoint created previously with SageMaker Python SDK `model.deploy`"
   ]
  },
  {
   "cell_type": "code",
   "execution_count": 11,
   "id": "39c4e5d1-9d47-4bf5-a3f0-9fb90b4e0169",
   "metadata": {},
   "outputs": [
    {
     "data": {
      "text/plain": [
       "'tensorflow-inference-2022-11-30-13-11-35-628'"
      ]
     },
     "execution_count": 11,
     "metadata": {},
     "output_type": "execute_result"
    }
   ],
   "source": [
    "endpoint_name = predictor.endpoint_name\n",
    "endpoint_name"
   ]
  },
  {
   "cell_type": "markdown",
   "id": "fc2a080a-31f5-4868-bf46-4a917f4ef09b",
   "metadata": {},
   "source": [
    "#### Get description of the endpoint\n",
    "\n",
    "Let's get the description of the endpoint to find the endpoint configuration associated with it "
   ]
  },
  {
   "cell_type": "code",
   "execution_count": 12,
   "id": "c7d52ac6-f2f6-4b22-9216-1a8912d1dc62",
   "metadata": {},
   "outputs": [
    {
     "data": {
      "text/plain": [
       "{'EndpointName': 'tensorflow-inference-2022-11-30-13-11-35-628',\n",
       " 'EndpointArn': 'arn:aws:sagemaker:us-east-1:062083580489:endpoint/tensorflow-inference-2022-11-30-13-11-35-628',\n",
       " 'EndpointConfigName': 'tensorflow-inference-2022-11-30-13-11-35-628',\n",
       " 'ProductionVariants': [{'VariantName': 'AllTraffic',\n",
       "   'DeployedImages': [{'SpecifiedImage': '763104351884.dkr.ecr.us-east-1.amazonaws.com/tensorflow-inference:2.8-cpu',\n",
       "     'ResolvedImage': '763104351884.dkr.ecr.us-east-1.amazonaws.com/tensorflow-inference@sha256:de621da9ef516dc5e75ff238c037746e024a50e3dea79f535f8ce4946e435473',\n",
       "     'ResolutionTime': datetime.datetime(2022, 11, 30, 13, 11, 36, 774000, tzinfo=tzlocal())}],\n",
       "   'CurrentWeight': 1.0,\n",
       "   'DesiredWeight': 1.0,\n",
       "   'CurrentInstanceCount': 1,\n",
       "   'DesiredInstanceCount': 1}],\n",
       " 'EndpointStatus': 'InService',\n",
       " 'CreationTime': datetime.datetime(2022, 11, 30, 13, 11, 36, 76000, tzinfo=tzlocal()),\n",
       " 'LastModifiedTime': datetime.datetime(2022, 11, 30, 13, 13, 19, 461000, tzinfo=tzlocal()),\n",
       " 'ResponseMetadata': {'RequestId': '7bfad5dc-6fbe-4016-8c3e-16c4c742c31b',\n",
       "  'HTTPStatusCode': 200,\n",
       "  'HTTPHeaders': {'x-amzn-requestid': '7bfad5dc-6fbe-4016-8c3e-16c4c742c31b',\n",
       "   'content-type': 'application/x-amz-json-1.1',\n",
       "   'content-length': '785',\n",
       "   'date': 'Wed, 30 Nov 2022 13:15:31 GMT'},\n",
       "  'RetryAttempts': 0}}"
      ]
     },
     "execution_count": 12,
     "metadata": {},
     "output_type": "execute_result"
    }
   ],
   "source": [
    "describe_endpoint_response = sm_client.describe_endpoint(\n",
    "    EndpointName=endpoint_name\n",
    ")\n",
    "describe_endpoint_response"
   ]
  },
  {
   "cell_type": "markdown",
   "id": "8fcac9f2-8ccd-4e96-b833-50c57efc79a7",
   "metadata": {},
   "source": [
    "#### Get endpoint configuration name"
   ]
  },
  {
   "cell_type": "code",
   "execution_count": 13,
   "id": "698b1a69-98f6-4151-b280-95c87a672d54",
   "metadata": {},
   "outputs": [
    {
     "data": {
      "text/plain": [
       "'tensorflow-inference-2022-11-30-13-11-35-628'"
      ]
     },
     "execution_count": 13,
     "metadata": {},
     "output_type": "execute_result"
    }
   ],
   "source": [
    "endpoint_config_name = describe_endpoint_response[\"EndpointConfigName\"]\n",
    "endpoint_config_name"
   ]
  },
  {
   "cell_type": "markdown",
   "id": "3cc0ba99-1728-44a4-99b5-0123e67e4a95",
   "metadata": {},
   "source": [
    "#### Get description of the endpoint configuration\n",
    "\n",
    "Let's get the description of the endpoint configuration to find the model associated with it "
   ]
  },
  {
   "cell_type": "code",
   "execution_count": 14,
   "id": "b39d9866-1d1f-4889-8b8c-e1fb365190be",
   "metadata": {},
   "outputs": [
    {
     "data": {
      "text/plain": [
       "{'EndpointConfigName': 'tensorflow-inference-2022-11-30-13-11-35-628',\n",
       " 'EndpointConfigArn': 'arn:aws:sagemaker:us-east-1:062083580489:endpoint-config/tensorflow-inference-2022-11-30-13-11-35-628',\n",
       " 'ProductionVariants': [{'VariantName': 'AllTraffic',\n",
       "   'ModelName': 'tensorflow-inference-2022-11-30-13-11-34-971',\n",
       "   'InitialInstanceCount': 1,\n",
       "   'InstanceType': 'ml.c5.xlarge',\n",
       "   'InitialVariantWeight': 1.0}],\n",
       " 'CreationTime': datetime.datetime(2022, 11, 30, 13, 11, 35, 750000, tzinfo=tzlocal()),\n",
       " 'ResponseMetadata': {'RequestId': '02df9507-e6c0-40cb-8b15-e5f2f4317efa',\n",
       "  'HTTPStatusCode': 200,\n",
       "  'HTTPHeaders': {'x-amzn-requestid': '02df9507-e6c0-40cb-8b15-e5f2f4317efa',\n",
       "   'content-type': 'application/x-amz-json-1.1',\n",
       "   'content-length': '417',\n",
       "   'date': 'Wed, 30 Nov 2022 13:15:34 GMT'},\n",
       "  'RetryAttempts': 0}}"
      ]
     },
     "execution_count": 14,
     "metadata": {},
     "output_type": "execute_result"
    }
   ],
   "source": [
    "describe_endpoint_config_response = sm_client.describe_endpoint_config(\n",
    "    EndpointConfigName=endpoint_config_name\n",
    ")\n",
    "describe_endpoint_config_response"
   ]
  },
  {
   "cell_type": "markdown",
   "id": "57e4608a-b0e7-414e-a286-acf0ed39f582",
   "metadata": {},
   "source": [
    "#### Get model name"
   ]
  },
  {
   "cell_type": "code",
   "execution_count": 15,
   "id": "1a65eb67-447e-4652-9326-623574bffb44",
   "metadata": {},
   "outputs": [
    {
     "data": {
      "text/plain": [
       "'tensorflow-inference-2022-11-30-13-11-34-971'"
      ]
     },
     "execution_count": 15,
     "metadata": {},
     "output_type": "execute_result"
    }
   ],
   "source": [
    "model_name = describe_endpoint_config_response[\"ProductionVariants\"][0][\"ModelName\"]\n",
    "model_name"
   ]
  },
  {
   "cell_type": "markdown",
   "id": "cc4df6fc-2e78-465a-940d-b651d816c339",
   "metadata": {},
   "source": [
    "#### Get description of the model\n",
    "\n",
    "Describing the model, we will be able to view Docker image used, Model Location in S3, and environment variables."
   ]
  },
  {
   "cell_type": "code",
   "execution_count": 16,
   "id": "a3e19bc4-7630-4687-9948-dbd919ca1e25",
   "metadata": {},
   "outputs": [
    {
     "data": {
      "text/plain": [
       "{'ModelName': 'tensorflow-inference-2022-11-30-13-11-34-971',\n",
       " 'PrimaryContainer': {'Image': '763104351884.dkr.ecr.us-east-1.amazonaws.com/tensorflow-inference:2.8-cpu',\n",
       "  'Mode': 'SingleModel',\n",
       "  'ModelDataUrl': 's3://sagemaker-us-east-1-062083580489/tensorflow-inference-2022-11-30-13-11-33-435/model.tar.gz',\n",
       "  'Environment': {'MY_ENV_VAR_1': 'some_value_1',\n",
       "   'MY_ENV_VAR_2': 'some_value_2'}},\n",
       " 'ExecutionRoleArn': 'arn:aws:iam::062083580489:role/service-role/AmazonSageMaker-ExecutionRole-20190829T190746',\n",
       " 'CreationTime': datetime.datetime(2022, 11, 30, 13, 11, 35, 507000, tzinfo=tzlocal()),\n",
       " 'ModelArn': 'arn:aws:sagemaker:us-east-1:062083580489:model/tensorflow-inference-2022-11-30-13-11-34-971',\n",
       " 'EnableNetworkIsolation': False,\n",
       " 'ResponseMetadata': {'RequestId': 'c9f55dc6-cd59-4bea-8b22-ef4c2b0b5511',\n",
       "  'HTTPStatusCode': 200,\n",
       "  'HTTPHeaders': {'x-amzn-requestid': 'c9f55dc6-cd59-4bea-8b22-ef4c2b0b5511',\n",
       "   'content-type': 'application/x-amz-json-1.1',\n",
       "   'content-length': '654',\n",
       "   'date': 'Wed, 30 Nov 2022 13:15:37 GMT'},\n",
       "  'RetryAttempts': 0}}"
      ]
     },
     "execution_count": 16,
     "metadata": {},
     "output_type": "execute_result"
    }
   ],
   "source": [
    "describe_model_response = sm_client.describe_model(\n",
    "    ModelName=model_name\n",
    ")\n",
    "describe_model_response"
   ]
  },
  {
   "cell_type": "markdown",
   "id": "ebeb34e3-3a00-4470-80a8-2a781e8f9283",
   "metadata": {},
   "source": [
    "#### Model name"
   ]
  },
  {
   "cell_type": "code",
   "execution_count": 17,
   "id": "9b59e915-aaed-4717-931b-4db29d6f9d09",
   "metadata": {},
   "outputs": [
    {
     "data": {
      "text/plain": [
       "'tensorflow-inference-2022-11-30-13-11-34-971'"
      ]
     },
     "execution_count": 17,
     "metadata": {},
     "output_type": "execute_result"
    }
   ],
   "source": [
    "describe_model_response[\"ModelName\"]"
   ]
  },
  {
   "cell_type": "markdown",
   "id": "8481d0f9-6e46-4905-95fb-eb7d66401bb8",
   "metadata": {},
   "source": [
    "#### Model Docker image"
   ]
  },
  {
   "cell_type": "code",
   "execution_count": 18,
   "id": "15752854-a3c8-44cb-81fb-fae77ec095b7",
   "metadata": {},
   "outputs": [
    {
     "data": {
      "text/plain": [
       "'763104351884.dkr.ecr.us-east-1.amazonaws.com/tensorflow-inference:2.8-cpu'"
      ]
     },
     "execution_count": 18,
     "metadata": {},
     "output_type": "execute_result"
    }
   ],
   "source": [
    "describe_model_response[\"PrimaryContainer\"][\"Image\"]"
   ]
  },
  {
   "cell_type": "markdown",
   "id": "ffb38016-bfb0-4bd5-952d-eee8769365e5",
   "metadata": {},
   "source": [
    "Model S3 location"
   ]
  },
  {
   "cell_type": "code",
   "execution_count": 19,
   "id": "f918a322-0969-4bf2-951c-e23dbea3a74d",
   "metadata": {},
   "outputs": [
    {
     "data": {
      "text/plain": [
       "'s3://sagemaker-us-east-1-062083580489/tensorflow-inference-2022-11-30-13-11-33-435/model.tar.gz'"
      ]
     },
     "execution_count": 19,
     "metadata": {},
     "output_type": "execute_result"
    }
   ],
   "source": [
    "describe_model_response[\"PrimaryContainer\"][\"ModelDataUrl\"]"
   ]
  },
  {
   "cell_type": "markdown",
   "id": "57525276-93b4-4e8e-95f0-1de3b3c29182",
   "metadata": {},
   "source": [
    "## Clean up\n",
    "\n",
    "We will now delete the endpoint. Using SageMaker Python SDK `predictor.delete_endpoint()` will also delete the endpoint configuration  "
   ]
  },
  {
   "cell_type": "code",
   "execution_count": 20,
   "id": "cf956ef2-9210-4e65-bc9a-7bee0e53a7bc",
   "metadata": {
    "pycharm": {
     "name": "#%%\n"
    }
   },
   "outputs": [],
   "source": [
    "predictor.delete_endpoint()"
   ]
  },
  {
   "cell_type": "markdown",
   "id": "54441d8c-49e8-471a-a44d-76bfc4bee951",
   "metadata": {
    "pycharm": {
     "name": "#%% md\n"
    }
   },
   "source": [
    "## Deploying the `Tensorflow` model using `boto3` "
   ]
  },
  {
   "cell_type": "markdown",
   "id": "bd4e5a45-9646-4516-a0e4-5a494b54e727",
   "metadata": {
    "pycharm": {
     "name": "#%% md\n"
    }
   },
   "source": [
    "Let's get the data of the model we deployed earlier. This will help us with manually deploying using `boto3`."
   ]
  },
  {
   "cell_type": "code",
   "execution_count": 21,
   "id": "24ea8048-a5e5-41d4-a9a5-c5b2e890582c",
   "metadata": {
    "pycharm": {
     "name": "#%%\n"
    }
   },
   "outputs": [
    {
     "data": {
      "text/plain": [
       "'tensorflow-inference-2022-11-30-13-11-34-971'"
      ]
     },
     "execution_count": 21,
     "metadata": {},
     "output_type": "execute_result"
    }
   ],
   "source": [
    "model.name"
   ]
  },
  {
   "cell_type": "code",
   "execution_count": 22,
   "id": "74389d7d-29ef-49c1-af94-736a95a5f511",
   "metadata": {
    "pycharm": {
     "name": "#%%\n"
    }
   },
   "outputs": [
    {
     "name": "stdout",
     "output_type": "stream",
     "text": [
      "{\n",
      "    \"ModelName\": \"tensorflow-inference-2022-11-30-13-11-34-971\",\n",
      "    \"PrimaryContainer\": {\n",
      "        \"Image\": \"763104351884.dkr.ecr.us-east-1.amazonaws.com/tensorflow-inference:2.8-cpu\",\n",
      "        \"Mode\": \"SingleModel\",\n",
      "        \"ModelDataUrl\": \"s3://sagemaker-us-east-1-062083580489/tensorflow-inference-2022-11-30-13-11-33-435/model.tar.gz\",\n",
      "        \"Environment\": {\n",
      "            \"MY_ENV_VAR_1\": \"some_value_1\",\n",
      "            \"MY_ENV_VAR_2\": \"some_value_2\"\n",
      "        }\n",
      "    },\n",
      "    \"ExecutionRoleArn\": \"arn:aws:iam::062083580489:role/service-role/AmazonSageMaker-ExecutionRole-20190829T190746\",\n",
      "    \"CreationTime\": \"2022-11-30 13:11:35.507000+00:00\",\n",
      "    \"ModelArn\": \"arn:aws:sagemaker:us-east-1:062083580489:model/tensorflow-inference-2022-11-30-13-11-34-971\",\n",
      "    \"EnableNetworkIsolation\": false,\n",
      "    \"ResponseMetadata\": {\n",
      "        \"RequestId\": \"fecd1b79-afff-4fbc-bfee-758b8d5b2f3f\",\n",
      "        \"HTTPStatusCode\": 200,\n",
      "        \"HTTPHeaders\": {\n",
      "            \"x-amzn-requestid\": \"fecd1b79-afff-4fbc-bfee-758b8d5b2f3f\",\n",
      "            \"content-type\": \"application/x-amz-json-1.1\",\n",
      "            \"content-length\": \"654\",\n",
      "            \"date\": \"Wed, 30 Nov 2022 13:16:28 GMT\"\n",
      "        },\n",
      "        \"RetryAttempts\": 0\n",
      "    }\n",
      "}\n"
     ]
    }
   ],
   "source": [
    "response = sm_client.describe_model(\n",
    "    ModelName=model.name\n",
    ")\n",
    "print(json.dumps(response, indent=4, default=str))"
   ]
  },
  {
   "cell_type": "code",
   "execution_count": 23,
   "id": "4ad9f06a-7df8-41e8-8e02-2d5e74753e8e",
   "metadata": {
    "pycharm": {
     "name": "#%%\n"
    }
   },
   "outputs": [
    {
     "name": "stdout",
     "output_type": "stream",
     "text": [
      "download: s3://aws-ml-blog/artifacts/tensorflow-script-mode-local-model-inference/model.tar.gz to ./model.tar.gz\n"
     ]
    }
   ],
   "source": [
    "!aws s3 cp {model_dir} ."
   ]
  },
  {
   "cell_type": "markdown",
   "id": "84676392-de85-4d7d-b43a-ab27877fcf67",
   "metadata": {
    "pycharm": {
     "name": "#%% md\n"
    }
   },
   "source": [
    "### Prepare model manually\n",
    "\n",
    "For Tensorflow, the contents of model.tar.gz should be organized as follows:\n",
    "\n",
    " - Model files in the top-level directory\n",
    "\n",
    " - Inference script (and any other source files) in a directory named code/ (for more about the inference script, see The SageMaker PyTorch Model Server)\n",
    "\n",
    " - Optional requirements file located at code/requirements.txt (for more about requirements files, see Using third-party libraries)\n",
    "\n",
    "For example:\n",
    "\n",
    "```\n",
    "model.tar.gz/\n",
    "|- 00000000/\n",
    "  |- assets/\n",
    "  |- variables/\n",
    "  |- saved_model.pb\n",
    "|- code/\n",
    "  |- inference.py\n",
    "  |- requirements.txt \n",
    "```"
   ]
  },
  {
   "cell_type": "code",
   "execution_count": 24,
   "id": "58009bb0-bc82-4a65-8228-e3ae47744060",
   "metadata": {
    "pycharm": {
     "name": "#%%\n"
    }
   },
   "outputs": [
    {
     "name": "stdout",
     "output_type": "stream",
     "text": [
      "00000000/\n",
      "00000000/assets/\n",
      "00000000/saved_model.pb\n",
      "tar: 00000000/assets: Cannot change ownership to uid 1000, gid 1000: Operation not permitted\n",
      "tar: 00000000/saved_model.pb: Cannot change ownership to uid 1000, gid 1000: Operation not permitted\n",
      "00000000/variables/\n",
      "00000000/variables/variables.data-00000-of-00001\n",
      "tar: 00000000/variables/variables.data-00000-of-00001: Cannot change ownership to uid 1000, gid 1000: Operation not permitted\n",
      "00000000/variables/variables.index\n",
      "tar: 00000000/variables/variables.index: Cannot change ownership to uid 1000, gid 1000: Operation not permitted\n",
      "tar: 00000000/variables: Cannot change ownership to uid 1000, gid 1000: Operation not permitted\n",
      "tar: 00000000: Cannot change ownership to uid 1000, gid 1000: Operation not permitted\n",
      "tar: Exiting with failure status due to previous errors\n"
     ]
    }
   ],
   "source": [
    "!mkdir -p model\n",
    "!tar -xvf model.tar.gz -C ./model\n",
    "!rm model.tar.gz"
   ]
  },
  {
   "cell_type": "code",
   "execution_count": 25,
   "id": "32ebeb10-0ece-4c10-96e9-404328f6170d",
   "metadata": {
    "pycharm": {
     "name": "#%%\n"
    }
   },
   "outputs": [],
   "source": [
    "!cp -r code ./model"
   ]
  },
  {
   "cell_type": "code",
   "execution_count": 26,
   "id": "6e3e29d5-99eb-4e6c-ac8d-43b6e0e0122d",
   "metadata": {
    "pycharm": {
     "name": "#%%\n"
    }
   },
   "outputs": [
    {
     "name": "stdout",
     "output_type": "stream",
     "text": [
      "total 8\n",
      "drwxrwxr-x 4 root root 6144 Nov 20  2020 00000000\n",
      "drwxr-xr-x 2 root root 6144 Nov 30 12:46 code\n"
     ]
    }
   ],
   "source": [
    "!ls -rtl ./model"
   ]
  },
  {
   "cell_type": "code",
   "execution_count": 27,
   "id": "fbd88ef8-d28c-44a2-aaa8-08f70fdab4c0",
   "metadata": {
    "pycharm": {
     "name": "#%%\n"
    }
   },
   "outputs": [
    {
     "name": "stdout",
     "output_type": "stream",
     "text": [
      "./model:\n",
      "total 8\n",
      "drwxrwxr-x 4 root root 6144 Nov 20  2020 00000000\n",
      "drwxr-xr-x 2 root root 6144 Nov 30 12:46 code\n",
      "\n",
      "./model/00000000:\n",
      "total 56\n",
      "-rw-r--r-- 1 root root 45994 Nov 20  2020 saved_model.pb\n",
      "drwxrwxr-x 2 root root  6144 Nov 20  2020 variables\n",
      "drwxrwxr-x 2 root root  6144 Nov 20  2020 assets\n",
      "\n",
      "./model/00000000/variables:\n",
      "total 10832\n",
      "-rw-r--r-- 1 root root      515 Nov 20  2020 variables.index\n",
      "-rw-r--r-- 1 root root 11084770 Nov 20  2020 variables.data-00000-of-00001\n",
      "\n",
      "./model/00000000/assets:\n",
      "total 0\n",
      "\n",
      "./model/code:\n",
      "total 8\n",
      "-rw-r--r-- 1 root root    6 Nov 30 13:16 requirements.txt\n",
      "-rw-r--r-- 1 root root 1637 Nov 30 13:16 inference.py\n"
     ]
    }
   ],
   "source": [
    "!ls -rtlR ./model"
   ]
  },
  {
   "cell_type": "code",
   "execution_count": 28,
   "id": "c5421de0-2a4b-4308-82b5-dcd7855d97c9",
   "metadata": {
    "pycharm": {
     "name": "#%%\n"
    }
   },
   "outputs": [
    {
     "name": "stdout",
     "output_type": "stream",
     "text": [
      "00000000/\n",
      "00000000/variables/\n",
      "00000000/variables/variables.data-00000-of-00001\n",
      "00000000/variables/variables.index\n",
      "00000000/saved_model.pb\n",
      "00000000/assets/\n",
      "code/\n",
      "code/requirements.txt\n",
      "code/inference.py\n"
     ]
    }
   ],
   "source": [
    "!cd model && tar czvf ../model.tar.gz *"
   ]
  },
  {
   "cell_type": "code",
   "execution_count": 29,
   "id": "1256f456-dcc5-47ad-8559-97725700c684",
   "metadata": {
    "pycharm": {
     "name": "#%%\n"
    }
   },
   "outputs": [
    {
     "name": "stdout",
     "output_type": "stream",
     "text": [
      "sagemaker-us-east-1-062083580489/sagemaker/tensorflow-byom/model.tar.gz\n"
     ]
    }
   ],
   "source": [
    "fObj = open(\"model.tar.gz\", \"rb\")\n",
    "key = os.path.join(prefix, \"model.tar.gz\")\n",
    "boto3.Session().resource(\"s3\").Bucket(bucket).Object(key).upload_fileobj(fObj)\n",
    "print(os.path.join(bucket, key))"
   ]
  },
  {
   "cell_type": "code",
   "execution_count": 30,
   "id": "69d06efd-de7a-4fbf-83fe-ff58bd59d78f",
   "metadata": {
    "pycharm": {
     "name": "#%%\n"
    }
   },
   "outputs": [
    {
     "data": {
      "text/plain": [
       "'s3://sagemaker-us-east-1-062083580489/sagemaker/tensorflow-byom/model.tar.gz'"
      ]
     },
     "execution_count": 30,
     "metadata": {},
     "output_type": "execute_result"
    }
   ],
   "source": [
    "pretrained_model_data = \"s3://{}/{}\".format(bucket, key)\n",
    "pretrained_model_data"
   ]
  },
  {
   "cell_type": "code",
   "execution_count": 31,
   "id": "7a5ec9ac-7425-4475-8a61-e27dbdfee146",
   "metadata": {
    "pycharm": {
     "name": "#%%\n"
    }
   },
   "outputs": [
    {
     "name": "stdout",
     "output_type": "stream",
     "text": [
      "2022-11-30 13:16:38   10291453 model.tar.gz\n"
     ]
    }
   ],
   "source": [
    "!aws s3 ls {pretrained_model_data}"
   ]
  },
  {
   "cell_type": "code",
   "execution_count": 32,
   "id": "a686e9d7-2c81-424e-9e66-d07c1c7c010d",
   "metadata": {
    "pycharm": {
     "name": "#%%\n"
    }
   },
   "outputs": [
    {
     "data": {
      "text/plain": [
       "'763104351884.dkr.ecr.us-east-1.amazonaws.com/tensorflow-inference:2.8-cpu'"
      ]
     },
     "execution_count": 32,
     "metadata": {},
     "output_type": "execute_result"
    }
   ],
   "source": [
    "instance_type = \"ml.c5.xlarge\"  \n",
    "dlc_uri = image_uris.retrieve(\n",
    "    \"tensorflow\",\n",
    "    region,\n",
    "    version=\"2.8\",\n",
    "    py_version=\"py3\",\n",
    "    instance_type=instance_type,\n",
    "    image_scope=\"inference\",\n",
    ")\n",
    "dlc_uri"
   ]
  },
  {
   "cell_type": "markdown",
   "id": "c4770f3e-46d4-4ae2-9444-f649938adc9c",
   "metadata": {
    "pycharm": {
     "name": "#%% md\n"
    }
   },
   "source": [
    "### Create a Model\n",
    "\n",
    "We will use `boto3` to create a model."
   ]
  },
  {
   "cell_type": "code",
   "execution_count": 33,
   "id": "a8582f97-26fe-4bcf-aed4-ea8c79fb394d",
   "metadata": {
    "pycharm": {
     "name": "#%%\n"
    }
   },
   "outputs": [
    {
     "data": {
      "text/plain": [
       "{'ModelArn': 'arn:aws:sagemaker:us-east-1:062083580489:model/tensorflow-model-2022-11-30-13-16-41',\n",
       " 'ResponseMetadata': {'RequestId': '638415f5-e34a-401c-bb26-60c8c9100b42',\n",
       "  'HTTPStatusCode': 200,\n",
       "  'HTTPHeaders': {'x-amzn-requestid': '638415f5-e34a-401c-bb26-60c8c9100b42',\n",
       "   'content-type': 'application/x-amz-json-1.1',\n",
       "   'content-length': '98',\n",
       "   'date': 'Wed, 30 Nov 2022 13:16:41 GMT'},\n",
       "  'RetryAttempts': 0}}"
      ]
     },
     "execution_count": 33,
     "metadata": {},
     "output_type": "execute_result"
    }
   ],
   "source": [
    "model_name = \"tensorflow-model-\" + datetime.datetime.now().strftime(\"%Y-%m-%d-%H-%M-%S\")\n",
    "\n",
    "create_model_response = sm_client.create_model(\n",
    "    ModelName=model_name,\n",
    "    PrimaryContainer={\n",
    "        \"Image\": dlc_uri,\n",
    "        \"Mode\": \"SingleModel\",\n",
    "        \"ModelDataUrl\": pretrained_model_data,\n",
    "        \"Environment\": {\n",
    "            \"MY_ENV_VAR_1\": \"some_value_1\",\n",
    "            \"MY_ENV_VAR_2\": \"some_value_2\"\n",
    "        },\n",
    "    },\n",
    "    ExecutionRoleArn=role,\n",
    ")\n",
    "\n",
    "create_model_response"
   ]
  },
  {
   "cell_type": "markdown",
   "id": "1fdb69f4-d3da-4f32-b2d4-cf3c11093c13",
   "metadata": {
    "pycharm": {
     "name": "#%% md\n"
    }
   },
   "source": [
    "### Create an endpoint configuration from the model\n",
    "\n",
    "We will use `boto3` to create an endpoint configuration with the model we created."
   ]
  },
  {
   "cell_type": "code",
   "execution_count": 34,
   "id": "e6c8935d-5c74-4163-ae5a-6cc4deba9e39",
   "metadata": {
    "pycharm": {
     "name": "#%%\n"
    }
   },
   "outputs": [
    {
     "data": {
      "text/plain": [
       "{'EndpointConfigArn': 'arn:aws:sagemaker:us-east-1:062083580489:endpoint-config/tensorflow-endpoint-config-2022-11-30-13-16-45',\n",
       " 'ResponseMetadata': {'RequestId': '4498f951-670c-4213-9d28-93b22a979fa1',\n",
       "  'HTTPStatusCode': 200,\n",
       "  'HTTPHeaders': {'x-amzn-requestid': '4498f951-670c-4213-9d28-93b22a979fa1',\n",
       "   'content-type': 'application/x-amz-json-1.1',\n",
       "   'content-length': '127',\n",
       "   'date': 'Wed, 30 Nov 2022 13:16:44 GMT'},\n",
       "  'RetryAttempts': 0}}"
      ]
     },
     "execution_count": 34,
     "metadata": {},
     "output_type": "execute_result"
    }
   ],
   "source": [
    "endpoint_config_name = \"tensorflow-endpoint-config-\" + datetime.datetime.now().strftime(\n",
    "    \"%Y-%m-%d-%H-%M-%S\"\n",
    ")\n",
    "\n",
    "endpoint_config_response = sm_client.create_endpoint_config(\n",
    "    EndpointConfigName=endpoint_config_name,\n",
    "    ProductionVariants=[\n",
    "        {\n",
    "            \"VariantName\": \"AllTrafficVariant\",\n",
    "            \"ModelName\": model_name,\n",
    "            \"InitialInstanceCount\": 1,\n",
    "            \"InstanceType\": \"ml.c5.large\",\n",
    "            \"InitialVariantWeight\": 1,\n",
    "        },\n",
    "    ],\n",
    ")\n",
    "\n",
    "endpoint_config_response"
   ]
  },
  {
   "cell_type": "markdown",
   "id": "6ddcdd36-0957-4bc5-9a95-dd384380b04f",
   "metadata": {
    "pycharm": {
     "name": "#%% md\n"
    }
   },
   "source": [
    "### Deploy the endpoint configuration to a real-time endpoint\n",
    "\n",
    "We will use `boto3` to create an endpoint with the endpoint configuration we created."
   ]
  },
  {
   "cell_type": "code",
   "execution_count": 35,
   "id": "bcb01cf7-5f45-4434-b8aa-f3a7e73e3001",
   "metadata": {
    "pycharm": {
     "name": "#%%\n"
    }
   },
   "outputs": [
    {
     "data": {
      "text/plain": [
       "{'EndpointArn': 'arn:aws:sagemaker:us-east-1:062083580489:endpoint/tensorflow-endpoint-2022-11-30-13-16-53',\n",
       " 'ResponseMetadata': {'RequestId': '51536656-bc40-4e49-a435-8bfc7d743012',\n",
       "  'HTTPStatusCode': 200,\n",
       "  'HTTPHeaders': {'x-amzn-requestid': '51536656-bc40-4e49-a435-8bfc7d743012',\n",
       "   'content-type': 'application/x-amz-json-1.1',\n",
       "   'content-length': '107',\n",
       "   'date': 'Wed, 30 Nov 2022 13:16:53 GMT'},\n",
       "  'RetryAttempts': 0}}"
      ]
     },
     "execution_count": 35,
     "metadata": {},
     "output_type": "execute_result"
    }
   ],
   "source": [
    "endpoint_name = \"tensorflow-endpoint-\" + datetime.datetime.now().strftime(\"%Y-%m-%d-%H-%M-%S\")\n",
    "\n",
    "create_endpoint_response = sm_client.create_endpoint(\n",
    "    EndpointName=endpoint_name,\n",
    "    EndpointConfigName=endpoint_config_name,\n",
    ")\n",
    "\n",
    "create_endpoint_response"
   ]
  },
  {
   "cell_type": "markdown",
   "id": "c35cbeb9-addb-44fb-9d86-ae96b0e44312",
   "metadata": {
    "pycharm": {
     "name": "#%% md\n"
    }
   },
   "source": [
    "### Wait for Endpoint to be ready\n",
    "\n",
    "It takes few minutes for the endpoint to be ready.  "
   ]
  },
  {
   "cell_type": "code",
   "execution_count": 36,
   "id": "b5fcc959-38ab-4e7a-99ca-534943d7c39e",
   "metadata": {
    "pycharm": {
     "name": "#%%\n"
    }
   },
   "outputs": [
    {
     "name": "stdout",
     "output_type": "stream",
     "text": [
      "Creating\n",
      "Creating\n",
      "Creating\n",
      "Creating\n",
      "Creating\n",
      "Creating\n",
      "Creating\n",
      "Creating\n",
      "InService\n"
     ]
    },
    {
     "data": {
      "text/plain": [
       "{'EndpointName': 'tensorflow-endpoint-2022-11-30-13-16-53',\n",
       " 'EndpointArn': 'arn:aws:sagemaker:us-east-1:062083580489:endpoint/tensorflow-endpoint-2022-11-30-13-16-53',\n",
       " 'EndpointConfigName': 'tensorflow-endpoint-config-2022-11-30-13-16-45',\n",
       " 'ProductionVariants': [{'VariantName': 'AllTrafficVariant',\n",
       "   'DeployedImages': [{'SpecifiedImage': '763104351884.dkr.ecr.us-east-1.amazonaws.com/tensorflow-inference:2.8-cpu',\n",
       "     'ResolvedImage': '763104351884.dkr.ecr.us-east-1.amazonaws.com/tensorflow-inference@sha256:de621da9ef516dc5e75ff238c037746e024a50e3dea79f535f8ce4946e435473',\n",
       "     'ResolutionTime': datetime.datetime(2022, 11, 30, 13, 16, 54, 413000, tzinfo=tzlocal())}],\n",
       "   'CurrentWeight': 1.0,\n",
       "   'DesiredWeight': 1.0,\n",
       "   'CurrentInstanceCount': 1,\n",
       "   'DesiredInstanceCount': 1}],\n",
       " 'EndpointStatus': 'InService',\n",
       " 'CreationTime': datetime.datetime(2022, 11, 30, 13, 16, 53, 805000, tzinfo=tzlocal()),\n",
       " 'LastModifiedTime': datetime.datetime(2022, 11, 30, 13, 18, 42, 195000, tzinfo=tzlocal()),\n",
       " 'ResponseMetadata': {'RequestId': 'dae15fb5-1660-4d18-9410-ccfd7374132d',\n",
       "  'HTTPStatusCode': 200,\n",
       "  'HTTPHeaders': {'x-amzn-requestid': 'dae15fb5-1660-4d18-9410-ccfd7374132d',\n",
       "   'content-type': 'application/x-amz-json-1.1',\n",
       "   'content-length': '784',\n",
       "   'date': 'Wed, 30 Nov 2022 13:18:55 GMT'},\n",
       "  'RetryAttempts': 0}}"
      ]
     },
     "execution_count": 36,
     "metadata": {},
     "output_type": "execute_result"
    }
   ],
   "source": [
    "describe_endpoint_response = sm_client.describe_endpoint(EndpointName=endpoint_name)\n",
    "\n",
    "while describe_endpoint_response[\"EndpointStatus\"] == \"Creating\":\n",
    "    describe_endpoint_response = sm_client.describe_endpoint(EndpointName=endpoint_name)\n",
    "    print(describe_endpoint_response[\"EndpointStatus\"])\n",
    "    time.sleep(15)\n",
    "\n",
    "describe_endpoint_response"
   ]
  },
  {
   "cell_type": "markdown",
   "id": "c172785d-d1e7-44af-9964-211c81bd5662",
   "metadata": {
    "pycharm": {
     "name": "#%% md\n"
    }
   },
   "source": [
    "### Invoke Endpoint with boto3"
   ]
  },
  {
   "cell_type": "code",
   "execution_count": 37,
   "id": "0ac6e18f-6030-45a1-a1d7-3806ca313baa",
   "metadata": {
    "pycharm": {
     "name": "#%%\n"
    }
   },
   "outputs": [],
   "source": [
    "runtime = boto3.client(\"sagemaker-runtime\")"
   ]
  },
  {
   "cell_type": "code",
   "execution_count": 38,
   "id": "6383cb7a-7c89-4548-be1e-75da9a09fc9e",
   "metadata": {
    "pycharm": {
     "name": "#%%\n"
    }
   },
   "outputs": [
    {
     "name": "stdout",
     "output_type": "stream",
     "text": [
      "b'{\\n    \"predictions\": [[-0.857780576, -1.81817746, 2.76210475, 2.03228283, -3.43221903, 5.26243401, -0.494465321, -0.795939, -0.56202817, -1.50765288], [-0.66639173, -2.01771832, 2.43444324, 2.35294914, -3.84540606, 3.97808194, -0.696055651, 0.480864972, 0.374087, -2.12169838], [-0.32958141, -2.6850543, 3.53677511, 2.9476521, -3.20359588, 4.71845722, 1.03743863, -1.22946429, -0.418955237, -1.86088598], [-0.297454447, -1.62226081, 4.0909977, 1.18229735, -2.34949183, 3.86405587, 0.264097035, -0.982173145, 0.601771891, -1.56709647]\\n    ]\\n}'\n"
     ]
    }
   ],
   "source": [
    "response = runtime.invoke_endpoint(\n",
    "    EndpointName=endpoint_name,\n",
    "    Body=json.dumps(payload),\n",
    "    ContentType=\"application/json\",\n",
    ")\n",
    "\n",
    "print(response[\"Body\"].read())"
   ]
  },
  {
   "cell_type": "markdown",
   "id": "d953822d-1e89-477c-9211-73b5d0166e9a",
   "metadata": {
    "pycharm": {
     "name": "#%% md\n"
    }
   },
   "source": [
    "## Clean up\n",
    "\n",
    "We will now delete the endpoint, then, delete the endpoint configuration, and finally, delete the model"
   ]
  },
  {
   "cell_type": "code",
   "execution_count": 39,
   "id": "21711b09-9faf-45f5-8639-d3cc5c12c06f",
   "metadata": {
    "pycharm": {
     "name": "#%%\n"
    }
   },
   "outputs": [
    {
     "data": {
      "text/plain": [
       "{'ResponseMetadata': {'RequestId': 'f5a8f07f-ce5d-420e-b43c-77bc606e4c6a',\n",
       "  'HTTPStatusCode': 200,\n",
       "  'HTTPHeaders': {'x-amzn-requestid': 'f5a8f07f-ce5d-420e-b43c-77bc606e4c6a',\n",
       "   'content-type': 'application/x-amz-json-1.1',\n",
       "   'content-length': '0',\n",
       "   'date': 'Wed, 30 Nov 2022 13:19:36 GMT'},\n",
       "  'RetryAttempts': 0}}"
      ]
     },
     "execution_count": 39,
     "metadata": {},
     "output_type": "execute_result"
    }
   ],
   "source": [
    "sm_client.delete_endpoint(EndpointName=endpoint_name)"
   ]
  },
  {
   "cell_type": "code",
   "execution_count": 40,
   "id": "06c91cdf-ce7b-4e99-817a-c648581a6fce",
   "metadata": {
    "pycharm": {
     "name": "#%%\n"
    }
   },
   "outputs": [
    {
     "data": {
      "text/plain": [
       "{'ResponseMetadata': {'RequestId': '7aa75a1e-2d25-4a9c-8f30-5bb064ea80f9',\n",
       "  'HTTPStatusCode': 200,\n",
       "  'HTTPHeaders': {'x-amzn-requestid': '7aa75a1e-2d25-4a9c-8f30-5bb064ea80f9',\n",
       "   'content-type': 'application/x-amz-json-1.1',\n",
       "   'content-length': '0',\n",
       "   'date': 'Wed, 30 Nov 2022 13:19:37 GMT'},\n",
       "  'RetryAttempts': 0}}"
      ]
     },
     "execution_count": 40,
     "metadata": {},
     "output_type": "execute_result"
    }
   ],
   "source": [
    "sm_client.delete_endpoint_config(EndpointConfigName=endpoint_config_name)"
   ]
  },
  {
   "cell_type": "code",
   "execution_count": 41,
   "id": "c590d540-ee5b-4999-acff-79b6dadbda7c",
   "metadata": {
    "pycharm": {
     "name": "#%%\n"
    }
   },
   "outputs": [
    {
     "data": {
      "text/plain": [
       "{'ResponseMetadata': {'RequestId': 'ff9c4d08-1287-428e-84d0-f1ea49410713',\n",
       "  'HTTPStatusCode': 200,\n",
       "  'HTTPHeaders': {'x-amzn-requestid': 'ff9c4d08-1287-428e-84d0-f1ea49410713',\n",
       "   'content-type': 'application/x-amz-json-1.1',\n",
       "   'content-length': '0',\n",
       "   'date': 'Wed, 30 Nov 2022 13:19:39 GMT'},\n",
       "  'RetryAttempts': 0}}"
      ]
     },
     "execution_count": 41,
     "metadata": {},
     "output_type": "execute_result"
    }
   ],
   "source": [
    "sm_client.delete_model(ModelName=model_name)"
   ]
  },
  {
   "cell_type": "code",
   "execution_count": null,
   "id": "5b131eb1-cf79-4647-84ee-2e776760eeeb",
   "metadata": {},
   "outputs": [],
   "source": []
  }
 ],
 "metadata": {
  "instance_type": "ml.t3.medium",
  "kernelspec": {
   "display_name": "Python 3 (Data Science)",
   "language": "python",
   "name": "python3__SAGEMAKER_INTERNAL__arn:aws:sagemaker:us-east-1:081325390199:image/datascience-1.0"
  },
  "language_info": {
   "codemirror_mode": {
    "name": "ipython",
    "version": 3
   },
   "file_extension": ".py",
   "mimetype": "text/x-python",
   "name": "python",
   "nbconvert_exporter": "python",
   "pygments_lexer": "ipython3",
   "version": "3.7.10"
  }
 },
 "nbformat": 4,
 "nbformat_minor": 5
}
