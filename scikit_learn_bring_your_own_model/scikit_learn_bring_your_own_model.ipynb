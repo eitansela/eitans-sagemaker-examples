{
 "cells": [
  {
   "cell_type": "markdown",
   "id": "d61fc8a8",
   "metadata": {},
   "source": [
    "# Amazon SageMaker scikit-learn Bring Your Own Model\n",
    "_**Hosting a pre-trained scikit-learn Model in Amazon SageMaker scikit-learn Container**_\n",
    "\n",
    "---\n",
    "\n",
    "---\n",
    "\n",
    "## Background\n",
    "\n",
    "Amazon SageMaker includes functionality to support a hosted notebook environment, distributed, serverless training, and real-time hosting. We think it works best when all three of these services are used together, but they can also be used independently.  Some use cases may only require hosting.  Maybe the model was trained prior to Amazon SageMaker existing, in a different service.\n",
    "\n",
    "This notebook shows how to use a pre-trained scikit-learn model with the Amazon SageMaker scikit-learn container to quickly create a hosted endpoint for that model.\n",
    "We use the California Housing dataset, present in Scikit-Learn: https://scikit-learn.org/stable/modules/generated/sklearn.datasets.fetch_california_housing.html. The California Housing dataset was originally published in:\n",
    "\n",
    "> Pace, R. Kelley, and Ronald Barry. \"Sparse spatial auto-regressions.\" Statistics & Probability Letters 33.3 (1997): 291-297.\n",
    "\n",
    "---\n",
    "## Setup\n",
    "\n",
    "Let's start by specifying:\n",
    "\n",
    "* AWS region.\n",
    "* The IAM role arn used to give learning and hosting access to your data.\n",
    "* The S3 bucket that you want to use for training and model data."
   ]
  },
  {
   "cell_type": "code",
   "execution_count": null,
   "id": "9ecc7b85",
   "metadata": {},
   "outputs": [],
   "source": [
    "import os\n",
    "import boto3\n",
    "import re\n",
    "import json\n",
    "import time\n",
    "import datetime\n",
    "import pandas as pd\n",
    "import numpy as np\n",
    "import sagemaker\n",
    "from sagemaker import get_execution_role\n",
    "from sagemaker.sklearn.model import SKLearnModel\n",
    "from sklearn.datasets import fetch_california_housing\n",
    "from sklearn.model_selection import train_test_split\n",
    "\n",
    "\n",
    "region = boto3.Session().region_name\n",
    "\n",
    "role = get_execution_role()\n",
    "\n",
    "bucket = sagemaker.Session().default_bucket()\n",
    "prefix = \"sagemaker/DEMO-sklearn-byo-model\"\n",
    "\n",
    "print(f\"bucket: {bucket}\")"
   ]
  },
  {
   "cell_type": "markdown",
   "id": "e5469124",
   "metadata": {},
   "source": [
    "## Prepare data for model inference\n",
    "\n",
    "We load the California housing dataset from sklearn, and will use it to invoke SageMaker Endpoint"
   ]
  },
  {
   "cell_type": "code",
   "execution_count": null,
   "id": "76c870bf",
   "metadata": {},
   "outputs": [],
   "source": [
    "data = fetch_california_housing()"
   ]
  },
  {
   "cell_type": "code",
   "execution_count": null,
   "id": "11826e91",
   "metadata": {},
   "outputs": [],
   "source": [
    "X_train, X_test, y_train, y_test = train_test_split(\n",
    "    data.data, data.target, test_size=0.25, random_state=42\n",
    ")\n",
    "\n",
    "# we don't train a model, so we will need only the testing data\n",
    "testX = pd.DataFrame(X_test, columns=data.feature_names)"
   ]
  },
  {
   "cell_type": "code",
   "execution_count": null,
   "id": "66ceda47",
   "metadata": {},
   "outputs": [],
   "source": [
    "testX.head(10)"
   ]
  },
  {
   "cell_type": "markdown",
   "id": "39045f8c",
   "metadata": {},
   "source": [
    "## Download a pre-trained model file\n",
    "\n",
    "Download a pretrained Scikit-Learn Random Forest model.\n",
    "\n",
    "We used the California Housing dataset, present in Scikit-Learn: https://scikit-learn.org/stable/datasets/real_world.html#california-housing-dataset to train the model.\n",
    "\n",
    "For more details on how to train the model with Amazon SageMaker, please refer to the [Develop, Train, Optimize and Deploy Scikit-Learn Random Forest notebook](https://github.com/aws/amazon-sagemaker-examples/blob/master/sagemaker-python-sdk/scikit_learn_randomforest/Sklearn_on_SageMaker_end2end.ipynb)"
   ]
  },
  {
   "cell_type": "code",
   "execution_count": null,
   "id": "32e84194",
   "metadata": {},
   "outputs": [],
   "source": [
    "!aws s3 cp s3://aws-ml-blog/artifacts/scikit_learn_bring_your_own_model/model.joblib ."
   ]
  },
  {
   "cell_type": "markdown",
   "id": "60ba8382",
   "metadata": {},
   "source": [
    "### Compressed the model file to a GZIP tar archive \n",
    "\n",
    "Note that the model file name must satisfy the regular expression pattern: `^[a-zA-Z0-9](-*[a-zA-Z0-9])*;`. The model file needs to be tar-zipped. "
   ]
  },
  {
   "cell_type": "code",
   "execution_count": null,
   "id": "5a3b9856",
   "metadata": {},
   "outputs": [],
   "source": [
    "model_file_name = \"model.joblib\""
   ]
  },
  {
   "cell_type": "code",
   "execution_count": null,
   "id": "295d8932",
   "metadata": {},
   "outputs": [],
   "source": [
    "!tar czvf model.tar.gz $model_file_name"
   ]
  },
  {
   "cell_type": "markdown",
   "id": "34593069",
   "metadata": {},
   "source": [
    "## Upload the pre-trained model `model.tar.gz` file to S3"
   ]
  },
  {
   "cell_type": "code",
   "execution_count": null,
   "id": "59663466",
   "metadata": {},
   "outputs": [],
   "source": [
    "fObj = open(\"model.tar.gz\", \"rb\")\n",
    "key = os.path.join(prefix, \"model.tar.gz\")\n",
    "boto3.Session().resource(\"s3\").Bucket(bucket).Object(key).upload_fileobj(fObj)"
   ]
  },
  {
   "cell_type": "markdown",
   "id": "b70e99f4",
   "metadata": {},
   "source": [
    "## Set up hosting for the model\n",
    "\n",
    "This involves creating a SageMaker model from the model file previously uploaded to S3."
   ]
  },
  {
   "cell_type": "code",
   "execution_count": null,
   "id": "502dfd6a",
   "metadata": {},
   "outputs": [],
   "source": [
    "model_data = \"s3://{}/{}\".format(bucket, key)\n",
    "print(f\"model data: {model_data}\")"
   ]
  },
  {
   "cell_type": "markdown",
   "id": "26b34b08",
   "metadata": {},
   "source": [
    "### Write the Inference Script\n",
    "\n",
    "When using endpoints with the Amazon SageMaker managed `Scikit Learn` container, we need to provide an entry point script for inference that will **at least** load the saved model.\n",
    "\n",
    "After the SageMaker model server has loaded your model by calling `model_fn`, SageMaker will serve your model. Model serving is the process of responding to inference requests, received by SageMaker `InvokeEndpoint` API calls.\n",
    "\n",
    "\n",
    "We will implement also the `predict_fn()` function that takes the deserialized request object and performs inference against the loaded model.\n",
    "\n",
    "We will now create this script and call it `inference.py` and store it at the root of a directory called `code`.\n",
    "\n",
    "**Note:** You would modify the script below to implement your own inferencing logic.\n",
    "\n",
    "Additional information on model loading and model serving for scikit-learn on SageMaker can be found in the [SageMaker Scikit-learn Model Server documentation](https://sagemaker.readthedocs.io/en/stable/frameworks/sklearn/using_sklearn.html#deploy-a-scikit-learn-model)\n",
    "\n",
    "There are also several functions for hosting which we won't define,\n",
    " - `input_fn()` - Takes request data and deserializes the data into an object for prediction.\n",
    " - `output_fn()` - Takes the result of prediction and serializes this according to the response content type.\n",
    "\n",
    "These will take on their default values as described [SageMaker Scikit-learn Serve a Model documentation](https://sagemaker.readthedocs.io/en/stable/frameworks/sklearn/using_sklearn.html#serve-a-model)"
   ]
  },
  {
   "cell_type": "code",
   "execution_count": null,
   "id": "26dde0cf",
   "metadata": {},
   "outputs": [],
   "source": [
    "!pygmentize ./code/inference.py"
   ]
  },
  {
   "cell_type": "markdown",
   "id": "d1dbdc77",
   "metadata": {},
   "source": [
    "### Installing additional Python dependencies\n",
    "\n",
    "It also may be necessary to supply a `requirements.txt` file to ensure any necessary dependencies are installed in the container along with the script. For this script, in addition to the Python standard libraries, we showcase how to install the `boto3` `requests`, and `nltk` libraries."
   ]
  },
  {
   "cell_type": "code",
   "execution_count": null,
   "id": "7eefde8d",
   "metadata": {},
   "outputs": [],
   "source": [
    "!pygmentize ./code/requirements.txt"
   ]
  },
  {
   "cell_type": "markdown",
   "id": "285c865c",
   "metadata": {},
   "source": [
    "### Deploy with Python SDK\n",
    "\n",
    "Here we showcase the process of creating a model from s3 artifacts, that could be used to deploy a model that was trained in a different session or even out of SageMaker."
   ]
  },
  {
   "cell_type": "code",
   "execution_count": null,
   "id": "2975b5dd",
   "metadata": {},
   "outputs": [],
   "source": [
    "model = SKLearnModel(\n",
    "    role=role,\n",
    "    model_data=model_data,\n",
    "    framework_version=\"0.23-1\",\n",
    "    py_version=\"py3\",\n",
    "    source_dir=\"code\",\n",
    "    entry_point=\"inference.py\",\n",
    ")"
   ]
  },
  {
   "cell_type": "markdown",
   "id": "9c8fb626",
   "metadata": {},
   "source": [
    "### Create endpoint\n",
    "Lastly, you create the endpoint that serves up the model, through specifying the name and configuration defined above. The end result is an endpoint that can be validated and incorporated into production applications. This takes 5-10 minutes to complete."
   ]
  },
  {
   "cell_type": "code",
   "execution_count": null,
   "id": "67642038",
   "metadata": {},
   "outputs": [],
   "source": [
    "%%time\n",
    "\n",
    "predictor = model.deploy(instance_type=\"ml.t2.medium\", initial_instance_count=1)"
   ]
  },
  {
   "cell_type": "markdown",
   "id": "236995d7",
   "metadata": {},
   "source": [
    "## Validate the model for use\n",
    "Now you can obtain the endpoint from the client library using the result from previous operations and generate classifications from the model using that endpoint."
   ]
  },
  {
   "cell_type": "markdown",
   "id": "10401933",
   "metadata": {},
   "source": [
    "### Invoke with the Python SDK"
   ]
  },
  {
   "cell_type": "markdown",
   "id": "d32e018e",
   "metadata": {},
   "source": [
    "Let's generate the prediction for a single data point. We'll pick one from the test data generated earlier."
   ]
  },
  {
   "cell_type": "code",
   "execution_count": null,
   "id": "a5dbf6d6",
   "metadata": {},
   "outputs": [],
   "source": [
    "# the SKLearnPredictor does the serialization from pandas for us\n",
    "predictions = predictor.predict(testX[data.feature_names])\n",
    "print(predictions)"
   ]
  },
  {
   "cell_type": "markdown",
   "id": "1535b114",
   "metadata": {},
   "source": [
    "### Alternative: invoke with `boto3`\n",
    "\n",
    "This is useful when invoking the model from external clients, e.g. Lambda Functions, or other micro-services."
   ]
  },
  {
   "cell_type": "code",
   "execution_count": null,
   "id": "e4232fe3",
   "metadata": {},
   "outputs": [],
   "source": [
    "runtime = boto3.client(\"sagemaker-runtime\")"
   ]
  },
  {
   "cell_type": "markdown",
   "id": "93a34260",
   "metadata": {},
   "source": [
    "#### Option 1: `csv` serialization"
   ]
  },
  {
   "cell_type": "code",
   "execution_count": null,
   "id": "bfe946b0",
   "metadata": {},
   "outputs": [],
   "source": [
    "# csv serialization\n",
    "response = runtime.invoke_endpoint(\n",
    "    EndpointName=predictor.endpoint,\n",
    "    Body=testX[data.feature_names].to_csv(header=False, index=False).encode(\"utf-8\"),\n",
    "    ContentType=\"text/csv\",\n",
    ")\n",
    "\n",
    "print(response[\"Body\"].read())"
   ]
  },
  {
   "cell_type": "markdown",
   "id": "abbaae43",
   "metadata": {},
   "source": [
    "#### Option 2: `npy` serialization"
   ]
  },
  {
   "cell_type": "code",
   "execution_count": null,
   "id": "a521b68a",
   "metadata": {},
   "outputs": [],
   "source": [
    "# npy serialization\n",
    "from io import BytesIO\n",
    "\n",
    "\n",
    "# Serialise numpy ndarray as bytes\n",
    "buffer = BytesIO()\n",
    "# Assuming testX is a data frame\n",
    "np.save(buffer, testX[data.feature_names].values)\n",
    "\n",
    "response = runtime.invoke_endpoint(\n",
    "    EndpointName=predictor.endpoint, Body=buffer.getvalue(), ContentType=\"application/x-npy\"\n",
    ")\n",
    "\n",
    "print(response[\"Body\"].read())"
   ]
  },
  {
   "cell_type": "markdown",
   "id": "8694ea4c",
   "metadata": {},
   "source": [
    "### (Optional) Delete the Endpoint\n",
    "\n",
    "If you're ready to be done with this notebook, please run the delete_endpoint line in the cell below.  This will remove the hosted endpoint you created and avoid any charges from a stray instance being left on."
   ]
  },
  {
   "cell_type": "code",
   "execution_count": null,
   "id": "6fc53f71",
   "metadata": {},
   "outputs": [],
   "source": [
    "predictor.delete_endpoint()"
   ]
  },
  {
   "cell_type": "markdown",
   "id": "12313175",
   "metadata": {},
   "source": [
    "## Optional - Deploy a model from `SageMaker Model Registry` and update an existing SageMaker Endpoint"
   ]
  },
  {
   "cell_type": "markdown",
   "id": "73044ec2",
   "metadata": {},
   "source": [
    "## Upload `sourcedir.tar.gz` to S3\n",
    "\n",
    "When using the SageMaker Python SDK, it will upload the files in `entry_point`, `source_dir`, and dependencies to S3 as a compressed `sourcedir.tar.gz` file \n",
    "\n",
    "Because you are deploying a model you trained outside of SageMaker with `boto3`, this is something you will have to do."
   ]
  },
  {
   "cell_type": "code",
   "execution_count": null,
   "id": "1fe1ff09",
   "metadata": {},
   "outputs": [],
   "source": [
    "!cd code && tar czvf ../sourcedir.tar.gz *"
   ]
  },
  {
   "cell_type": "code",
   "execution_count": null,
   "id": "86a48215",
   "metadata": {},
   "outputs": [],
   "source": [
    "fObj = open(\"sourcedir.tar.gz\", \"rb\")\n",
    "key = os.path.join(prefix, \"sourcedir.tar.gz\")\n",
    "boto3.Session().resource(\"s3\").Bucket(bucket).Object(key).upload_fileobj(fObj)"
   ]
  },
  {
   "cell_type": "code",
   "execution_count": null,
   "id": "e96d84a6",
   "metadata": {},
   "outputs": [],
   "source": [
    "sourcedir_data = \"s3://{}/{}\".format(bucket, key)\n",
    "print(f\"sources data: {sourcedir_data}\")"
   ]
  },
  {
   "cell_type": "markdown",
   "id": "fdb1c463",
   "metadata": {},
   "source": [
    "Let's inspect the content of this bucket"
   ]
  },
  {
   "cell_type": "code",
   "execution_count": null,
   "id": "53dcd734",
   "metadata": {},
   "outputs": [],
   "source": [
    "!aws s3 ls s3://{bucket}/{prefix}/"
   ]
  },
  {
   "cell_type": "markdown",
   "id": "251f6c02",
   "metadata": {},
   "source": [
    "## Create a Model Group\n",
    "\n",
    "This will create a model group. A model group contains a group of model versions."
   ]
  },
  {
   "cell_type": "code",
   "execution_count": null,
   "id": "a6a91063",
   "metadata": {},
   "outputs": [],
   "source": [
    "client = boto3.client(\"sagemaker\")\n",
    "\n",
    "model_package_group_name = \"sklearn-california-housing-\" + str(round(time.time()))\n",
    "model_package_group_input_dict = {\n",
    " \"ModelPackageGroupName\" : model_package_group_name,\n",
    " \"ModelPackageGroupDescription\" : \"My sample sklearn model package group\"\n",
    "}\n",
    "\n",
    "create_model_pacakge_group_response = client.create_model_package_group(**model_package_group_input_dict)\n",
    "print('ModelPackageGroup Arn : {}'.format(create_model_pacakge_group_response['ModelPackageGroupArn']))"
   ]
  },
  {
   "cell_type": "markdown",
   "id": "721d2053",
   "metadata": {},
   "source": [
    "## Register a Model Version for the 1st model\n",
    "\n",
    "You will create a model package that you will use to create a SageMaker versioned model that is part of a model group.\n",
    "\n",
    "Nw create create a model package by specifying a Docker container that contains your inference code and the Amazon S3 location of your model artifacts, provide values for `InferenceSpecification`."
   ]
  },
  {
   "cell_type": "code",
   "execution_count": null,
   "id": "f19433f9",
   "metadata": {},
   "outputs": [],
   "source": [
    "training_image = \"683313688378.dkr.ecr.us-east-1.amazonaws.com/sagemaker-scikit-learn:0.23-1-cpu-py3\"\n",
    "sagemaker_program = \"inference.py\"\n",
    "\n",
    "modelpackage_inference_specification =  {\n",
    "    \"InferenceSpecification\": {\n",
    "      \"Containers\": [\n",
    "         {\n",
    "            \"Image\": training_image,\n",
    "             \"Environment\": {\n",
    "                \"SAGEMAKER_CONTAINER_LOG_LEVEL\": \"20\",\n",
    "                \"SAGEMAKER_PROGRAM\": sagemaker_program,\n",
    "                \"SAGEMAKER_REGION\": region,\n",
    "                \"SAGEMAKER_SUBMIT_DIRECTORY\": sourcedir_data\n",
    "             },\n",
    "         }\n",
    "      ],\n",
    "      \"SupportedContentTypes\": [ \"text/csv\" ],\n",
    "      \"SupportedResponseMIMETypes\": [ \"text/csv\" ],\n",
    "   }\n",
    " }\n",
    "\n",
    "# Specify the model data\n",
    "modelpackage_inference_specification[\"InferenceSpecification\"][\"Containers\"][0][\"ModelDataUrl\"]=model_data\n",
    "\n",
    "create_model_package_input_dict = {\n",
    "    \"ModelPackageGroupName\" : model_package_group_name,\n",
    "    \"ModelPackageDescription\" : \"Model to predict California housing values\",\n",
    "    \"ModelApprovalStatus\" : \"PendingManualApproval\"\n",
    "}\n",
    "create_model_package_input_dict.update(modelpackage_inference_specification)"
   ]
  },
  {
   "cell_type": "code",
   "execution_count": null,
   "id": "6b32f498",
   "metadata": {},
   "outputs": [],
   "source": [
    "create_mode_package_response = client.create_model_package(**create_model_package_input_dict)\n",
    "model_package_arn = create_mode_package_response[\"ModelPackageArn\"]\n",
    "print('ModelPackage Version ARN : {}'.format(model_package_arn))"
   ]
  },
  {
   "cell_type": "markdown",
   "id": "1417f75b",
   "metadata": {},
   "source": [
    "## View Model Groups and Versions"
   ]
  },
  {
   "cell_type": "code",
   "execution_count": null,
   "id": "f0b8dfac",
   "metadata": {},
   "outputs": [],
   "source": [
    "list_model_packages_response = client.list_model_packages(ModelPackageGroupName=model_package_group_name)\n",
    "list_model_packages_response"
   ]
  },
  {
   "cell_type": "markdown",
   "id": "bc95897a",
   "metadata": {},
   "source": [
    "You should now see model package version 1 in the `model package` ARN."
   ]
  },
  {
   "cell_type": "code",
   "execution_count": null,
   "id": "812c3ab2",
   "metadata": {},
   "outputs": [],
   "source": [
    "model_version_arn = list_model_packages_response['ModelPackageSummaryList'][0]['ModelPackageArn']\n",
    "print(model_version_arn)"
   ]
  },
  {
   "cell_type": "markdown",
   "id": "5478677e",
   "metadata": {},
   "source": [
    "## View 1st Model Version Details"
   ]
  },
  {
   "cell_type": "code",
   "execution_count": null,
   "id": "1d523e79",
   "metadata": {},
   "outputs": [],
   "source": [
    "client.describe_model_package(ModelPackageName=model_version_arn)"
   ]
  },
  {
   "cell_type": "markdown",
   "id": "1b712059",
   "metadata": {},
   "source": [
    "## Update 1st Model Approval Status"
   ]
  },
  {
   "cell_type": "code",
   "execution_count": null,
   "id": "b83791ff",
   "metadata": {},
   "outputs": [],
   "source": [
    "model_package_update_input_dict = {\n",
    "    \"ModelPackageArn\" : model_package_arn,\n",
    "    \"ModelApprovalStatus\" : \"Approved\"\n",
    "}\n",
    "model_package_update_response = client.update_model_package(**model_package_update_input_dict)\n",
    "model_package_update_response"
   ]
  },
  {
   "cell_type": "markdown",
   "id": "80088933",
   "metadata": {},
   "source": [
    "## Deploy the 1st Model in the Registry"
   ]
  },
  {
   "cell_type": "code",
   "execution_count": null,
   "id": "22d86878",
   "metadata": {},
   "outputs": [],
   "source": [
    "model_1_name = 'DEMO-sklearn-califonia-housing-model-1-' + datetime.datetime.now().strftime(\"%Y-%m-%d-%H-%M-%S\")\n",
    "print(\"Model name : {}\".format(model_1_name))"
   ]
  },
  {
   "cell_type": "code",
   "execution_count": null,
   "id": "6d1f80c5",
   "metadata": {},
   "outputs": [],
   "source": [
    "primary_container = {\n",
    "    'ModelPackageName': model_version_arn,\n",
    "}"
   ]
  },
  {
   "cell_type": "markdown",
   "id": "33bb0804",
   "metadata": {},
   "source": [
    "## Create `Model` "
   ]
  },
  {
   "cell_type": "code",
   "execution_count": null,
   "id": "a09b5da4",
   "metadata": {},
   "outputs": [],
   "source": [
    "create_model_respose = client.create_model(\n",
    "    ModelName = model_1_name,\n",
    "    ExecutionRoleArn = get_execution_role(),\n",
    "    PrimaryContainer = primary_container\n",
    ")\n",
    "\n",
    "print(\"Model arn : {}\".format(create_model_respose[\"ModelArn\"]))"
   ]
  },
  {
   "cell_type": "markdown",
   "id": "c430f3c7",
   "metadata": {},
   "source": [
    "## Create an Endpoint Config from 1st model\n",
    "\n",
    "This will create an endpoint configuration that Amazon SageMaker hosting services uses to deploy models. In the configuration, you identify one or more models, created using the `CreateModel` API, to deploy and the resources that you want Amazon SageMaker to provision. Then you call the `CreateEndpoint` API.\n",
    "\n",
    "More info on `create_endpoint_config` can be found on the [Boto3 SageMaker documentation page](https://boto3.amazonaws.com/v1/documentation/api/latest/reference/services/sagemaker.html#SageMaker.Client.create_endpoint_config)."
   ]
  },
  {
   "cell_type": "code",
   "execution_count": null,
   "id": "cd5afddc",
   "metadata": {},
   "outputs": [],
   "source": [
    "endpoint_config_1_name = \"sklearn-endpoint-config-1-\" + datetime.datetime.now().strftime(\n",
    "    \"%Y-%m-%d-%H-%M-%S\"\n",
    ")\n",
    "\n",
    "endpoint_config_1_response = client.create_endpoint_config(\n",
    "    EndpointConfigName=endpoint_config_1_name,\n",
    "    ProductionVariants=[\n",
    "        {\n",
    "            \"VariantName\": \"AllTrafficVariant\",\n",
    "            \"ModelName\": model_1_name,\n",
    "            \"InitialInstanceCount\": 1,\n",
    "            \"InstanceType\": \"ml.c5.large\",\n",
    "            \"InitialVariantWeight\": 1,\n",
    "        },\n",
    "    ],\n",
    ")\n",
    "\n",
    "endpoint_config_1_response"
   ]
  },
  {
   "cell_type": "markdown",
   "id": "433d4462",
   "metadata": {},
   "source": [
    "## Deploy the 1st Endpoint Config to a real-time endpoint\n",
    "\n",
    "This will create an endpoint using the endpoint configuration specified in the request. Amazon SageMaker uses the endpoint to provision resources and deploy models. Note that you have already created the endpoint configuration with the `CreateEndpointConfig` API in the previous step.\n",
    "\n",
    "More info on `create_endpoint` can be found on the [Boto3 SageMaker documentation page](https://boto3.amazonaws.com/v1/documentation/api/latest/reference/services/sagemaker.html#SageMaker.Client.create_endpoint)."
   ]
  },
  {
   "cell_type": "code",
   "execution_count": null,
   "id": "f1393a22",
   "metadata": {},
   "outputs": [],
   "source": [
    "endpoint_name = \"sklearn-endpoint-\" + datetime.datetime.now().strftime(\"%Y-%m-%d-%H-%M-%S\")\n",
    "\n",
    "create_endpoint_response = client.create_endpoint(\n",
    "    EndpointName=endpoint_name,\n",
    "    EndpointConfigName=endpoint_config_1_name,\n",
    ")\n",
    "\n",
    "create_endpoint_response"
   ]
  },
  {
   "cell_type": "markdown",
   "id": "0100c7a8",
   "metadata": {},
   "source": [
    "## Wait for Endpoint to be ready"
   ]
  },
  {
   "cell_type": "code",
   "execution_count": null,
   "id": "d49859c3",
   "metadata": {},
   "outputs": [],
   "source": [
    "describe_endpoint_response = client.describe_endpoint(EndpointName=endpoint_name)\n",
    "\n",
    "while describe_endpoint_response[\"EndpointStatus\"] == \"Creating\":\n",
    "    describe_endpoint_response = client.describe_endpoint(EndpointName=endpoint_name)\n",
    "    print(describe_endpoint_response[\"EndpointStatus\"])\n",
    "    time.sleep(15)\n",
    "\n",
    "describe_endpoint_response"
   ]
  },
  {
   "cell_type": "markdown",
   "id": "03cae6f0",
   "metadata": {},
   "source": [
    "## Invoke Endpoint with `boto3`"
   ]
  },
  {
   "cell_type": "code",
   "execution_count": null,
   "id": "d05ad6e5",
   "metadata": {},
   "outputs": [],
   "source": [
    "# csv serialization\n",
    "response = runtime.invoke_endpoint(\n",
    "    EndpointName=endpoint_name,\n",
    "    Body=testX[data.feature_names].to_csv(header=False, index=False).encode(\"utf-8\"),\n",
    "    ContentType=\"text/csv\",\n",
    ")\n",
    "\n",
    "print(response[\"Body\"].read())"
   ]
  },
  {
   "cell_type": "markdown",
   "id": "231f8e3d",
   "metadata": {},
   "source": [
    "## Register a Model Version for the 2nd model\n",
    "\n",
    "You will now register a Model Version for the 2nd model in `Model Registry`. \n",
    "\n",
    "In real life, you will use a new trained model artifacts. In this notebook, you will use the same artifcats of the 1st model."
   ]
  },
  {
   "cell_type": "code",
   "execution_count": null,
   "id": "0a5716b7",
   "metadata": {},
   "outputs": [],
   "source": [
    "modelpackage_inference_specification =  {\n",
    "    \"InferenceSpecification\": {\n",
    "      \"Containers\": [\n",
    "         {\n",
    "            \"Image\": training_image,\n",
    "             \"Environment\": {\n",
    "                \"SAGEMAKER_CONTAINER_LOG_LEVEL\": \"20\",\n",
    "                \"SAGEMAKER_PROGRAM\": sagemaker_program,\n",
    "                \"SAGEMAKER_REGION\": region,\n",
    "                \"SAGEMAKER_SUBMIT_DIRECTORY\": sourcedir_data\n",
    "             },\n",
    "         }\n",
    "      ],\n",
    "      \"SupportedContentTypes\": [ \"text/csv\" ],\n",
    "      \"SupportedResponseMIMETypes\": [ \"text/csv\" ],\n",
    "   }\n",
    " }\n",
    "\n",
    "# Specify the model data\n",
    "modelpackage_inference_specification[\"InferenceSpecification\"][\"Containers\"][0][\"ModelDataUrl\"]=model_data\n",
    "\n",
    "create_model_package_input_dict = {\n",
    "    \"ModelPackageGroupName\" : model_package_group_name,\n",
    "    \"ModelPackageDescription\" : \"Model to predict California housing values\",\n",
    "    \"ModelApprovalStatus\" : \"PendingManualApproval\"\n",
    "}\n",
    "create_model_package_input_dict.update(modelpackage_inference_specification)"
   ]
  },
  {
   "cell_type": "markdown",
   "id": "f2146aeb",
   "metadata": {},
   "source": [
    "You should now see model package version 2 in the `model package` ARN."
   ]
  },
  {
   "cell_type": "code",
   "execution_count": null,
   "id": "42593a89",
   "metadata": {},
   "outputs": [],
   "source": [
    "create_mode_package_response = client.create_model_package(**create_model_package_input_dict)\n",
    "model_package_arn = create_mode_package_response[\"ModelPackageArn\"]\n",
    "print('ModelPackage Version ARN : {}'.format(model_package_arn))"
   ]
  },
  {
   "cell_type": "markdown",
   "id": "878d484c",
   "metadata": {},
   "source": [
    "## View Model Groups and Versions\n",
    "\n",
    "You should see there are two models registered - `/1` and `/2`."
   ]
  },
  {
   "cell_type": "code",
   "execution_count": null,
   "id": "03933f19",
   "metadata": {},
   "outputs": [],
   "source": [
    "list_model_packages_response = client.list_model_packages(ModelPackageGroupName=model_package_group_name)\n",
    "list_model_packages_response"
   ]
  },
  {
   "cell_type": "code",
   "execution_count": null,
   "id": "a85ff9d7",
   "metadata": {},
   "outputs": [],
   "source": [
    "model_version_arn = list_model_packages_response['ModelPackageSummaryList'][0]['ModelPackageArn']\n",
    "print(model_version_arn)"
   ]
  },
  {
   "cell_type": "markdown",
   "id": "08089634",
   "metadata": {},
   "source": [
    "## View 2nd Model Version Details"
   ]
  },
  {
   "cell_type": "code",
   "execution_count": null,
   "id": "80a6e71b",
   "metadata": {},
   "outputs": [],
   "source": [
    "client.describe_model_package(ModelPackageName=model_version_arn)"
   ]
  },
  {
   "cell_type": "markdown",
   "id": "ac207a42",
   "metadata": {},
   "source": [
    "## Update the 2nd Model Approval Status"
   ]
  },
  {
   "cell_type": "code",
   "execution_count": null,
   "id": "8e60ba80",
   "metadata": {},
   "outputs": [],
   "source": [
    "model_package_update_input_dict = {\n",
    "    \"ModelPackageArn\" : model_package_arn,\n",
    "    \"ModelApprovalStatus\" : \"Approved\"\n",
    "}\n",
    "model_package_update_response = client.update_model_package(**model_package_update_input_dict)\n",
    "model_package_update_response"
   ]
  },
  {
   "cell_type": "markdown",
   "id": "0ed9a137",
   "metadata": {},
   "source": [
    "## Deploy the 2nd Model in the Registry"
   ]
  },
  {
   "cell_type": "code",
   "execution_count": null,
   "id": "48bfd5ff",
   "metadata": {},
   "outputs": [],
   "source": [
    "model_2_name = 'DEMO-sklearn-califonia-housing-model-2-' + datetime.datetime.now().strftime(\"%Y-%m-%d-%H-%M-%S\")\n",
    "print(\"Model name : {}\".format(model_2_name))"
   ]
  },
  {
   "cell_type": "code",
   "execution_count": null,
   "id": "d1b81d43",
   "metadata": {},
   "outputs": [],
   "source": [
    "primary_container = {\n",
    "    'ModelPackageName': model_version_arn,\n",
    "}"
   ]
  },
  {
   "cell_type": "code",
   "execution_count": null,
   "id": "27eb54f7",
   "metadata": {},
   "outputs": [],
   "source": [
    "create_model_respose = client.create_model(\n",
    "    ModelName = model_2_name,\n",
    "    ExecutionRoleArn = get_execution_role(),\n",
    "    PrimaryContainer = primary_container\n",
    ")\n",
    "\n",
    "print(\"Model arn : {}\".format(create_model_respose[\"ModelArn\"]))"
   ]
  },
  {
   "cell_type": "code",
   "execution_count": null,
   "id": "4ac2d9d3",
   "metadata": {},
   "outputs": [],
   "source": [
    "endpoint_config_2_name = \"sklearn-endpoint-config-2-\" + datetime.datetime.now().strftime(\n",
    "    \"%Y-%m-%d-%H-%M-%S\"\n",
    ")\n",
    "\n",
    "endpoint_config_2_response = client.create_endpoint_config(\n",
    "    EndpointConfigName=endpoint_config_2_name,\n",
    "    ProductionVariants=[\n",
    "        {\n",
    "            \"VariantName\": \"AllTrafficVariant\",\n",
    "            \"ModelName\": model_2_name,\n",
    "            \"InitialInstanceCount\": 1,\n",
    "            \"InstanceType\": \"ml.c5.large\",\n",
    "            \"InitialVariantWeight\": 1,\n",
    "        },\n",
    "    ],\n",
    ")\n",
    "\n",
    "endpoint_config_2_response"
   ]
  },
  {
   "cell_type": "markdown",
   "id": "9378b443",
   "metadata": {},
   "source": [
    "## Update the real-time endpoint with the 2nd Endpoint Config\n",
    "\n",
    "This will deploy the new `EndpointConfig` specified in the request, switches to using newly created endpoint, and then deletes resources provisioned for the endpoint using the previous `EndpointConfig` (there is no availability loss).\n",
    "\n",
    "More info on `update_endpoint` can be found on the [Boto3 SageMaker documentation page](https://boto3.amazonaws.com/v1/documentation/api/latest/reference/services/sagemaker.html#SageMaker.Client.update_endpoint)."
   ]
  },
  {
   "cell_type": "code",
   "execution_count": null,
   "id": "3e06ee8c",
   "metadata": {},
   "outputs": [],
   "source": [
    "update_endpoint_response = client.update_endpoint(\n",
    "    EndpointName=endpoint_name, EndpointConfigName=endpoint_config_2_name\n",
    ")\n",
    "\n",
    "update_endpoint_response"
   ]
  },
  {
   "cell_type": "markdown",
   "id": "c5ce3a80",
   "metadata": {},
   "source": [
    "## Wait for Endpoint to be ready\n",
    "\n",
    "Navigating to the SageMaker Endpoints, in `SageMaker Components and registries` tab, you'll see the endpoint in `Updating` status."
   ]
  },
  {
   "cell_type": "code",
   "execution_count": null,
   "id": "61a7aaef",
   "metadata": {},
   "outputs": [],
   "source": [
    "describe_endpoint_response = client.describe_endpoint(EndpointName=endpoint_name)\n",
    "\n",
    "while describe_endpoint_response[\"EndpointStatus\"] == \"Updating\":\n",
    "    describe_endpoint_response = client.describe_endpoint(EndpointName=endpoint_name)\n",
    "    print(describe_endpoint_response[\"EndpointStatus\"])\n",
    "    time.sleep(15)\n",
    "\n",
    "describe_endpoint_response"
   ]
  },
  {
   "cell_type": "markdown",
   "id": "afa84062",
   "metadata": {},
   "source": [
    "## Invoke Endpoint with `boto3`"
   ]
  },
  {
   "cell_type": "code",
   "execution_count": null,
   "id": "20f1afeb",
   "metadata": {},
   "outputs": [],
   "source": [
    "# csv serialization\n",
    "response = runtime.invoke_endpoint(\n",
    "    EndpointName=endpoint_name,\n",
    "    Body=testX[data.feature_names].to_csv(header=False, index=False).encode(\"utf-8\"),\n",
    "    ContentType=\"text/csv\",\n",
    ")\n",
    "\n",
    "print(response[\"Body\"].read())"
   ]
  },
  {
   "cell_type": "markdown",
   "id": "f62ea200",
   "metadata": {},
   "source": [
    "## View `Model Registry` in SageMaker Studio\n",
    "\n",
    "In SageMaker Studio, choose `SageMaker Components and registries` in the left pane, and under `Model Registry` choose the `sklearn-california-housing` model group. \n",
    "\n",
    "You should see two versions of the model.\n",
    "\n",
    "![](img/sm_studio_model_registry.png \"View Model Registry in SageMaker Studio\")"
   ]
  },
  {
   "cell_type": "markdown",
   "id": "91064b2d",
   "metadata": {},
   "source": [
    "## Clean up\n",
    "\n",
    "Endpoints should be deleted when no longer in use, since (per the [SageMaker pricing page](https://aws.amazon.com/sagemaker/pricing/)) they're billed by time deployed."
   ]
  },
  {
   "cell_type": "code",
   "execution_count": null,
   "id": "7a9394f8",
   "metadata": {},
   "outputs": [],
   "source": [
    "client.delete_endpoint(EndpointName=endpoint_name)"
   ]
  },
  {
   "cell_type": "markdown",
   "id": "eabf01de",
   "metadata": {},
   "source": [
    "## Optional - Deploy a Model Version from a Different Account\n",
    "\n",
    "Enable an AWS account to deploy model versions that were created in a different account by adding a cross-account resource policy. For example, one team in your organization might be responsible for training models, and a different team is responsible for deploying and updating models. When you create resource policies, you apply the policy to the resource to which you want to grant access. For more information about cross-account resource policies in AWS, see [Cross-account policy evaluation logic](https://docs.aws.amazon.com/IAM/latest/UserGuide/reference_policies_evaluation-logic-cross-account.html) in the AWS Identity and Access Management User Guide.\n",
    "\n",
    "To enable cross-account model deployment in SageMaker, you have to provide a cross-account resource policy for the model group that contains the model versions you want to deploy, the Amazon ECR repository where the inference image for the model group resides, and the Amazon S3 bucket where the model versions are stored. \n",
    "\n",
    "The following example creates cross-account policies for group that contains the model versions, and the Amazon S3 bucket where the model versions are stored, and applies the policies to the resources.\n",
    "\n",
    "Let's define the AWS cross account id to grant access to."
   ]
  },
  {
   "cell_type": "code",
   "execution_count": null,
   "id": "6279f2f6",
   "metadata": {},
   "outputs": [],
   "source": [
    "account = role.split(':')[4]\n",
    "\n",
    "cross_account_id = \"<YOUR CROSS AWS ACCOUNT TO GRANT ACCESS TO>\"\n",
    "cross_account_id = \"897567665895\"\n",
    "\n",
    "print(f'Account id: {account}')\n",
    "print(f'Cross Account id: {cross_account_id}')"
   ]
  },
  {
   "cell_type": "markdown",
   "id": "e6bf1e71",
   "metadata": {},
   "source": [
    "## Create policy for access to the S3 bucket"
   ]
  },
  {
   "cell_type": "code",
   "execution_count": null,
   "id": "908e2030",
   "metadata": {},
   "outputs": [],
   "source": [
    "bucket_policy = {\n",
    "    'Version': '2012-10-17',\n",
    "    'Statement': [{\n",
    "        'Sid': 'AddPerm',\n",
    "        'Effect': 'Allow',\n",
    "        'Principal': {\n",
    "            'AWS': f'arn:aws:iam::{cross_account_id}:root'\n",
    "        },\n",
    "        'Action': 's3:*',\n",
    "        'Resource': f'arn:aws:s3:::{bucket}/*'\n",
    "    }]\n",
    "}\n",
    "\n",
    "bucket_policy"
   ]
  },
  {
   "cell_type": "markdown",
   "id": "0fd95c95",
   "metadata": {},
   "source": [
    "## Convert the policy from JSON dict to string"
   ]
  },
  {
   "cell_type": "code",
   "execution_count": null,
   "id": "475e85c2",
   "metadata": {},
   "outputs": [],
   "source": [
    "bucket_policy = json.dumps(bucket_policy)"
   ]
  },
  {
   "cell_type": "markdown",
   "id": "9086cc39",
   "metadata": {},
   "source": [
    "## Set the new S3 policy"
   ]
  },
  {
   "cell_type": "code",
   "execution_count": null,
   "id": "02c78f05",
   "metadata": {},
   "outputs": [],
   "source": [
    "s3 = boto3.client('s3')\n",
    "respose = s3.put_bucket_policy(\n",
    "    Bucket = bucket,\n",
    "    Policy = bucket_policy)"
   ]
  },
  {
   "cell_type": "markdown",
   "id": "80ee06a7",
   "metadata": {},
   "source": [
    "## Create policy for access to the ModelPackageGroup"
   ]
  },
  {
   "cell_type": "code",
   "execution_count": null,
   "id": "57ab96f8",
   "metadata": {},
   "outputs": [],
   "source": [
    "model_pacakge_group_policy = {\n",
    "    'Version': '2012-10-17',\n",
    "    'Statement': [{\n",
    "        'Sid': 'AddPermModelPackageGroup',\n",
    "        'Effect': 'Allow',\n",
    "        'Principal': {\n",
    "            'AWS': f'arn:aws:iam::{cross_account_id}:root'\n",
    "        },\n",
    "        'Action': ['sagemaker:DescribeModelPackageGroup'],\n",
    "        'Resource': f'arn:aws:sagemaker:{region}:{account}:model-package-group/{model_package_group_name}'\n",
    "    },{\n",
    "        'Sid': 'AddPermModelPackageVersion',\n",
    "        'Effect': 'Allow',\n",
    "        'Principal': {\n",
    "            'AWS': f'arn:aws:iam::{cross_account_id}:root'\n",
    "        },\n",
    "        'Action': [\"sagemaker:DescribeModelPackage\",\n",
    "                   \"sagemaker:ListModelPackages\",\n",
    "                   \"sagemaker:UpdateModelPackage\",\n",
    "                   \"sagemaker:CreateModel\"],\n",
    "        'Resource': f'arn:aws:sagemaker:{region}:{account}:model-package/{model_package_group_name}/*'\n",
    "    }]\n",
    "}\n",
    "\n",
    "model_pacakge_group_policy"
   ]
  },
  {
   "cell_type": "markdown",
   "id": "724976af",
   "metadata": {},
   "source": [
    "## Convert the policy from JSON dict to string"
   ]
  },
  {
   "cell_type": "code",
   "execution_count": null,
   "id": "6b173926",
   "metadata": {},
   "outputs": [],
   "source": [
    "model_pacakge_group_policy = json.dumps(model_pacakge_group_policy)"
   ]
  },
  {
   "cell_type": "markdown",
   "id": "675f44df",
   "metadata": {},
   "source": [
    "## Set the new policy"
   ]
  },
  {
   "cell_type": "code",
   "execution_count": null,
   "id": "36c39439",
   "metadata": {},
   "outputs": [],
   "source": [
    "respose = client.put_model_package_group_policy(\n",
    "    ModelPackageGroupName = model_package_group_name,\n",
    "    ResourcePolicy = model_pacakge_group_policy)"
   ]
  },
  {
   "cell_type": "code",
   "execution_count": null,
   "id": "08588058",
   "metadata": {},
   "outputs": [],
   "source": [
    "print('ModelPackageGroupArn : {}'.format(create_model_pacakge_group_response['ModelPackageGroupArn']))"
   ]
  },
  {
   "cell_type": "markdown",
   "id": "89dc2267",
   "metadata": {},
   "source": [
    "## Use this notebook on the other dev/stage/production accounts\n",
    "\n",
    "On the other dev/stage/production accounts, you can use [this notebook](deploy_a_model_version_from_a_different_account.ipynb) to deploy a Model Version from the shared `Model Registry` AWS Account."
   ]
  },
  {
   "cell_type": "code",
   "execution_count": null,
   "id": "c275f97f",
   "metadata": {},
   "outputs": [],
   "source": []
  }
 ],
 "metadata": {
  "anaconda-cloud": {},
  "instance_type": "ml.t3.medium",
  "kernelspec": {
   "display_name": "conda_python3",
   "language": "python",
   "name": "conda_python3"
  },
  "language_info": {
   "codemirror_mode": {
    "name": "ipython",
    "version": 3
   },
   "file_extension": ".py",
   "mimetype": "text/x-python",
   "name": "python",
   "nbconvert_exporter": "python",
   "pygments_lexer": "ipython3",
   "version": "3.6.13"
  },
  "notice": "Copyright 2017 Amazon.com, Inc. or its affiliates. All Rights Reserved.  Licensed under the Apache License, Version 2.0 (the \"License\"). You may not use this file except in compliance with the License. A copy of the License is located at http://aws.amazon.com/apache2.0/ or in the \"license\" file accompanying this file. This file is distributed on an \"AS IS\" BASIS, WITHOUT WARRANTIES OR CONDITIONS OF ANY KIND, either express or implied. See the License for the specific language governing permissions and limitations under the License."
 },
 "nbformat": 4,
 "nbformat_minor": 5
}
