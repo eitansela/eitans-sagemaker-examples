{
 "cells": [
  {
   "cell_type": "markdown",
   "id": "f1514e1d",
   "metadata": {},
   "source": [
    "# Deploy a Model Version from a Different Account\n",
    "\n",
    "Use this notebook on the dev/stage/prodcution accounts to deploy a Model Version from the shared `Model Registry` AWS Account."
   ]
  },
  {
   "cell_type": "code",
   "execution_count": null,
   "id": "99437aca",
   "metadata": {},
   "outputs": [],
   "source": [
    "import boto3\n",
    "import time\n",
    "import datetime\n",
    "import pandas as pd\n",
    "from sagemaker import get_execution_role\n",
    "from sklearn.datasets import fetch_california_housing\n",
    "from sklearn.model_selection import train_test_split"
   ]
  },
  {
   "cell_type": "markdown",
   "id": "9f844301",
   "metadata": {},
   "source": [
    "## Prepare data for model inference\n",
    "\n",
    "We load the California housing dataset from sklearn, and will use it to invoke SageMaker Endpoint"
   ]
  },
  {
   "cell_type": "code",
   "execution_count": null,
   "id": "7349a144",
   "metadata": {},
   "outputs": [],
   "source": [
    "data = fetch_california_housing()"
   ]
  },
  {
   "cell_type": "code",
   "execution_count": null,
   "id": "a21eb99e",
   "metadata": {},
   "outputs": [],
   "source": [
    "X_train, X_test, y_train, y_test = train_test_split(\n",
    "    data.data, data.target, test_size=0.25, random_state=42\n",
    ")\n",
    "\n",
    "# we don't train a model, so we will need only the testing data\n",
    "testX = pd.DataFrame(X_test, columns=data.feature_names)"
   ]
  },
  {
   "cell_type": "code",
   "execution_count": null,
   "id": "db0a7238",
   "metadata": {},
   "outputs": [],
   "source": [
    "client = boto3.client(\"sagemaker\")"
   ]
  },
  {
   "cell_type": "code",
   "execution_count": null,
   "id": "af8a4891",
   "metadata": {},
   "outputs": [],
   "source": [
    "model_package_group_arn = \"<MODEL PACKAGE GROUP ARN FROM THE SHARED AWS ACCOUNT>\""
   ]
  },
  {
   "cell_type": "markdown",
   "id": "72c1998b",
   "metadata": {},
   "source": [
    "## View Model Groups and Versions"
   ]
  },
  {
   "cell_type": "code",
   "execution_count": null,
   "id": "9f6070f9",
   "metadata": {},
   "outputs": [],
   "source": [
    "list_model_packages_response = client.list_model_packages(ModelPackageGroupName=model_package_group_arn)\n",
    "list_model_packages_response"
   ]
  },
  {
   "cell_type": "markdown",
   "id": "e7f8269b",
   "metadata": {},
   "source": [
    "## View Latest model version"
   ]
  },
  {
   "cell_type": "code",
   "execution_count": null,
   "id": "7157080f",
   "metadata": {},
   "outputs": [],
   "source": [
    "model_version_arn = list_model_packages_response['ModelPackageSummaryList'][0]['ModelPackageArn']\n",
    "print(model_version_arn)"
   ]
  },
  {
   "cell_type": "markdown",
   "id": "8abfe684",
   "metadata": {},
   "source": [
    "## View latest Model Version Details"
   ]
  },
  {
   "cell_type": "code",
   "execution_count": null,
   "id": "2421ce16",
   "metadata": {},
   "outputs": [],
   "source": [
    "client.describe_model_package(ModelPackageName=model_version_arn)"
   ]
  },
  {
   "cell_type": "markdown",
   "id": "9c6c0c3a",
   "metadata": {},
   "source": [
    "## Deploy the Model from the Registry"
   ]
  },
  {
   "cell_type": "code",
   "execution_count": null,
   "id": "f28c420f",
   "metadata": {},
   "outputs": [],
   "source": [
    "model_name = 'DEMO-sklearn-califonia-housing-model-' + datetime.datetime.now().strftime(\"%Y-%m-%d-%H-%M-%S\")\n",
    "print(\"Model name : {}\".format(model_name))"
   ]
  },
  {
   "cell_type": "code",
   "execution_count": null,
   "id": "23595b1c",
   "metadata": {},
   "outputs": [],
   "source": [
    "primary_container = {\n",
    "    'ModelPackageName': model_version_arn,\n",
    "}"
   ]
  },
  {
   "cell_type": "markdown",
   "id": "25a2f647",
   "metadata": {},
   "source": [
    "## Create `Model` "
   ]
  },
  {
   "cell_type": "code",
   "execution_count": null,
   "id": "2feb4ade",
   "metadata": {},
   "outputs": [],
   "source": [
    "create_model_respose = client.create_model(\n",
    "    ModelName = model_name,\n",
    "    ExecutionRoleArn = get_execution_role(),\n",
    "    PrimaryContainer = primary_container\n",
    ")\n",
    "\n",
    "print(\"Model arn : {}\".format(create_model_respose[\"ModelArn\"]))"
   ]
  },
  {
   "cell_type": "markdown",
   "id": "a3bef098",
   "metadata": {},
   "source": [
    "## Create an Endpoint Config from the latest model"
   ]
  },
  {
   "cell_type": "code",
   "execution_count": null,
   "id": "3449e4be",
   "metadata": {},
   "outputs": [],
   "source": [
    "endpoint_config_name = \"sklearn-endpoint-config-\" + datetime.datetime.now().strftime(\n",
    "    \"%Y-%m-%d-%H-%M-%S\"\n",
    ")\n",
    "\n",
    "endpoint_config_response = client.create_endpoint_config(\n",
    "    EndpointConfigName=endpoint_config_name,\n",
    "    ProductionVariants=[\n",
    "        {\n",
    "            \"VariantName\": \"AllTrafficVariant\",\n",
    "            \"ModelName\": model_name,\n",
    "            \"InitialInstanceCount\": 1,\n",
    "            \"InstanceType\": \"ml.c5.large\",\n",
    "            \"InitialVariantWeight\": 1,\n",
    "        },\n",
    "    ],\n",
    ")\n",
    "\n",
    "endpoint_config_response"
   ]
  },
  {
   "cell_type": "markdown",
   "id": "46f8c6aa",
   "metadata": {},
   "source": [
    "## Deploy the Endpoint Config to a real-time endpoint"
   ]
  },
  {
   "cell_type": "code",
   "execution_count": null,
   "id": "d50d07d1",
   "metadata": {},
   "outputs": [],
   "source": [
    "endpoint_name = \"sklearn-endpoint-\" + datetime.datetime.now().strftime(\"%Y-%m-%d-%H-%M-%S\")\n",
    "\n",
    "create_endpoint_response = client.create_endpoint(\n",
    "    EndpointName=endpoint_name,\n",
    "    EndpointConfigName=endpoint_config_name,\n",
    ")\n",
    "\n",
    "create_endpoint_response"
   ]
  },
  {
   "cell_type": "markdown",
   "id": "9c6f776c",
   "metadata": {},
   "source": [
    "## Wait for Endpoint to be ready"
   ]
  },
  {
   "cell_type": "code",
   "execution_count": null,
   "id": "2bee82cc",
   "metadata": {},
   "outputs": [],
   "source": [
    "describe_endpoint_response = client.describe_endpoint(EndpointName=endpoint_name)\n",
    "\n",
    "while describe_endpoint_response[\"EndpointStatus\"] == \"Creating\":\n",
    "    describe_endpoint_response = client.describe_endpoint(EndpointName=endpoint_name)\n",
    "    print(describe_endpoint_response[\"EndpointStatus\"])\n",
    "    time.sleep(15)\n",
    "\n",
    "describe_endpoint_response"
   ]
  },
  {
   "cell_type": "markdown",
   "id": "68ffcbc2",
   "metadata": {},
   "source": [
    "## Invoke Endpoint with `boto3`"
   ]
  },
  {
   "cell_type": "code",
   "execution_count": null,
   "id": "ce7950e5",
   "metadata": {},
   "outputs": [],
   "source": [
    "runtime = boto3.client(\"sagemaker-runtime\")"
   ]
  },
  {
   "cell_type": "code",
   "execution_count": null,
   "id": "c52ae2e0",
   "metadata": {},
   "outputs": [],
   "source": [
    "# csv serialization\n",
    "response = runtime.invoke_endpoint(\n",
    "    EndpointName=endpoint_name,\n",
    "    Body=testX[data.feature_names].to_csv(header=False, index=False).encode(\"utf-8\"),\n",
    "    ContentType=\"text/csv\",\n",
    ")\n",
    "\n",
    "print(response[\"Body\"].read())"
   ]
  },
  {
   "cell_type": "markdown",
   "id": "b00a4b3c",
   "metadata": {},
   "source": [
    "## Clean up\n",
    "\n",
    "Endpoints should be deleted when no longer in use, since (per the [SageMaker pricing page](https://aws.amazon.com/sagemaker/pricing/)) they're billed by time deployed."
   ]
  },
  {
   "cell_type": "code",
   "execution_count": null,
   "id": "5fbb003d",
   "metadata": {},
   "outputs": [],
   "source": [
    "client.delete_endpoint(EndpointName=endpoint_name)"
   ]
  },
  {
   "cell_type": "code",
   "execution_count": null,
   "id": "fb38b0f7",
   "metadata": {},
   "outputs": [],
   "source": []
  }
 ],
 "metadata": {
  "kernelspec": {
   "display_name": "conda_python3",
   "language": "python",
   "name": "conda_python3"
  },
  "language_info": {
   "codemirror_mode": {
    "name": "ipython",
    "version": 3
   },
   "file_extension": ".py",
   "mimetype": "text/x-python",
   "name": "python",
   "nbconvert_exporter": "python",
   "pygments_lexer": "ipython3",
   "version": "3.6.13"
  }
 },
 "nbformat": 4,
 "nbformat_minor": 5
}