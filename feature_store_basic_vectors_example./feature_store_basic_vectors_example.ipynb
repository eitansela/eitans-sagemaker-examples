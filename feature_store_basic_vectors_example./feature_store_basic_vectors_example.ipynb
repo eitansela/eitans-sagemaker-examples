{
 "cells": [
  {
   "cell_type": "markdown",
   "id": "95f14fec",
   "metadata": {},
   "source": [
    "# Amazon SageMaker FeatureStore - Basic Example with Vectors\n",
    "\n",
    "Kernel `Python 3 (Data Science)` works well with this notebook.\n",
    "\n",
    "In this notebook, you will learn how to create a feature group for a dummy created dataset in the SageMaker Feature Store. You will then learn how to ingest the feature columns into the created feature group (both the Online and the Offline store) using SageMaker Python SDK. You will also see how to get an ingested feature record from the Online store and perfrom SQL query to fetch from Online feature store using Athena API.\n",
    "Then you'll test scenarios as wrong feature type and Null values."
   ]
  },
  {
   "cell_type": "markdown",
   "id": "8aee04c1",
   "metadata": {},
   "source": [
    "## Setup SageMaker FeatureStore\n",
    "\n",
    "Let's start by setting up the SageMaker Python SDK and boto client."
   ]
  },
  {
   "cell_type": "code",
   "execution_count": null,
   "id": "5aec7852",
   "metadata": {},
   "outputs": [],
   "source": [
    "import boto3\n",
    "import json\n",
    "import sagemaker\n",
    "from sagemaker.session import Session\n",
    "\n",
    "region = boto3.Session().region_name\n",
    "s3_client = boto3.client('s3', region_name=region)\n",
    "\n",
    "boto_session = boto3.Session(region_name=region)\n",
    "\n",
    "sagemaker_client = boto_session.client(service_name='sagemaker', region_name=region)\n",
    "featurestore_runtime = boto_session.client(service_name='sagemaker-featurestore-runtime', region_name=region)\n",
    "\n",
    "feature_store_session = Session(\n",
    "    boto_session=boto_session,\n",
    "    sagemaker_client=sagemaker_client,\n",
    "    sagemaker_featurestore_runtime_client=featurestore_runtime\n",
    ")"
   ]
  },
  {
   "cell_type": "markdown",
   "id": "151cc67e",
   "metadata": {},
   "source": [
    "#### S3 Bucket Setup For The OfflineStore\n",
    "\n",
    "SageMaker FeatureStore writes the data in the OfflineStore of a FeatureGroup to a S3 bucket owned by you. To be able to write to your S3 bucket, SageMaker FeatureStore assumes an IAM role which has access to it. The role is also owned by you.\n",
    "Note that the same bucket can be re-used across FeatureGroups. Data in the bucket is partitioned by FeatureGroup."
   ]
  },
  {
   "cell_type": "markdown",
   "id": "aff49c6d",
   "metadata": {},
   "source": [
    "Set the default s3 bucket name and it will be referenced throughout the notebook."
   ]
  },
  {
   "cell_type": "code",
   "execution_count": null,
   "id": "8aa77982",
   "metadata": {},
   "outputs": [],
   "source": [
    "# You can modify the following to use a bucket of your choosing\n",
    "default_s3_bucket_name = feature_store_session.default_bucket()\n",
    "prefix = 'sagemaker-basic-featurestore-vecors-demo'\n",
    "\n",
    "print(default_s3_bucket_name)"
   ]
  },
  {
   "cell_type": "markdown",
   "id": "2f209ae9",
   "metadata": {},
   "source": [
    "Set up the IAM role. This role gives SageMaker FeatureStore access to your S3 bucket. \n",
    "\n",
    "<div class=\"alert alert-block alert-warning\">\n",
    "<b>Note:</b> In this example we use the default SageMaker role, assuming it has both <b>AmazonSageMakerFullAccess</b> and <b>AmazonSageMakerFeatureStoreAccess</b> managed policies. If not, please make sure to attach them to the role before proceeding.\n",
    "</div>"
   ]
  },
  {
   "cell_type": "code",
   "execution_count": null,
   "id": "1c23bb32",
   "metadata": {},
   "outputs": [],
   "source": [
    "from sagemaker import get_execution_role\n",
    "\n",
    "# You can modify the following to use a role of your choosing. See the documentation for how to create this.\n",
    "role = get_execution_role()\n",
    "print (role)"
   ]
  },
  {
   "cell_type": "markdown",
   "id": "24d1ec50",
   "metadata": {},
   "source": [
    "## Inspect Dataset\n",
    "\n",
    "We create a random embeddings with 128 chars length and then create a dummy dataset "
   ]
  },
  {
   "cell_type": "code",
   "execution_count": null,
   "id": "21a487b6",
   "metadata": {},
   "outputs": [],
   "source": [
    "embeddings = np.random.rand(3,128).tolist()\n",
    "embeddings"
   ]
  },
  {
   "cell_type": "code",
   "execution_count": null,
   "id": "106636ed",
   "metadata": {},
   "outputs": [],
   "source": [
    "import numpy as np \n",
    "import pandas as pd\n",
    "import matplotlib.pyplot as plt\n",
    "import io\n",
    "\n",
    "d = {\n",
    "    'TransactionID': [1, 2, 3], \n",
    "    'TransactionAmt': [1000, 2000, 3000], \n",
    "    'card': [\"mastercard\",\"visa\",\"diners\"],\n",
    "    'embeddings': embeddings\n",
    "}\n",
    "my_sample_data = pd.DataFrame(data=d)\n",
    "my_sample_data"
   ]
  },
  {
   "cell_type": "markdown",
   "id": "e8a1027e",
   "metadata": {},
   "source": [
    "## Ingest Data into FeatureStore\n",
    "\n",
    "In this step we will create the FeatureGroups representing the transaction and identity tables."
   ]
  },
  {
   "cell_type": "markdown",
   "id": "217e77f1",
   "metadata": {},
   "source": [
    "#### Define FeatureGroups"
   ]
  },
  {
   "cell_type": "code",
   "execution_count": null,
   "id": "0ce1a56c",
   "metadata": {},
   "outputs": [],
   "source": [
    "from time import gmtime, strftime, sleep\n",
    "\n",
    "my_sample_feature_group_name = 'my-sample-vectors-feature-group-' + strftime('%d-%H-%M-%S', gmtime())"
   ]
  },
  {
   "cell_type": "code",
   "execution_count": null,
   "id": "5bbf78dc",
   "metadata": {},
   "outputs": [],
   "source": [
    "from sagemaker.feature_store.feature_group import FeatureGroup\n",
    "\n",
    "my_sample_feature_group = FeatureGroup(name=my_sample_feature_group_name, sagemaker_session=feature_store_session)"
   ]
  },
  {
   "cell_type": "markdown",
   "id": "d5572eb9",
   "metadata": {},
   "source": [
    "### Convert Object to String"
   ]
  },
  {
   "cell_type": "code",
   "execution_count": null,
   "id": "3d99ec9a",
   "metadata": {},
   "outputs": [],
   "source": [
    "my_sample_data.info()"
   ]
  },
  {
   "cell_type": "code",
   "execution_count": null,
   "id": "c74ff299",
   "metadata": {},
   "outputs": [],
   "source": [
    "import time\n",
    "\n",
    "current_time_sec = int(round(time.time()))\n",
    "\n",
    "def cast_object_to_string(data_frame):\n",
    "    for label in data_frame.columns:\n",
    "        if data_frame.dtypes[label] == 'object':\n",
    "            data_frame[label] = data_frame[label].astype(\"str\").astype(\"string\")\n",
    "\n",
    "# cast object dtype to string. The SageMaker FeatureStore Python SDK will then map the string dtype to String feature type.\n",
    "cast_object_to_string(my_sample_data)"
   ]
  },
  {
   "cell_type": "markdown",
   "id": "9cf3ad5f",
   "metadata": {},
   "source": [
    "### Add `EventTime` needed"
   ]
  },
  {
   "cell_type": "code",
   "execution_count": null,
   "id": "928898b0",
   "metadata": {},
   "outputs": [],
   "source": [
    "# record identifier and event time feature names\n",
    "record_identifier_feature_name = \"TransactionID\"\n",
    "event_time_feature_name = \"EventTime\"\n",
    "\n",
    "# append EventTime feature\n",
    "my_sample_data[event_time_feature_name] = pd.Series([current_time_sec]*len(my_sample_data), dtype=\"float64\")\n",
    "\n",
    "# load feature definitions to the feature group. SageMaker FeatureStore Python SDK will auto-detect the data schema based on input data.\n",
    "my_sample_feature_group.load_feature_definitions(data_frame=my_sample_data); # output is suppressed"
   ]
  },
  {
   "cell_type": "code",
   "execution_count": null,
   "id": "53fcf93e",
   "metadata": {},
   "outputs": [],
   "source": [
    "my_sample_data"
   ]
  },
  {
   "cell_type": "code",
   "execution_count": null,
   "id": "09064528",
   "metadata": {},
   "outputs": [],
   "source": [
    "my_sample_data.info()"
   ]
  },
  {
   "cell_type": "markdown",
   "id": "a046288f",
   "metadata": {},
   "source": [
    "#### Create FeatureGroups in SageMaker FeatureStore"
   ]
  },
  {
   "cell_type": "code",
   "execution_count": null,
   "id": "e7121567",
   "metadata": {},
   "outputs": [],
   "source": [
    "def wait_for_feature_group_creation_complete(feature_group):\n",
    "    status = feature_group.describe().get(\"FeatureGroupStatus\")\n",
    "    while status == \"Creating\":\n",
    "        print(\"Waiting for Feature Group Creation\")\n",
    "        time.sleep(5)\n",
    "        status = feature_group.describe().get(\"FeatureGroupStatus\")\n",
    "    if status != \"Created\":\n",
    "        raise RuntimeError(f\"Failed to create feature group {feature_group.name}\")\n",
    "    print(f\"FeatureGroup {feature_group.name} successfully created.\")\n",
    "\n",
    "my_sample_feature_group.create(\n",
    "    s3_uri=f\"s3://{default_s3_bucket_name}/{prefix}\",\n",
    "    record_identifier_name=record_identifier_feature_name,\n",
    "    event_time_feature_name=event_time_feature_name,\n",
    "    role_arn=role,\n",
    "    enable_online_store=True\n",
    ")\n",
    "\n",
    "wait_for_feature_group_creation_complete(feature_group=my_sample_feature_group)"
   ]
  },
  {
   "cell_type": "markdown",
   "id": "9e8797dc",
   "metadata": {},
   "source": [
    "Confirm the FeatureGroup has been created by using the DescribeFeatureGroup and ListFeatureGroups APIs."
   ]
  },
  {
   "cell_type": "code",
   "execution_count": null,
   "id": "a5c8464a",
   "metadata": {},
   "outputs": [],
   "source": [
    "feature_group_describe_response = my_sample_feature_group.describe()\n",
    "feature_group_describe_response"
   ]
  },
  {
   "cell_type": "markdown",
   "id": "f8857766",
   "metadata": {},
   "source": [
    "#### PutRecords into FeatureGroup\n",
    "\n",
    "After the FeatureGroups have been created, we can put data into the FeatureGroups by using the PutRecord API. This API can handle high TPS and is designed to be called by different streams. The data from all of these Put requests is buffered and written to S3 in chunks. The files will be written to the offline store within a few minutes of ingestion."
   ]
  },
  {
   "cell_type": "code",
   "execution_count": null,
   "id": "7a6b2e73",
   "metadata": {},
   "outputs": [],
   "source": [
    "my_sample_feature_group.ingest(\n",
    "    data_frame=my_sample_data, max_workers=1, wait=True\n",
    ")"
   ]
  },
  {
   "cell_type": "markdown",
   "id": "1440bcd7",
   "metadata": {},
   "source": [
    "To confirm that data has been ingested, we can quickly retrieve a record from the online store:"
   ]
  },
  {
   "cell_type": "code",
   "execution_count": null,
   "id": "222c997c",
   "metadata": {},
   "outputs": [],
   "source": [
    "record_identifier_value = str(1)\n",
    "\n",
    "featurestore_runtime.get_record(FeatureGroupName=my_sample_feature_group_name, RecordIdentifierValueAsString=record_identifier_value)"
   ]
  },
  {
   "cell_type": "markdown",
   "id": "44daf305",
   "metadata": {},
   "source": [
    "#### Create Pandas DataFrame from FeatureStore response"
   ]
  },
  {
   "cell_type": "code",
   "execution_count": null,
   "id": "a57384df",
   "metadata": {},
   "outputs": [],
   "source": [
    "record_identifier_value = str(3)\n",
    "\n",
    "record = featurestore_runtime.get_record(FeatureGroupName=my_sample_feature_group_name, RecordIdentifierValueAsString=record_identifier_value)[\"Record\"]\n",
    "record"
   ]
  },
  {
   "cell_type": "code",
   "execution_count": null,
   "id": "3fcbd8ae",
   "metadata": {},
   "outputs": [],
   "source": [
    "def map_feature_name_value(record):\n",
    "    result_dict = {}\n",
    "    for feature in record:\n",
    "        result_dict[feature[\"FeatureName\"]] = [feature[\"ValueAsString\"]]\n",
    "    return result_dict"
   ]
  },
  {
   "cell_type": "code",
   "execution_count": null,
   "id": "0175b871",
   "metadata": {},
   "outputs": [],
   "source": [
    "record_as_dict = map_feature_name_value(record)\n",
    "record_as_dict"
   ]
  },
  {
   "cell_type": "code",
   "execution_count": null,
   "id": "27f13af1",
   "metadata": {},
   "outputs": [],
   "source": [
    "pd.DataFrame(data=record_as_dict)"
   ]
  },
  {
   "cell_type": "markdown",
   "id": "6515cc66",
   "metadata": {},
   "source": [
    "## Batch fetch multiple Product records from the Online Feature Store\n",
    "\n",
    "Fetch a list of selected items from the feature group.\n",
    "##### Up to 100 records can be fetched from an online Feature Store in a single batch operation."
   ]
  },
  {
   "cell_type": "code",
   "execution_count": null,
   "id": "39a6a56d",
   "metadata": {},
   "outputs": [],
   "source": [
    "identifiers = [\n",
    "    {\n",
    "        'FeatureGroupName': my_sample_feature_group_name,\n",
    "        'RecordIdentifiersValueAsString': [\"1\", \"2\",\"3\"]\n",
    "    }\n",
    "]\n",
    "        \n",
    "batch_get_record_response = featurestore_runtime.batch_get_record(Identifiers=identifiers)\n",
    "batch_get_record_response['Records']"
   ]
  },
  {
   "cell_type": "markdown",
   "id": "4d36884b",
   "metadata": {},
   "source": [
    "## Update a record in the Feature Store\n",
    "\n",
    "We will replace the 1st record value from 1000 to 1111."
   ]
  },
  {
   "cell_type": "code",
   "execution_count": null,
   "id": "791baf37",
   "metadata": {},
   "outputs": [],
   "source": [
    "my_sample_data.replace(1000, 1111, inplace=True)\n",
    "my_sample_data"
   ]
  },
  {
   "cell_type": "markdown",
   "id": "0c4df303",
   "metadata": {},
   "source": [
    "Ingest records again"
   ]
  },
  {
   "cell_type": "code",
   "execution_count": null,
   "id": "cc94df14",
   "metadata": {},
   "outputs": [],
   "source": [
    "my_sample_feature_group.ingest(\n",
    "    data_frame=my_sample_data, max_workers=1, wait=True\n",
    ")"
   ]
  },
  {
   "cell_type": "markdown",
   "id": "699f031f",
   "metadata": {},
   "source": [
    "To confirm that record has been updated, we can quickly retrieve a record from the online store:"
   ]
  },
  {
   "cell_type": "code",
   "execution_count": null,
   "id": "57161d0f",
   "metadata": {},
   "outputs": [],
   "source": [
    "record_identifier_value = str(1)\n",
    "\n",
    "featurestore_runtime.get_record(FeatureGroupName=my_sample_feature_group_name, RecordIdentifierValueAsString=record_identifier_value)"
   ]
  },
  {
   "cell_type": "markdown",
   "id": "09135fe7",
   "metadata": {},
   "source": [
    "The SageMaker Python SDK’s FeatureStore class also provides the functionality to generate Hive DDL commands. Schema of the table is generated based on the feature definitions. Columns are named after feature name and data-type are inferred based on feature type."
   ]
  },
  {
   "cell_type": "code",
   "execution_count": null,
   "id": "0b7465f7",
   "metadata": {},
   "outputs": [],
   "source": [
    "print(my_sample_feature_group.as_hive_ddl())"
   ]
  },
  {
   "cell_type": "markdown",
   "id": "13b2fdb7",
   "metadata": {},
   "source": [
    "Now let's wait for the data to appear in our offline store before moving forward to creating a dataset. This will take approximately 5 minutes."
   ]
  },
  {
   "cell_type": "code",
   "execution_count": null,
   "id": "c20f02c3",
   "metadata": {},
   "outputs": [],
   "source": [
    "s3_offline_location=feature_group_describe_response['OfflineStoreConfig']['S3StorageConfig']['ResolvedOutputS3Uri']\n",
    "print(s3_offline_location)\n",
    "\n",
    "my_sample_feature_group_s3_prefix = '/'.join(s3_offline_location.split(\"/\")[3:])\n",
    "print(my_sample_feature_group_s3_prefix)\n",
    "\n",
    "offline_store_contents = None\n",
    "while (offline_store_contents is None):\n",
    "    objects_in_bucket = s3_client.list_objects(Bucket=default_s3_bucket_name,Prefix=my_sample_feature_group_s3_prefix)\n",
    "    if ('Contents' in objects_in_bucket and len(objects_in_bucket['Contents']) > 1):\n",
    "        offline_store_contents = objects_in_bucket['Contents']\n",
    "    else:\n",
    "        print('Waiting for data in offline store...\\n')\n",
    "        sleep(60)\n",
    "    \n",
    "print('Data available.')"
   ]
  },
  {
   "cell_type": "markdown",
   "id": "ba08888e",
   "metadata": {},
   "source": [
    "## Build Training Dataset\n",
    "\n",
    "SageMaker FeatureStore automatically builds the Glue Data Catalog for FeatureGroups (you can optionally turn it on/off while creating the FeatureGroup). In this example, we want to create one training dataset with FeatureValues from both identity and transaction FeatureGroups. This is done by utilizing the auto-built Catalog. We run an Athena query that joins the data stored in the offline store in S3 from the 2 FeatureGroups. "
   ]
  },
  {
   "cell_type": "code",
   "execution_count": null,
   "id": "ff8ef6c7",
   "metadata": {},
   "outputs": [],
   "source": [
    "my_sample_query = my_sample_feature_group.athena_query()\n",
    "\n",
    "my_sample_table = my_sample_query.table_name\n",
    "\n",
    "query_string = 'SELECT * FROM \"'+my_sample_table+'\"'\n",
    "print('Running ' + query_string)\n",
    "\n",
    "# run Athena query. The output is loaded to a Pandas dataframe.\n",
    "#dataset = pd.DataFrame()\n",
    "my_sample_query.run(query_string=query_string, output_location='s3://'+default_s3_bucket_name+'/'+prefix+'/query_results/')\n",
    "my_sample_query.wait()\n",
    "dataset = my_sample_query.as_dataframe()\n",
    "\n",
    "dataset"
   ]
  },
  {
   "cell_type": "markdown",
   "id": "ddc01437",
   "metadata": {},
   "source": [
    "## Ingest erroneous data "
   ]
  },
  {
   "cell_type": "markdown",
   "id": "fbcb48e5",
   "metadata": {},
   "source": [
    "### Wrong Feature Type"
   ]
  },
  {
   "cell_type": "code",
   "execution_count": null,
   "id": "8cbf0ae5",
   "metadata": {},
   "outputs": [],
   "source": [
    "d = {'TransactionID': [1, 2, 3], 'TransactionAmt': [\"one\", \"two\", \"three\"], 'card': [\"mastercard\",\"visa\",\"diners\"]}\n",
    "my_erroneous_sample_data = pd.DataFrame(data=d)\n",
    "my_erroneous_sample_data"
   ]
  },
  {
   "cell_type": "code",
   "execution_count": null,
   "id": "8c9e369d",
   "metadata": {},
   "outputs": [],
   "source": [
    "cast_object_to_string(my_erroneous_sample_data)\n",
    "cast_object_to_string(my_sample_data)\n",
    "my_erroneous_sample_data"
   ]
  },
  {
   "cell_type": "markdown",
   "id": "f8300854",
   "metadata": {},
   "source": [
    "#### PutRecords into FeatureGroup\n",
    "\n",
    "We will now put the erroneous data into the FeatureGroups by using the PutRecord API"
   ]
  },
  {
   "cell_type": "code",
   "execution_count": null,
   "id": "098f9b9a",
   "metadata": {},
   "outputs": [],
   "source": [
    "my_sample_feature_group.ingest(\n",
    "    data_frame=my_erroneous_sample_data, max_workers=1, wait=True\n",
    ")"
   ]
  },
  {
   "cell_type": "markdown",
   "id": "c4604bbd",
   "metadata": {},
   "source": [
    "### Null Values"
   ]
  },
  {
   "cell_type": "code",
   "execution_count": null,
   "id": "355d6961",
   "metadata": {},
   "outputs": [],
   "source": [
    "my_erroneous_sample_data['TransactionAmt']=None\n",
    "my_erroneous_sample_data"
   ]
  },
  {
   "cell_type": "code",
   "execution_count": null,
   "id": "5322e8b9",
   "metadata": {},
   "outputs": [],
   "source": [
    "my_sample_feature_group.ingest(\n",
    "    data_frame=my_erroneous_sample_data, max_workers=1, wait=True\n",
    ")"
   ]
  },
  {
   "cell_type": "markdown",
   "id": "feb65a18",
   "metadata": {},
   "source": [
    "## Cleanup Resources"
   ]
  },
  {
   "cell_type": "code",
   "execution_count": null,
   "id": "f931b0f4",
   "metadata": {},
   "outputs": [],
   "source": [
    "my_sample_feature_group.delete()"
   ]
  },
  {
   "cell_type": "code",
   "execution_count": null,
   "id": "bf9e2afc",
   "metadata": {},
   "outputs": [],
   "source": []
  }
 ],
 "metadata": {
  "kernelspec": {
   "display_name": "conda_python3",
   "language": "python",
   "name": "conda_python3"
  },
  "language_info": {
   "codemirror_mode": {
    "name": "ipython",
    "version": 3
   },
   "file_extension": ".py",
   "mimetype": "text/x-python",
   "name": "python",
   "nbconvert_exporter": "python",
   "pygments_lexer": "ipython3",
   "version": "3.6.13"
  }
 },
 "nbformat": 4,
 "nbformat_minor": 5
}
