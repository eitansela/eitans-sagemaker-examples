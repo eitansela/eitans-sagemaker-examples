{
 "cells": [
  {
   "attachments": {},
   "cell_type": "markdown",
   "id": "a82c3a70-d50a-4856-863b-f02feb59f6f7",
   "metadata": {},
   "source": [
    "# SageMaker Hello World\n",
    "\n",
    "## prerequisites\n",
    "- You must install SageMaker Python SDK.\n",
    "- Create SageMaker Execution Role."
   ]
  },
  {
   "attachments": {},
   "cell_type": "markdown",
   "id": "02d64a07",
   "metadata": {},
   "source": [
    "## Install SageMaker Python SDK"
   ]
  },
  {
   "cell_type": "code",
   "execution_count": null,
   "id": "e19107e1",
   "metadata": {},
   "outputs": [],
   "source": [
    "!pip install sagemaker -U"
   ]
  },
  {
   "cell_type": "markdown",
   "id": "99caf596",
   "metadata": {},
   "source": [
    "## Create SageMaker Execution Role"
   ]
  },
  {
   "cell_type": "code",
   "execution_count": null,
   "id": "4a9a7244",
   "metadata": {},
   "outputs": [],
   "source": [
    "!bash create-sagemaker-role.sh"
   ]
  },
  {
   "cell_type": "code",
   "execution_count": null,
   "id": "52b9477c",
   "metadata": {},
   "outputs": [],
   "source": [
    "role = \"AmazonSageMaker-ExecutionRole-Base\""
   ]
  },
  {
   "cell_type": "markdown",
   "id": "85f78ff4",
   "metadata": {},
   "source": [
    "## Run the SageMaker Training Job"
   ]
  },
  {
   "cell_type": "code",
   "execution_count": null,
   "id": "e6650e73",
   "metadata": {},
   "outputs": [],
   "source": [
    "from sagemaker.sklearn.estimator import SKLearn"
   ]
  },
  {
   "cell_type": "code",
   "execution_count": null,
   "id": "85d337fa-0936-4560-bb81-c8f2a8596780",
   "metadata": {
    "tags": []
   },
   "outputs": [],
   "source": [
    "estimator = SKLearn(\n",
    "    entry_point=\"train.py\",\n",
    "    source_dir=\"code\",\n",
    "    role=role,\n",
    "    framework_version=\"1.0-1\",\n",
    "    instance_type=\"ml.c5.xlarge\",\n",
    "    keep_alive_period_in_seconds=3600,\n",
    ")"
   ]
  },
  {
   "cell_type": "code",
   "execution_count": null,
   "id": "4a18ca25-ec06-47cc-9017-47554ee7f109",
   "metadata": {
    "tags": []
   },
   "outputs": [],
   "source": [
    "estimator.fit()"
   ]
  },
  {
   "cell_type": "code",
   "execution_count": null,
   "id": "d510a6b1-5c51-42eb-b649-022f549e790b",
   "metadata": {},
   "outputs": [],
   "source": []
  }
 ],
 "metadata": {
  "instance_type": "ml.t3.medium",
  "kernelspec": {
   "display_name": "Python 3",
   "language": "python",
   "name": "python3"
  },
  "language_info": {
   "codemirror_mode": {
    "name": "ipython",
    "version": 3
   },
   "file_extension": ".py",
   "mimetype": "text/x-python",
   "name": "python",
   "nbconvert_exporter": "python",
   "pygments_lexer": "ipython3",
   "version": "3.8.13"
  },
  "vscode": {
   "interpreter": {
    "hash": "de0ad725d86f884e6e2bd0492eb26325ebf4e74e553faad8bf0d1d5196e45a99"
   }
  }
 },
 "nbformat": 4,
 "nbformat_minor": 5
}
